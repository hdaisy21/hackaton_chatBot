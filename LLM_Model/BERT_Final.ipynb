{
  "nbformat": 4,
  "nbformat_minor": 0,
  "metadata": {
    "colab": {
      "provenance": []
    },
    "kernelspec": {
      "name": "python3",
      "display_name": "Python 3"
    },
    "language_info": {
      "name": "python"
    },
    "widgets": {
      "application/vnd.jupyter.widget-state+json": {
        "ee07389da2c7477280fbf029d86de6a2": {
          "model_module": "@jupyter-widgets/controls",
          "model_name": "HBoxModel",
          "model_module_version": "1.5.0",
          "state": {
            "_dom_classes": [],
            "_model_module": "@jupyter-widgets/controls",
            "_model_module_version": "1.5.0",
            "_model_name": "HBoxModel",
            "_view_count": null,
            "_view_module": "@jupyter-widgets/controls",
            "_view_module_version": "1.5.0",
            "_view_name": "HBoxView",
            "box_style": "",
            "children": [
              "IPY_MODEL_5b9feab705c44776998259ea4e1374af",
              "IPY_MODEL_0de125bb3a8e47fcab863b097e8338da",
              "IPY_MODEL_ceef9177518546f98b97a642bcf623a0"
            ],
            "layout": "IPY_MODEL_426543d4ce504fceaa1b1a1e8ec3499a"
          }
        },
        "5b9feab705c44776998259ea4e1374af": {
          "model_module": "@jupyter-widgets/controls",
          "model_name": "HTMLModel",
          "model_module_version": "1.5.0",
          "state": {
            "_dom_classes": [],
            "_model_module": "@jupyter-widgets/controls",
            "_model_module_version": "1.5.0",
            "_model_name": "HTMLModel",
            "_view_count": null,
            "_view_module": "@jupyter-widgets/controls",
            "_view_module_version": "1.5.0",
            "_view_name": "HTMLView",
            "description": "",
            "description_tooltip": null,
            "layout": "IPY_MODEL_782a9f44ba1847bfbe081c5178379d30",
            "placeholder": "​",
            "style": "IPY_MODEL_3dc7b778f7864b75bceaa10e3eca01ac",
            "value": "tokenizer_config.json: 100%"
          }
        },
        "0de125bb3a8e47fcab863b097e8338da": {
          "model_module": "@jupyter-widgets/controls",
          "model_name": "FloatProgressModel",
          "model_module_version": "1.5.0",
          "state": {
            "_dom_classes": [],
            "_model_module": "@jupyter-widgets/controls",
            "_model_module_version": "1.5.0",
            "_model_name": "FloatProgressModel",
            "_view_count": null,
            "_view_module": "@jupyter-widgets/controls",
            "_view_module_version": "1.5.0",
            "_view_name": "ProgressView",
            "bar_style": "success",
            "description": "",
            "description_tooltip": null,
            "layout": "IPY_MODEL_37632b23022a47b6b417e921c17e4ef2",
            "max": 48,
            "min": 0,
            "orientation": "horizontal",
            "style": "IPY_MODEL_dfc68aa9aa50472f9494db9083004022",
            "value": 48
          }
        },
        "ceef9177518546f98b97a642bcf623a0": {
          "model_module": "@jupyter-widgets/controls",
          "model_name": "HTMLModel",
          "model_module_version": "1.5.0",
          "state": {
            "_dom_classes": [],
            "_model_module": "@jupyter-widgets/controls",
            "_model_module_version": "1.5.0",
            "_model_name": "HTMLModel",
            "_view_count": null,
            "_view_module": "@jupyter-widgets/controls",
            "_view_module_version": "1.5.0",
            "_view_name": "HTMLView",
            "description": "",
            "description_tooltip": null,
            "layout": "IPY_MODEL_b7850bb0ec4a442d8282f09cecf3b5d3",
            "placeholder": "​",
            "style": "IPY_MODEL_134ddc299fe64229bfd135376872695b",
            "value": " 48.0/48.0 [00:00&lt;00:00, 1.35kB/s]"
          }
        },
        "426543d4ce504fceaa1b1a1e8ec3499a": {
          "model_module": "@jupyter-widgets/base",
          "model_name": "LayoutModel",
          "model_module_version": "1.2.0",
          "state": {
            "_model_module": "@jupyter-widgets/base",
            "_model_module_version": "1.2.0",
            "_model_name": "LayoutModel",
            "_view_count": null,
            "_view_module": "@jupyter-widgets/base",
            "_view_module_version": "1.2.0",
            "_view_name": "LayoutView",
            "align_content": null,
            "align_items": null,
            "align_self": null,
            "border": null,
            "bottom": null,
            "display": null,
            "flex": null,
            "flex_flow": null,
            "grid_area": null,
            "grid_auto_columns": null,
            "grid_auto_flow": null,
            "grid_auto_rows": null,
            "grid_column": null,
            "grid_gap": null,
            "grid_row": null,
            "grid_template_areas": null,
            "grid_template_columns": null,
            "grid_template_rows": null,
            "height": null,
            "justify_content": null,
            "justify_items": null,
            "left": null,
            "margin": null,
            "max_height": null,
            "max_width": null,
            "min_height": null,
            "min_width": null,
            "object_fit": null,
            "object_position": null,
            "order": null,
            "overflow": null,
            "overflow_x": null,
            "overflow_y": null,
            "padding": null,
            "right": null,
            "top": null,
            "visibility": null,
            "width": null
          }
        },
        "782a9f44ba1847bfbe081c5178379d30": {
          "model_module": "@jupyter-widgets/base",
          "model_name": "LayoutModel",
          "model_module_version": "1.2.0",
          "state": {
            "_model_module": "@jupyter-widgets/base",
            "_model_module_version": "1.2.0",
            "_model_name": "LayoutModel",
            "_view_count": null,
            "_view_module": "@jupyter-widgets/base",
            "_view_module_version": "1.2.0",
            "_view_name": "LayoutView",
            "align_content": null,
            "align_items": null,
            "align_self": null,
            "border": null,
            "bottom": null,
            "display": null,
            "flex": null,
            "flex_flow": null,
            "grid_area": null,
            "grid_auto_columns": null,
            "grid_auto_flow": null,
            "grid_auto_rows": null,
            "grid_column": null,
            "grid_gap": null,
            "grid_row": null,
            "grid_template_areas": null,
            "grid_template_columns": null,
            "grid_template_rows": null,
            "height": null,
            "justify_content": null,
            "justify_items": null,
            "left": null,
            "margin": null,
            "max_height": null,
            "max_width": null,
            "min_height": null,
            "min_width": null,
            "object_fit": null,
            "object_position": null,
            "order": null,
            "overflow": null,
            "overflow_x": null,
            "overflow_y": null,
            "padding": null,
            "right": null,
            "top": null,
            "visibility": null,
            "width": null
          }
        },
        "3dc7b778f7864b75bceaa10e3eca01ac": {
          "model_module": "@jupyter-widgets/controls",
          "model_name": "DescriptionStyleModel",
          "model_module_version": "1.5.0",
          "state": {
            "_model_module": "@jupyter-widgets/controls",
            "_model_module_version": "1.5.0",
            "_model_name": "DescriptionStyleModel",
            "_view_count": null,
            "_view_module": "@jupyter-widgets/base",
            "_view_module_version": "1.2.0",
            "_view_name": "StyleView",
            "description_width": ""
          }
        },
        "37632b23022a47b6b417e921c17e4ef2": {
          "model_module": "@jupyter-widgets/base",
          "model_name": "LayoutModel",
          "model_module_version": "1.2.0",
          "state": {
            "_model_module": "@jupyter-widgets/base",
            "_model_module_version": "1.2.0",
            "_model_name": "LayoutModel",
            "_view_count": null,
            "_view_module": "@jupyter-widgets/base",
            "_view_module_version": "1.2.0",
            "_view_name": "LayoutView",
            "align_content": null,
            "align_items": null,
            "align_self": null,
            "border": null,
            "bottom": null,
            "display": null,
            "flex": null,
            "flex_flow": null,
            "grid_area": null,
            "grid_auto_columns": null,
            "grid_auto_flow": null,
            "grid_auto_rows": null,
            "grid_column": null,
            "grid_gap": null,
            "grid_row": null,
            "grid_template_areas": null,
            "grid_template_columns": null,
            "grid_template_rows": null,
            "height": null,
            "justify_content": null,
            "justify_items": null,
            "left": null,
            "margin": null,
            "max_height": null,
            "max_width": null,
            "min_height": null,
            "min_width": null,
            "object_fit": null,
            "object_position": null,
            "order": null,
            "overflow": null,
            "overflow_x": null,
            "overflow_y": null,
            "padding": null,
            "right": null,
            "top": null,
            "visibility": null,
            "width": null
          }
        },
        "dfc68aa9aa50472f9494db9083004022": {
          "model_module": "@jupyter-widgets/controls",
          "model_name": "ProgressStyleModel",
          "model_module_version": "1.5.0",
          "state": {
            "_model_module": "@jupyter-widgets/controls",
            "_model_module_version": "1.5.0",
            "_model_name": "ProgressStyleModel",
            "_view_count": null,
            "_view_module": "@jupyter-widgets/base",
            "_view_module_version": "1.2.0",
            "_view_name": "StyleView",
            "bar_color": null,
            "description_width": ""
          }
        },
        "b7850bb0ec4a442d8282f09cecf3b5d3": {
          "model_module": "@jupyter-widgets/base",
          "model_name": "LayoutModel",
          "model_module_version": "1.2.0",
          "state": {
            "_model_module": "@jupyter-widgets/base",
            "_model_module_version": "1.2.0",
            "_model_name": "LayoutModel",
            "_view_count": null,
            "_view_module": "@jupyter-widgets/base",
            "_view_module_version": "1.2.0",
            "_view_name": "LayoutView",
            "align_content": null,
            "align_items": null,
            "align_self": null,
            "border": null,
            "bottom": null,
            "display": null,
            "flex": null,
            "flex_flow": null,
            "grid_area": null,
            "grid_auto_columns": null,
            "grid_auto_flow": null,
            "grid_auto_rows": null,
            "grid_column": null,
            "grid_gap": null,
            "grid_row": null,
            "grid_template_areas": null,
            "grid_template_columns": null,
            "grid_template_rows": null,
            "height": null,
            "justify_content": null,
            "justify_items": null,
            "left": null,
            "margin": null,
            "max_height": null,
            "max_width": null,
            "min_height": null,
            "min_width": null,
            "object_fit": null,
            "object_position": null,
            "order": null,
            "overflow": null,
            "overflow_x": null,
            "overflow_y": null,
            "padding": null,
            "right": null,
            "top": null,
            "visibility": null,
            "width": null
          }
        },
        "134ddc299fe64229bfd135376872695b": {
          "model_module": "@jupyter-widgets/controls",
          "model_name": "DescriptionStyleModel",
          "model_module_version": "1.5.0",
          "state": {
            "_model_module": "@jupyter-widgets/controls",
            "_model_module_version": "1.5.0",
            "_model_name": "DescriptionStyleModel",
            "_view_count": null,
            "_view_module": "@jupyter-widgets/base",
            "_view_module_version": "1.2.0",
            "_view_name": "StyleView",
            "description_width": ""
          }
        },
        "5d89a3a40ab5468daa15e1fb2a1795b0": {
          "model_module": "@jupyter-widgets/controls",
          "model_name": "HBoxModel",
          "model_module_version": "1.5.0",
          "state": {
            "_dom_classes": [],
            "_model_module": "@jupyter-widgets/controls",
            "_model_module_version": "1.5.0",
            "_model_name": "HBoxModel",
            "_view_count": null,
            "_view_module": "@jupyter-widgets/controls",
            "_view_module_version": "1.5.0",
            "_view_name": "HBoxView",
            "box_style": "",
            "children": [
              "IPY_MODEL_bc480c8c5fbd465295a55812471c9442",
              "IPY_MODEL_9ce3370800f941149acbe0951c9a2e8d",
              "IPY_MODEL_2564e92fac394962ba0f69b2d7896731"
            ],
            "layout": "IPY_MODEL_9169112c7ab040ebbbb9fa9e8c2aea87"
          }
        },
        "bc480c8c5fbd465295a55812471c9442": {
          "model_module": "@jupyter-widgets/controls",
          "model_name": "HTMLModel",
          "model_module_version": "1.5.0",
          "state": {
            "_dom_classes": [],
            "_model_module": "@jupyter-widgets/controls",
            "_model_module_version": "1.5.0",
            "_model_name": "HTMLModel",
            "_view_count": null,
            "_view_module": "@jupyter-widgets/controls",
            "_view_module_version": "1.5.0",
            "_view_name": "HTMLView",
            "description": "",
            "description_tooltip": null,
            "layout": "IPY_MODEL_34e4ad90a771486e9a8bde29601967bc",
            "placeholder": "​",
            "style": "IPY_MODEL_2c9098d22cb94b23aeeaad51605fb83e",
            "value": "vocab.txt: 100%"
          }
        },
        "9ce3370800f941149acbe0951c9a2e8d": {
          "model_module": "@jupyter-widgets/controls",
          "model_name": "FloatProgressModel",
          "model_module_version": "1.5.0",
          "state": {
            "_dom_classes": [],
            "_model_module": "@jupyter-widgets/controls",
            "_model_module_version": "1.5.0",
            "_model_name": "FloatProgressModel",
            "_view_count": null,
            "_view_module": "@jupyter-widgets/controls",
            "_view_module_version": "1.5.0",
            "_view_name": "ProgressView",
            "bar_style": "success",
            "description": "",
            "description_tooltip": null,
            "layout": "IPY_MODEL_95306acc10e44a8385de25d90df6b543",
            "max": 231508,
            "min": 0,
            "orientation": "horizontal",
            "style": "IPY_MODEL_7acee11aad9e420f8756a16a04543dab",
            "value": 231508
          }
        },
        "2564e92fac394962ba0f69b2d7896731": {
          "model_module": "@jupyter-widgets/controls",
          "model_name": "HTMLModel",
          "model_module_version": "1.5.0",
          "state": {
            "_dom_classes": [],
            "_model_module": "@jupyter-widgets/controls",
            "_model_module_version": "1.5.0",
            "_model_name": "HTMLModel",
            "_view_count": null,
            "_view_module": "@jupyter-widgets/controls",
            "_view_module_version": "1.5.0",
            "_view_name": "HTMLView",
            "description": "",
            "description_tooltip": null,
            "layout": "IPY_MODEL_437494214eca4f23b4c32f2945d277da",
            "placeholder": "​",
            "style": "IPY_MODEL_f9e209c64a104d79bd39ca884c12b1b8",
            "value": " 232k/232k [00:00&lt;00:00, 3.13MB/s]"
          }
        },
        "9169112c7ab040ebbbb9fa9e8c2aea87": {
          "model_module": "@jupyter-widgets/base",
          "model_name": "LayoutModel",
          "model_module_version": "1.2.0",
          "state": {
            "_model_module": "@jupyter-widgets/base",
            "_model_module_version": "1.2.0",
            "_model_name": "LayoutModel",
            "_view_count": null,
            "_view_module": "@jupyter-widgets/base",
            "_view_module_version": "1.2.0",
            "_view_name": "LayoutView",
            "align_content": null,
            "align_items": null,
            "align_self": null,
            "border": null,
            "bottom": null,
            "display": null,
            "flex": null,
            "flex_flow": null,
            "grid_area": null,
            "grid_auto_columns": null,
            "grid_auto_flow": null,
            "grid_auto_rows": null,
            "grid_column": null,
            "grid_gap": null,
            "grid_row": null,
            "grid_template_areas": null,
            "grid_template_columns": null,
            "grid_template_rows": null,
            "height": null,
            "justify_content": null,
            "justify_items": null,
            "left": null,
            "margin": null,
            "max_height": null,
            "max_width": null,
            "min_height": null,
            "min_width": null,
            "object_fit": null,
            "object_position": null,
            "order": null,
            "overflow": null,
            "overflow_x": null,
            "overflow_y": null,
            "padding": null,
            "right": null,
            "top": null,
            "visibility": null,
            "width": null
          }
        },
        "34e4ad90a771486e9a8bde29601967bc": {
          "model_module": "@jupyter-widgets/base",
          "model_name": "LayoutModel",
          "model_module_version": "1.2.0",
          "state": {
            "_model_module": "@jupyter-widgets/base",
            "_model_module_version": "1.2.0",
            "_model_name": "LayoutModel",
            "_view_count": null,
            "_view_module": "@jupyter-widgets/base",
            "_view_module_version": "1.2.0",
            "_view_name": "LayoutView",
            "align_content": null,
            "align_items": null,
            "align_self": null,
            "border": null,
            "bottom": null,
            "display": null,
            "flex": null,
            "flex_flow": null,
            "grid_area": null,
            "grid_auto_columns": null,
            "grid_auto_flow": null,
            "grid_auto_rows": null,
            "grid_column": null,
            "grid_gap": null,
            "grid_row": null,
            "grid_template_areas": null,
            "grid_template_columns": null,
            "grid_template_rows": null,
            "height": null,
            "justify_content": null,
            "justify_items": null,
            "left": null,
            "margin": null,
            "max_height": null,
            "max_width": null,
            "min_height": null,
            "min_width": null,
            "object_fit": null,
            "object_position": null,
            "order": null,
            "overflow": null,
            "overflow_x": null,
            "overflow_y": null,
            "padding": null,
            "right": null,
            "top": null,
            "visibility": null,
            "width": null
          }
        },
        "2c9098d22cb94b23aeeaad51605fb83e": {
          "model_module": "@jupyter-widgets/controls",
          "model_name": "DescriptionStyleModel",
          "model_module_version": "1.5.0",
          "state": {
            "_model_module": "@jupyter-widgets/controls",
            "_model_module_version": "1.5.0",
            "_model_name": "DescriptionStyleModel",
            "_view_count": null,
            "_view_module": "@jupyter-widgets/base",
            "_view_module_version": "1.2.0",
            "_view_name": "StyleView",
            "description_width": ""
          }
        },
        "95306acc10e44a8385de25d90df6b543": {
          "model_module": "@jupyter-widgets/base",
          "model_name": "LayoutModel",
          "model_module_version": "1.2.0",
          "state": {
            "_model_module": "@jupyter-widgets/base",
            "_model_module_version": "1.2.0",
            "_model_name": "LayoutModel",
            "_view_count": null,
            "_view_module": "@jupyter-widgets/base",
            "_view_module_version": "1.2.0",
            "_view_name": "LayoutView",
            "align_content": null,
            "align_items": null,
            "align_self": null,
            "border": null,
            "bottom": null,
            "display": null,
            "flex": null,
            "flex_flow": null,
            "grid_area": null,
            "grid_auto_columns": null,
            "grid_auto_flow": null,
            "grid_auto_rows": null,
            "grid_column": null,
            "grid_gap": null,
            "grid_row": null,
            "grid_template_areas": null,
            "grid_template_columns": null,
            "grid_template_rows": null,
            "height": null,
            "justify_content": null,
            "justify_items": null,
            "left": null,
            "margin": null,
            "max_height": null,
            "max_width": null,
            "min_height": null,
            "min_width": null,
            "object_fit": null,
            "object_position": null,
            "order": null,
            "overflow": null,
            "overflow_x": null,
            "overflow_y": null,
            "padding": null,
            "right": null,
            "top": null,
            "visibility": null,
            "width": null
          }
        },
        "7acee11aad9e420f8756a16a04543dab": {
          "model_module": "@jupyter-widgets/controls",
          "model_name": "ProgressStyleModel",
          "model_module_version": "1.5.0",
          "state": {
            "_model_module": "@jupyter-widgets/controls",
            "_model_module_version": "1.5.0",
            "_model_name": "ProgressStyleModel",
            "_view_count": null,
            "_view_module": "@jupyter-widgets/base",
            "_view_module_version": "1.2.0",
            "_view_name": "StyleView",
            "bar_color": null,
            "description_width": ""
          }
        },
        "437494214eca4f23b4c32f2945d277da": {
          "model_module": "@jupyter-widgets/base",
          "model_name": "LayoutModel",
          "model_module_version": "1.2.0",
          "state": {
            "_model_module": "@jupyter-widgets/base",
            "_model_module_version": "1.2.0",
            "_model_name": "LayoutModel",
            "_view_count": null,
            "_view_module": "@jupyter-widgets/base",
            "_view_module_version": "1.2.0",
            "_view_name": "LayoutView",
            "align_content": null,
            "align_items": null,
            "align_self": null,
            "border": null,
            "bottom": null,
            "display": null,
            "flex": null,
            "flex_flow": null,
            "grid_area": null,
            "grid_auto_columns": null,
            "grid_auto_flow": null,
            "grid_auto_rows": null,
            "grid_column": null,
            "grid_gap": null,
            "grid_row": null,
            "grid_template_areas": null,
            "grid_template_columns": null,
            "grid_template_rows": null,
            "height": null,
            "justify_content": null,
            "justify_items": null,
            "left": null,
            "margin": null,
            "max_height": null,
            "max_width": null,
            "min_height": null,
            "min_width": null,
            "object_fit": null,
            "object_position": null,
            "order": null,
            "overflow": null,
            "overflow_x": null,
            "overflow_y": null,
            "padding": null,
            "right": null,
            "top": null,
            "visibility": null,
            "width": null
          }
        },
        "f9e209c64a104d79bd39ca884c12b1b8": {
          "model_module": "@jupyter-widgets/controls",
          "model_name": "DescriptionStyleModel",
          "model_module_version": "1.5.0",
          "state": {
            "_model_module": "@jupyter-widgets/controls",
            "_model_module_version": "1.5.0",
            "_model_name": "DescriptionStyleModel",
            "_view_count": null,
            "_view_module": "@jupyter-widgets/base",
            "_view_module_version": "1.2.0",
            "_view_name": "StyleView",
            "description_width": ""
          }
        },
        "179f618e5c5046e58b0b6af8f4783804": {
          "model_module": "@jupyter-widgets/controls",
          "model_name": "HBoxModel",
          "model_module_version": "1.5.0",
          "state": {
            "_dom_classes": [],
            "_model_module": "@jupyter-widgets/controls",
            "_model_module_version": "1.5.0",
            "_model_name": "HBoxModel",
            "_view_count": null,
            "_view_module": "@jupyter-widgets/controls",
            "_view_module_version": "1.5.0",
            "_view_name": "HBoxView",
            "box_style": "",
            "children": [
              "IPY_MODEL_d0934c3a4ae54b49a8410eaa235c8001",
              "IPY_MODEL_10540965bc7d48b1833452f5abc068f0",
              "IPY_MODEL_b1440a72f4de4b8f9a4994e6008a6a69"
            ],
            "layout": "IPY_MODEL_4ffb14bfb73e4102a38f177d1c5cdb61"
          }
        },
        "d0934c3a4ae54b49a8410eaa235c8001": {
          "model_module": "@jupyter-widgets/controls",
          "model_name": "HTMLModel",
          "model_module_version": "1.5.0",
          "state": {
            "_dom_classes": [],
            "_model_module": "@jupyter-widgets/controls",
            "_model_module_version": "1.5.0",
            "_model_name": "HTMLModel",
            "_view_count": null,
            "_view_module": "@jupyter-widgets/controls",
            "_view_module_version": "1.5.0",
            "_view_name": "HTMLView",
            "description": "",
            "description_tooltip": null,
            "layout": "IPY_MODEL_ab02f7e92d3843e88b074eb46f41459c",
            "placeholder": "​",
            "style": "IPY_MODEL_8be229a55dd64ea7b476e77527d1fca5",
            "value": "tokenizer.json: 100%"
          }
        },
        "10540965bc7d48b1833452f5abc068f0": {
          "model_module": "@jupyter-widgets/controls",
          "model_name": "FloatProgressModel",
          "model_module_version": "1.5.0",
          "state": {
            "_dom_classes": [],
            "_model_module": "@jupyter-widgets/controls",
            "_model_module_version": "1.5.0",
            "_model_name": "FloatProgressModel",
            "_view_count": null,
            "_view_module": "@jupyter-widgets/controls",
            "_view_module_version": "1.5.0",
            "_view_name": "ProgressView",
            "bar_style": "success",
            "description": "",
            "description_tooltip": null,
            "layout": "IPY_MODEL_7a146bba7d664558ac1116cd9a97dc91",
            "max": 466062,
            "min": 0,
            "orientation": "horizontal",
            "style": "IPY_MODEL_dd7307b4d3274a64aaa087f6518062c1",
            "value": 466062
          }
        },
        "b1440a72f4de4b8f9a4994e6008a6a69": {
          "model_module": "@jupyter-widgets/controls",
          "model_name": "HTMLModel",
          "model_module_version": "1.5.0",
          "state": {
            "_dom_classes": [],
            "_model_module": "@jupyter-widgets/controls",
            "_model_module_version": "1.5.0",
            "_model_name": "HTMLModel",
            "_view_count": null,
            "_view_module": "@jupyter-widgets/controls",
            "_view_module_version": "1.5.0",
            "_view_name": "HTMLView",
            "description": "",
            "description_tooltip": null,
            "layout": "IPY_MODEL_a746bcb5204f407896b236653d7535db",
            "placeholder": "​",
            "style": "IPY_MODEL_cc612319a5024f60a621ddc0320d7bb1",
            "value": " 466k/466k [00:00&lt;00:00, 5.31MB/s]"
          }
        },
        "4ffb14bfb73e4102a38f177d1c5cdb61": {
          "model_module": "@jupyter-widgets/base",
          "model_name": "LayoutModel",
          "model_module_version": "1.2.0",
          "state": {
            "_model_module": "@jupyter-widgets/base",
            "_model_module_version": "1.2.0",
            "_model_name": "LayoutModel",
            "_view_count": null,
            "_view_module": "@jupyter-widgets/base",
            "_view_module_version": "1.2.0",
            "_view_name": "LayoutView",
            "align_content": null,
            "align_items": null,
            "align_self": null,
            "border": null,
            "bottom": null,
            "display": null,
            "flex": null,
            "flex_flow": null,
            "grid_area": null,
            "grid_auto_columns": null,
            "grid_auto_flow": null,
            "grid_auto_rows": null,
            "grid_column": null,
            "grid_gap": null,
            "grid_row": null,
            "grid_template_areas": null,
            "grid_template_columns": null,
            "grid_template_rows": null,
            "height": null,
            "justify_content": null,
            "justify_items": null,
            "left": null,
            "margin": null,
            "max_height": null,
            "max_width": null,
            "min_height": null,
            "min_width": null,
            "object_fit": null,
            "object_position": null,
            "order": null,
            "overflow": null,
            "overflow_x": null,
            "overflow_y": null,
            "padding": null,
            "right": null,
            "top": null,
            "visibility": null,
            "width": null
          }
        },
        "ab02f7e92d3843e88b074eb46f41459c": {
          "model_module": "@jupyter-widgets/base",
          "model_name": "LayoutModel",
          "model_module_version": "1.2.0",
          "state": {
            "_model_module": "@jupyter-widgets/base",
            "_model_module_version": "1.2.0",
            "_model_name": "LayoutModel",
            "_view_count": null,
            "_view_module": "@jupyter-widgets/base",
            "_view_module_version": "1.2.0",
            "_view_name": "LayoutView",
            "align_content": null,
            "align_items": null,
            "align_self": null,
            "border": null,
            "bottom": null,
            "display": null,
            "flex": null,
            "flex_flow": null,
            "grid_area": null,
            "grid_auto_columns": null,
            "grid_auto_flow": null,
            "grid_auto_rows": null,
            "grid_column": null,
            "grid_gap": null,
            "grid_row": null,
            "grid_template_areas": null,
            "grid_template_columns": null,
            "grid_template_rows": null,
            "height": null,
            "justify_content": null,
            "justify_items": null,
            "left": null,
            "margin": null,
            "max_height": null,
            "max_width": null,
            "min_height": null,
            "min_width": null,
            "object_fit": null,
            "object_position": null,
            "order": null,
            "overflow": null,
            "overflow_x": null,
            "overflow_y": null,
            "padding": null,
            "right": null,
            "top": null,
            "visibility": null,
            "width": null
          }
        },
        "8be229a55dd64ea7b476e77527d1fca5": {
          "model_module": "@jupyter-widgets/controls",
          "model_name": "DescriptionStyleModel",
          "model_module_version": "1.5.0",
          "state": {
            "_model_module": "@jupyter-widgets/controls",
            "_model_module_version": "1.5.0",
            "_model_name": "DescriptionStyleModel",
            "_view_count": null,
            "_view_module": "@jupyter-widgets/base",
            "_view_module_version": "1.2.0",
            "_view_name": "StyleView",
            "description_width": ""
          }
        },
        "7a146bba7d664558ac1116cd9a97dc91": {
          "model_module": "@jupyter-widgets/base",
          "model_name": "LayoutModel",
          "model_module_version": "1.2.0",
          "state": {
            "_model_module": "@jupyter-widgets/base",
            "_model_module_version": "1.2.0",
            "_model_name": "LayoutModel",
            "_view_count": null,
            "_view_module": "@jupyter-widgets/base",
            "_view_module_version": "1.2.0",
            "_view_name": "LayoutView",
            "align_content": null,
            "align_items": null,
            "align_self": null,
            "border": null,
            "bottom": null,
            "display": null,
            "flex": null,
            "flex_flow": null,
            "grid_area": null,
            "grid_auto_columns": null,
            "grid_auto_flow": null,
            "grid_auto_rows": null,
            "grid_column": null,
            "grid_gap": null,
            "grid_row": null,
            "grid_template_areas": null,
            "grid_template_columns": null,
            "grid_template_rows": null,
            "height": null,
            "justify_content": null,
            "justify_items": null,
            "left": null,
            "margin": null,
            "max_height": null,
            "max_width": null,
            "min_height": null,
            "min_width": null,
            "object_fit": null,
            "object_position": null,
            "order": null,
            "overflow": null,
            "overflow_x": null,
            "overflow_y": null,
            "padding": null,
            "right": null,
            "top": null,
            "visibility": null,
            "width": null
          }
        },
        "dd7307b4d3274a64aaa087f6518062c1": {
          "model_module": "@jupyter-widgets/controls",
          "model_name": "ProgressStyleModel",
          "model_module_version": "1.5.0",
          "state": {
            "_model_module": "@jupyter-widgets/controls",
            "_model_module_version": "1.5.0",
            "_model_name": "ProgressStyleModel",
            "_view_count": null,
            "_view_module": "@jupyter-widgets/base",
            "_view_module_version": "1.2.0",
            "_view_name": "StyleView",
            "bar_color": null,
            "description_width": ""
          }
        },
        "a746bcb5204f407896b236653d7535db": {
          "model_module": "@jupyter-widgets/base",
          "model_name": "LayoutModel",
          "model_module_version": "1.2.0",
          "state": {
            "_model_module": "@jupyter-widgets/base",
            "_model_module_version": "1.2.0",
            "_model_name": "LayoutModel",
            "_view_count": null,
            "_view_module": "@jupyter-widgets/base",
            "_view_module_version": "1.2.0",
            "_view_name": "LayoutView",
            "align_content": null,
            "align_items": null,
            "align_self": null,
            "border": null,
            "bottom": null,
            "display": null,
            "flex": null,
            "flex_flow": null,
            "grid_area": null,
            "grid_auto_columns": null,
            "grid_auto_flow": null,
            "grid_auto_rows": null,
            "grid_column": null,
            "grid_gap": null,
            "grid_row": null,
            "grid_template_areas": null,
            "grid_template_columns": null,
            "grid_template_rows": null,
            "height": null,
            "justify_content": null,
            "justify_items": null,
            "left": null,
            "margin": null,
            "max_height": null,
            "max_width": null,
            "min_height": null,
            "min_width": null,
            "object_fit": null,
            "object_position": null,
            "order": null,
            "overflow": null,
            "overflow_x": null,
            "overflow_y": null,
            "padding": null,
            "right": null,
            "top": null,
            "visibility": null,
            "width": null
          }
        },
        "cc612319a5024f60a621ddc0320d7bb1": {
          "model_module": "@jupyter-widgets/controls",
          "model_name": "DescriptionStyleModel",
          "model_module_version": "1.5.0",
          "state": {
            "_model_module": "@jupyter-widgets/controls",
            "_model_module_version": "1.5.0",
            "_model_name": "DescriptionStyleModel",
            "_view_count": null,
            "_view_module": "@jupyter-widgets/base",
            "_view_module_version": "1.2.0",
            "_view_name": "StyleView",
            "description_width": ""
          }
        },
        "e7e558077b464b2ca7f2d8fe8df6c829": {
          "model_module": "@jupyter-widgets/controls",
          "model_name": "HBoxModel",
          "model_module_version": "1.5.0",
          "state": {
            "_dom_classes": [],
            "_model_module": "@jupyter-widgets/controls",
            "_model_module_version": "1.5.0",
            "_model_name": "HBoxModel",
            "_view_count": null,
            "_view_module": "@jupyter-widgets/controls",
            "_view_module_version": "1.5.0",
            "_view_name": "HBoxView",
            "box_style": "",
            "children": [
              "IPY_MODEL_a879968fa21d4826a6592a1d2bd53225",
              "IPY_MODEL_f3d8bb8d78364ea08ec3c9c9679258ac",
              "IPY_MODEL_89b7f311e6f34c00b2c014bffcb77b13"
            ],
            "layout": "IPY_MODEL_12a1145916624ec3a16593127261773b"
          }
        },
        "a879968fa21d4826a6592a1d2bd53225": {
          "model_module": "@jupyter-widgets/controls",
          "model_name": "HTMLModel",
          "model_module_version": "1.5.0",
          "state": {
            "_dom_classes": [],
            "_model_module": "@jupyter-widgets/controls",
            "_model_module_version": "1.5.0",
            "_model_name": "HTMLModel",
            "_view_count": null,
            "_view_module": "@jupyter-widgets/controls",
            "_view_module_version": "1.5.0",
            "_view_name": "HTMLView",
            "description": "",
            "description_tooltip": null,
            "layout": "IPY_MODEL_e3b48997249144b499b4af3ce5a548d8",
            "placeholder": "​",
            "style": "IPY_MODEL_eb7a2942cc824f48bdc5a1e2ed813550",
            "value": "config.json: 100%"
          }
        },
        "f3d8bb8d78364ea08ec3c9c9679258ac": {
          "model_module": "@jupyter-widgets/controls",
          "model_name": "FloatProgressModel",
          "model_module_version": "1.5.0",
          "state": {
            "_dom_classes": [],
            "_model_module": "@jupyter-widgets/controls",
            "_model_module_version": "1.5.0",
            "_model_name": "FloatProgressModel",
            "_view_count": null,
            "_view_module": "@jupyter-widgets/controls",
            "_view_module_version": "1.5.0",
            "_view_name": "ProgressView",
            "bar_style": "success",
            "description": "",
            "description_tooltip": null,
            "layout": "IPY_MODEL_6fa6bb753c1c4e559e09ede84e3f07be",
            "max": 570,
            "min": 0,
            "orientation": "horizontal",
            "style": "IPY_MODEL_e5cf10eaf5b84c8c94140776e904e347",
            "value": 570
          }
        },
        "89b7f311e6f34c00b2c014bffcb77b13": {
          "model_module": "@jupyter-widgets/controls",
          "model_name": "HTMLModel",
          "model_module_version": "1.5.0",
          "state": {
            "_dom_classes": [],
            "_model_module": "@jupyter-widgets/controls",
            "_model_module_version": "1.5.0",
            "_model_name": "HTMLModel",
            "_view_count": null,
            "_view_module": "@jupyter-widgets/controls",
            "_view_module_version": "1.5.0",
            "_view_name": "HTMLView",
            "description": "",
            "description_tooltip": null,
            "layout": "IPY_MODEL_5143e9dc97a9421cab16af1c0d3a09a6",
            "placeholder": "​",
            "style": "IPY_MODEL_39768160c0ad43a6a0bf401db331cc6f",
            "value": " 570/570 [00:00&lt;00:00, 32.2kB/s]"
          }
        },
        "12a1145916624ec3a16593127261773b": {
          "model_module": "@jupyter-widgets/base",
          "model_name": "LayoutModel",
          "model_module_version": "1.2.0",
          "state": {
            "_model_module": "@jupyter-widgets/base",
            "_model_module_version": "1.2.0",
            "_model_name": "LayoutModel",
            "_view_count": null,
            "_view_module": "@jupyter-widgets/base",
            "_view_module_version": "1.2.0",
            "_view_name": "LayoutView",
            "align_content": null,
            "align_items": null,
            "align_self": null,
            "border": null,
            "bottom": null,
            "display": null,
            "flex": null,
            "flex_flow": null,
            "grid_area": null,
            "grid_auto_columns": null,
            "grid_auto_flow": null,
            "grid_auto_rows": null,
            "grid_column": null,
            "grid_gap": null,
            "grid_row": null,
            "grid_template_areas": null,
            "grid_template_columns": null,
            "grid_template_rows": null,
            "height": null,
            "justify_content": null,
            "justify_items": null,
            "left": null,
            "margin": null,
            "max_height": null,
            "max_width": null,
            "min_height": null,
            "min_width": null,
            "object_fit": null,
            "object_position": null,
            "order": null,
            "overflow": null,
            "overflow_x": null,
            "overflow_y": null,
            "padding": null,
            "right": null,
            "top": null,
            "visibility": null,
            "width": null
          }
        },
        "e3b48997249144b499b4af3ce5a548d8": {
          "model_module": "@jupyter-widgets/base",
          "model_name": "LayoutModel",
          "model_module_version": "1.2.0",
          "state": {
            "_model_module": "@jupyter-widgets/base",
            "_model_module_version": "1.2.0",
            "_model_name": "LayoutModel",
            "_view_count": null,
            "_view_module": "@jupyter-widgets/base",
            "_view_module_version": "1.2.0",
            "_view_name": "LayoutView",
            "align_content": null,
            "align_items": null,
            "align_self": null,
            "border": null,
            "bottom": null,
            "display": null,
            "flex": null,
            "flex_flow": null,
            "grid_area": null,
            "grid_auto_columns": null,
            "grid_auto_flow": null,
            "grid_auto_rows": null,
            "grid_column": null,
            "grid_gap": null,
            "grid_row": null,
            "grid_template_areas": null,
            "grid_template_columns": null,
            "grid_template_rows": null,
            "height": null,
            "justify_content": null,
            "justify_items": null,
            "left": null,
            "margin": null,
            "max_height": null,
            "max_width": null,
            "min_height": null,
            "min_width": null,
            "object_fit": null,
            "object_position": null,
            "order": null,
            "overflow": null,
            "overflow_x": null,
            "overflow_y": null,
            "padding": null,
            "right": null,
            "top": null,
            "visibility": null,
            "width": null
          }
        },
        "eb7a2942cc824f48bdc5a1e2ed813550": {
          "model_module": "@jupyter-widgets/controls",
          "model_name": "DescriptionStyleModel",
          "model_module_version": "1.5.0",
          "state": {
            "_model_module": "@jupyter-widgets/controls",
            "_model_module_version": "1.5.0",
            "_model_name": "DescriptionStyleModel",
            "_view_count": null,
            "_view_module": "@jupyter-widgets/base",
            "_view_module_version": "1.2.0",
            "_view_name": "StyleView",
            "description_width": ""
          }
        },
        "6fa6bb753c1c4e559e09ede84e3f07be": {
          "model_module": "@jupyter-widgets/base",
          "model_name": "LayoutModel",
          "model_module_version": "1.2.0",
          "state": {
            "_model_module": "@jupyter-widgets/base",
            "_model_module_version": "1.2.0",
            "_model_name": "LayoutModel",
            "_view_count": null,
            "_view_module": "@jupyter-widgets/base",
            "_view_module_version": "1.2.0",
            "_view_name": "LayoutView",
            "align_content": null,
            "align_items": null,
            "align_self": null,
            "border": null,
            "bottom": null,
            "display": null,
            "flex": null,
            "flex_flow": null,
            "grid_area": null,
            "grid_auto_columns": null,
            "grid_auto_flow": null,
            "grid_auto_rows": null,
            "grid_column": null,
            "grid_gap": null,
            "grid_row": null,
            "grid_template_areas": null,
            "grid_template_columns": null,
            "grid_template_rows": null,
            "height": null,
            "justify_content": null,
            "justify_items": null,
            "left": null,
            "margin": null,
            "max_height": null,
            "max_width": null,
            "min_height": null,
            "min_width": null,
            "object_fit": null,
            "object_position": null,
            "order": null,
            "overflow": null,
            "overflow_x": null,
            "overflow_y": null,
            "padding": null,
            "right": null,
            "top": null,
            "visibility": null,
            "width": null
          }
        },
        "e5cf10eaf5b84c8c94140776e904e347": {
          "model_module": "@jupyter-widgets/controls",
          "model_name": "ProgressStyleModel",
          "model_module_version": "1.5.0",
          "state": {
            "_model_module": "@jupyter-widgets/controls",
            "_model_module_version": "1.5.0",
            "_model_name": "ProgressStyleModel",
            "_view_count": null,
            "_view_module": "@jupyter-widgets/base",
            "_view_module_version": "1.2.0",
            "_view_name": "StyleView",
            "bar_color": null,
            "description_width": ""
          }
        },
        "5143e9dc97a9421cab16af1c0d3a09a6": {
          "model_module": "@jupyter-widgets/base",
          "model_name": "LayoutModel",
          "model_module_version": "1.2.0",
          "state": {
            "_model_module": "@jupyter-widgets/base",
            "_model_module_version": "1.2.0",
            "_model_name": "LayoutModel",
            "_view_count": null,
            "_view_module": "@jupyter-widgets/base",
            "_view_module_version": "1.2.0",
            "_view_name": "LayoutView",
            "align_content": null,
            "align_items": null,
            "align_self": null,
            "border": null,
            "bottom": null,
            "display": null,
            "flex": null,
            "flex_flow": null,
            "grid_area": null,
            "grid_auto_columns": null,
            "grid_auto_flow": null,
            "grid_auto_rows": null,
            "grid_column": null,
            "grid_gap": null,
            "grid_row": null,
            "grid_template_areas": null,
            "grid_template_columns": null,
            "grid_template_rows": null,
            "height": null,
            "justify_content": null,
            "justify_items": null,
            "left": null,
            "margin": null,
            "max_height": null,
            "max_width": null,
            "min_height": null,
            "min_width": null,
            "object_fit": null,
            "object_position": null,
            "order": null,
            "overflow": null,
            "overflow_x": null,
            "overflow_y": null,
            "padding": null,
            "right": null,
            "top": null,
            "visibility": null,
            "width": null
          }
        },
        "39768160c0ad43a6a0bf401db331cc6f": {
          "model_module": "@jupyter-widgets/controls",
          "model_name": "DescriptionStyleModel",
          "model_module_version": "1.5.0",
          "state": {
            "_model_module": "@jupyter-widgets/controls",
            "_model_module_version": "1.5.0",
            "_model_name": "DescriptionStyleModel",
            "_view_count": null,
            "_view_module": "@jupyter-widgets/base",
            "_view_module_version": "1.2.0",
            "_view_name": "StyleView",
            "description_width": ""
          }
        },
        "98128ba5c22247c085b50be22159ed88": {
          "model_module": "@jupyter-widgets/controls",
          "model_name": "HBoxModel",
          "model_module_version": "1.5.0",
          "state": {
            "_dom_classes": [],
            "_model_module": "@jupyter-widgets/controls",
            "_model_module_version": "1.5.0",
            "_model_name": "HBoxModel",
            "_view_count": null,
            "_view_module": "@jupyter-widgets/controls",
            "_view_module_version": "1.5.0",
            "_view_name": "HBoxView",
            "box_style": "",
            "children": [
              "IPY_MODEL_2048298e7bc4481184b4e50461948f53",
              "IPY_MODEL_f400a178eb4642d48afa690e7a2e14d5",
              "IPY_MODEL_a494da5e066c4f9bb516aff6bd84e098"
            ],
            "layout": "IPY_MODEL_fec543a33d104ff8add9a37aa32e8fa7"
          }
        },
        "2048298e7bc4481184b4e50461948f53": {
          "model_module": "@jupyter-widgets/controls",
          "model_name": "HTMLModel",
          "model_module_version": "1.5.0",
          "state": {
            "_dom_classes": [],
            "_model_module": "@jupyter-widgets/controls",
            "_model_module_version": "1.5.0",
            "_model_name": "HTMLModel",
            "_view_count": null,
            "_view_module": "@jupyter-widgets/controls",
            "_view_module_version": "1.5.0",
            "_view_name": "HTMLView",
            "description": "",
            "description_tooltip": null,
            "layout": "IPY_MODEL_157614d3a1ad4b79af3ec0f5e68df4ee",
            "placeholder": "​",
            "style": "IPY_MODEL_c803df4ab6b745cb8ee4e40b815df606",
            "value": "model.safetensors: 100%"
          }
        },
        "f400a178eb4642d48afa690e7a2e14d5": {
          "model_module": "@jupyter-widgets/controls",
          "model_name": "FloatProgressModel",
          "model_module_version": "1.5.0",
          "state": {
            "_dom_classes": [],
            "_model_module": "@jupyter-widgets/controls",
            "_model_module_version": "1.5.0",
            "_model_name": "FloatProgressModel",
            "_view_count": null,
            "_view_module": "@jupyter-widgets/controls",
            "_view_module_version": "1.5.0",
            "_view_name": "ProgressView",
            "bar_style": "success",
            "description": "",
            "description_tooltip": null,
            "layout": "IPY_MODEL_b9fc3eb8c6d64ca2a141fee8d8a13e38",
            "max": 440449768,
            "min": 0,
            "orientation": "horizontal",
            "style": "IPY_MODEL_e1259b5fc49a405bbd7a1297f3115215",
            "value": 440449768
          }
        },
        "a494da5e066c4f9bb516aff6bd84e098": {
          "model_module": "@jupyter-widgets/controls",
          "model_name": "HTMLModel",
          "model_module_version": "1.5.0",
          "state": {
            "_dom_classes": [],
            "_model_module": "@jupyter-widgets/controls",
            "_model_module_version": "1.5.0",
            "_model_name": "HTMLModel",
            "_view_count": null,
            "_view_module": "@jupyter-widgets/controls",
            "_view_module_version": "1.5.0",
            "_view_name": "HTMLView",
            "description": "",
            "description_tooltip": null,
            "layout": "IPY_MODEL_571b86ea4fe74dfd8c2425da04a382c1",
            "placeholder": "​",
            "style": "IPY_MODEL_ac7c2602467c494c90a6715b7468cbb3",
            "value": " 440M/440M [00:05&lt;00:00, 73.6MB/s]"
          }
        },
        "fec543a33d104ff8add9a37aa32e8fa7": {
          "model_module": "@jupyter-widgets/base",
          "model_name": "LayoutModel",
          "model_module_version": "1.2.0",
          "state": {
            "_model_module": "@jupyter-widgets/base",
            "_model_module_version": "1.2.0",
            "_model_name": "LayoutModel",
            "_view_count": null,
            "_view_module": "@jupyter-widgets/base",
            "_view_module_version": "1.2.0",
            "_view_name": "LayoutView",
            "align_content": null,
            "align_items": null,
            "align_self": null,
            "border": null,
            "bottom": null,
            "display": null,
            "flex": null,
            "flex_flow": null,
            "grid_area": null,
            "grid_auto_columns": null,
            "grid_auto_flow": null,
            "grid_auto_rows": null,
            "grid_column": null,
            "grid_gap": null,
            "grid_row": null,
            "grid_template_areas": null,
            "grid_template_columns": null,
            "grid_template_rows": null,
            "height": null,
            "justify_content": null,
            "justify_items": null,
            "left": null,
            "margin": null,
            "max_height": null,
            "max_width": null,
            "min_height": null,
            "min_width": null,
            "object_fit": null,
            "object_position": null,
            "order": null,
            "overflow": null,
            "overflow_x": null,
            "overflow_y": null,
            "padding": null,
            "right": null,
            "top": null,
            "visibility": null,
            "width": null
          }
        },
        "157614d3a1ad4b79af3ec0f5e68df4ee": {
          "model_module": "@jupyter-widgets/base",
          "model_name": "LayoutModel",
          "model_module_version": "1.2.0",
          "state": {
            "_model_module": "@jupyter-widgets/base",
            "_model_module_version": "1.2.0",
            "_model_name": "LayoutModel",
            "_view_count": null,
            "_view_module": "@jupyter-widgets/base",
            "_view_module_version": "1.2.0",
            "_view_name": "LayoutView",
            "align_content": null,
            "align_items": null,
            "align_self": null,
            "border": null,
            "bottom": null,
            "display": null,
            "flex": null,
            "flex_flow": null,
            "grid_area": null,
            "grid_auto_columns": null,
            "grid_auto_flow": null,
            "grid_auto_rows": null,
            "grid_column": null,
            "grid_gap": null,
            "grid_row": null,
            "grid_template_areas": null,
            "grid_template_columns": null,
            "grid_template_rows": null,
            "height": null,
            "justify_content": null,
            "justify_items": null,
            "left": null,
            "margin": null,
            "max_height": null,
            "max_width": null,
            "min_height": null,
            "min_width": null,
            "object_fit": null,
            "object_position": null,
            "order": null,
            "overflow": null,
            "overflow_x": null,
            "overflow_y": null,
            "padding": null,
            "right": null,
            "top": null,
            "visibility": null,
            "width": null
          }
        },
        "c803df4ab6b745cb8ee4e40b815df606": {
          "model_module": "@jupyter-widgets/controls",
          "model_name": "DescriptionStyleModel",
          "model_module_version": "1.5.0",
          "state": {
            "_model_module": "@jupyter-widgets/controls",
            "_model_module_version": "1.5.0",
            "_model_name": "DescriptionStyleModel",
            "_view_count": null,
            "_view_module": "@jupyter-widgets/base",
            "_view_module_version": "1.2.0",
            "_view_name": "StyleView",
            "description_width": ""
          }
        },
        "b9fc3eb8c6d64ca2a141fee8d8a13e38": {
          "model_module": "@jupyter-widgets/base",
          "model_name": "LayoutModel",
          "model_module_version": "1.2.0",
          "state": {
            "_model_module": "@jupyter-widgets/base",
            "_model_module_version": "1.2.0",
            "_model_name": "LayoutModel",
            "_view_count": null,
            "_view_module": "@jupyter-widgets/base",
            "_view_module_version": "1.2.0",
            "_view_name": "LayoutView",
            "align_content": null,
            "align_items": null,
            "align_self": null,
            "border": null,
            "bottom": null,
            "display": null,
            "flex": null,
            "flex_flow": null,
            "grid_area": null,
            "grid_auto_columns": null,
            "grid_auto_flow": null,
            "grid_auto_rows": null,
            "grid_column": null,
            "grid_gap": null,
            "grid_row": null,
            "grid_template_areas": null,
            "grid_template_columns": null,
            "grid_template_rows": null,
            "height": null,
            "justify_content": null,
            "justify_items": null,
            "left": null,
            "margin": null,
            "max_height": null,
            "max_width": null,
            "min_height": null,
            "min_width": null,
            "object_fit": null,
            "object_position": null,
            "order": null,
            "overflow": null,
            "overflow_x": null,
            "overflow_y": null,
            "padding": null,
            "right": null,
            "top": null,
            "visibility": null,
            "width": null
          }
        },
        "e1259b5fc49a405bbd7a1297f3115215": {
          "model_module": "@jupyter-widgets/controls",
          "model_name": "ProgressStyleModel",
          "model_module_version": "1.5.0",
          "state": {
            "_model_module": "@jupyter-widgets/controls",
            "_model_module_version": "1.5.0",
            "_model_name": "ProgressStyleModel",
            "_view_count": null,
            "_view_module": "@jupyter-widgets/base",
            "_view_module_version": "1.2.0",
            "_view_name": "StyleView",
            "bar_color": null,
            "description_width": ""
          }
        },
        "571b86ea4fe74dfd8c2425da04a382c1": {
          "model_module": "@jupyter-widgets/base",
          "model_name": "LayoutModel",
          "model_module_version": "1.2.0",
          "state": {
            "_model_module": "@jupyter-widgets/base",
            "_model_module_version": "1.2.0",
            "_model_name": "LayoutModel",
            "_view_count": null,
            "_view_module": "@jupyter-widgets/base",
            "_view_module_version": "1.2.0",
            "_view_name": "LayoutView",
            "align_content": null,
            "align_items": null,
            "align_self": null,
            "border": null,
            "bottom": null,
            "display": null,
            "flex": null,
            "flex_flow": null,
            "grid_area": null,
            "grid_auto_columns": null,
            "grid_auto_flow": null,
            "grid_auto_rows": null,
            "grid_column": null,
            "grid_gap": null,
            "grid_row": null,
            "grid_template_areas": null,
            "grid_template_columns": null,
            "grid_template_rows": null,
            "height": null,
            "justify_content": null,
            "justify_items": null,
            "left": null,
            "margin": null,
            "max_height": null,
            "max_width": null,
            "min_height": null,
            "min_width": null,
            "object_fit": null,
            "object_position": null,
            "order": null,
            "overflow": null,
            "overflow_x": null,
            "overflow_y": null,
            "padding": null,
            "right": null,
            "top": null,
            "visibility": null,
            "width": null
          }
        },
        "ac7c2602467c494c90a6715b7468cbb3": {
          "model_module": "@jupyter-widgets/controls",
          "model_name": "DescriptionStyleModel",
          "model_module_version": "1.5.0",
          "state": {
            "_model_module": "@jupyter-widgets/controls",
            "_model_module_version": "1.5.0",
            "_model_name": "DescriptionStyleModel",
            "_view_count": null,
            "_view_module": "@jupyter-widgets/base",
            "_view_module_version": "1.2.0",
            "_view_name": "StyleView",
            "description_width": ""
          }
        }
      }
    }
  },
  "cells": [
    {
      "cell_type": "code",
      "execution_count": 1,
      "metadata": {
        "id": "1cWPR82zpXjA"
      },
      "outputs": [],
      "source": [
        "import pandas as pd\n",
        "import torch\n",
        "from sklearn.model_selection import train_test_split\n",
        "from sklearn.preprocessing import LabelEncoder\n",
        "from transformers import BertTokenizer, BertForSequenceClassification\n",
        "from torch.utils.data import DataLoader, TensorDataset\n",
        "from torch.nn import CrossEntropyLoss\n",
        "from torch.optim import Adam\n",
        "from tqdm import tqdm\n"
      ]
    },
    {
      "cell_type": "code",
      "source": [
        "# Read the input file\n",
        "with open(\"/content/draft-1  (3).txt\", \"r\") as file:\n",
        "    data = file.read()\n"
      ],
      "metadata": {
        "id": "srlXZBOkpYAD"
      },
      "execution_count": 2,
      "outputs": []
    },
    {
      "cell_type": "code",
      "source": [
        "data"
      ],
      "metadata": {
        "colab": {
          "base_uri": "https://localhost:8080/",
          "height": 178
        },
        "id": "tq4S3UV-zU_c",
        "outputId": "3bbdd861-70fc-406b-e234-b1117ae5989d"
      },
      "execution_count": 3,
      "outputs": [
        {
          "output_type": "execute_result",
          "data": {
            "text/plain": [
              "\"\\ufeffHere are the list of diseases\\n\\n\\n\\n\\nSymptoms: Cold, Shivering,Headache\\nDisease: Fever\\nRemedy: Take rest ,Have warm clothes on.\\n\\n\\n\\n\\nSymptoms: Abdominal pain, nausea, vomiting, fever\\n\\n\\nDisease: Acute pancreatitis\\n\\n\\nRemedy: Fasting and sipping clear liquids can ease strain on the pancreas. Applying a heating pad to the abdomen may help relieve pain. Avoiding alcohol and following a low-fat diet can reduce inflammation.\\n\\n\\nSymptoms: Heavy menstrual bleeding, pelvic pain, painful periods\\n\\n\\nDisease: Adenomyosis\\n\\n\\nRemedy: Applying a warm compress to the lower abdomen can alleviate pain. Relaxation techniques like deep breathing or meditation may also help manage discomfort. Consuming foods rich in omega-3 fatty acids, such as salmon or flaxseeds, may reduce inflammation.\\n\\n\\nSymptoms: Fatigue, weight loss, low blood pressure\\n\\n\\nDisease: Addison’s Disease:\\n\\n\\nRemedy: Maintaining a high-salt diet and staying hydrated are key to managing symptoms. Carrying an emergency injection kit of hydrocortisone and practicing stress management techniques are also important.\\n\\n\\nSymptoms: Jaundice, abdominal pain, fatigue\\n\\n\\nDisease: Alcohol-related liver\\n\\n\\nRemedy: Abstaining from alcohol and consuming a balanced diet can support liver health. Milk thistle supplements may help protect the liver. Regular exercise can improve liver function.\\n\\n\\nSymptoms: Runny or stuffy nose, sneezing, itchy or watery eyes\\n\\n\\nDisease: Allergic rhinitis\\n\\n\\nRemedy: Using saline nasal rinses, avoiding allergens, and using over-the-counter antihistamines or decongestants can alleviate symptoms. Keeping windows closed during peak allergy seasons can minimise exposure to outdoor allergens.\\n\\n\\nSymptoms: Sneezing, runny or stuffy nose, itchy or watery eyes\\n\\n\\nDisease: Allergies\\n\\n\\nRemedy: Identifying and avoiding triggers, using over-the-counter antihistamines, and keeping indoor environments clean can help manage allergies. Consuming local honey may also help desensitize the body to pollen allergies.\\n\\n\\n\\n\\nSymptoms: Memory loss, confusion, difficulty completing familiar tasks\\n\\n\\nDisease: Alzheimer’s\\n\\n\\nRemedy: Engaging in regular physical exercise, maintaining a balanced diet, and stimulating the mind with activities like puzzles or reading may help slow Disease: progression. Social connections and emotional support are also important.\\n\\n\\n\\n\\n\\n\\nSymptoms: Rectal bleeding, changes in bowel habits, anal pain or discomfort\\n\\n\\nDisease: Anal cancer\\n\\n\\nRemedy: Practicing good anal hygiene, eating a high-fiber diet, and quitting smoking can help manage anal cancer. Over-the-counter hemorrhoid creams or ointments may provide relief from discomfort.\\n\\n\\n\\n\\n\\n\\nSymptoms: Itching or hives, difficulty breathing, swelling of the face or throat\\n\\n\\nDisease: Anaphylaxis\\n\\n\\nRemedy: Administering epinephrine promptly and seeking emergency medical attention are crucial. Avoiding known allergens and carrying an epinephrine auto-injector are important preventive measures.\\n\\n\\n\\n\\n\\n\\nSymptoms: Chest pain or discomfort, shortness of breath, nausea\\n\\n\\nDisease: Angina\\n\\n\\nRemedy: Practicing relaxation techniques, following a heart-healthy diet, taking prescribed medications regularly, and engaging in recommended physical activity can help manage angina symptoms.\\nSymptoms: Swelling, often around the eyes and lips, abdominal pain, difficulty breathing\\n\\n\\nDisease: Angioedema\\n\\n\\nRemedy: Applying a cold compress to affected areas can help reduce swelling. Avoiding known triggers, such as certain foods or medications, is important. Antihistamines may provide relief from symptoms, but consult a healthcare provider for severe cases.\\n\\n\\n---\\n\\n\\nSymptoms: Back pain and stiffness, fatigue, reduced flexibility\\n\\n\\nDisease: Ankylosing spondylitis\\n\\n\\nRemedy: Regular exercise, especially activities that promote flexibility and posture, can help manage symptoms. Applying heat packs or taking warm baths may alleviate stiffness and pain. Maintaining a healthy weight and avoiding smoking can also improve outcomes.\\n\\n\\n---\\n\\n\\nSymptoms: Significant weight loss, distorted body image, excessive exercise\\n\\n\\nDisease: Anorexia nervosa\\n\\n\\nRemedy: Encouraging a supportive environment and open communication about feelings and concerns can help. Providing regular, balanced meals and snacks is essential. Seeking professional therapy and nutritional counseling is crucial for comprehensive treatment.\\n\\n\\n---\\n\\n\\nSymptoms: Excessive worrying, restlessness, muscle tension\\n\\n\\nDisease: Anxiety\\n\\n\\nRemedy: Practicing relaxation techniques such as deep breathing, meditation, or yoga can help reduce anxiety symptoms. Regular exercise and maintaining a healthy lifestyle, including adequate sleep and a balanced diet, may also alleviate anxiety. Seeking therapy or counseling can provide coping strategies and support.\\n\\n\\n---\\n\\n\\nSymptoms: Excessive worry, fear, avoidance of certain situations\\n\\n\\nDisease: Anxiety disorders in children\\n\\n\\nRemedy: Establishing a predictable routine and creating a safe, supportive environment is important for children with anxiety disorders. Encouraging open communication and validating their feelings can help reduce anxiety. Providing opportunities for creative expression or physical activity can also help manage symptoms.\\n\\n\\n---\\n\\n\\nSymptoms: Abdominal pain, nausea, vomiting, loss of appetite\\n\\n\\nDisease: Appendicitis\\n\\n\\nRemedy: While appendicitis typically requires medical intervention, applying a warm compress to the abdomen may help alleviate discomfort temporarily. However, seeking immediate medical attention is crucial as appendicitis can lead to complications if left untreated.\\n\\n\\n---\\n\\n\\nSymptoms: Chest pain, shortness of breath, numbness or weakness\\n\\n\\nDisease:Arterial thrombosis\\n\\n\\nRemedy: Maintaining a healthy lifestyle with regular exercise and a balanced diet can help prevent arterial thrombosis. Avoiding smoking and managing conditions like high blood pressure or high cholesterol can also reduce the risk. However, immediate medical attention is necessary if symptoms occur.\\n\\n\\n---\\n\\n\\nSymptoms: Joint pain, swelling, stiffness\\n\\n\\nDisease: Arthritis\\n\\n\\nRemedy: Regular exercise, including low-impact activities like swimming or walking, can help improve joint flexibility and reduce pain. Applying cold packs or warm compresses to affected joints may provide relief. Maintaining a healthy weight and consuming an anti-inflammatory diet rich in fruits, vegetables, and omega-3 fatty acids can also support joint health.\\n\\n\\n---\\n\\n\\nSymptoms: Shortness of breath, persistent cough, chest pain\\n\\n\\nDisease: Asbestosis\\n\\n\\nRemedy: Avoiding further exposure to asbestos is crucial. Maintaining a healthy lifestyle with a balanced diet and regular exercise can support overall lung health. Quitting smoking and avoiding other respiratory irritants can also slow Disease: progression.\\n\\n\\n---\\n\\n\\nSymptoms: Coughing, wheezing, shortness of breath\\n\\n\\nDisease: Asthma\\n\\n\\nRemedy: Identifying and avoiding triggers, such as allergens or air pollutants, is essential. Using a peak flow meter to monitor lung function and following an asthma action plan can help manage symptoms. Incorporating breathing exercises and practicing relaxation techniques may also help during asthma attacks.\\n\\n\\nSymptoms: Dry, itchy skin, red or inflamed patches, oozing or crusting\\n\\n\\nDisease: Atopic eczema\\n\\n\\nRemedy: Keeping the skin moisturized with emollients and avoiding harsh soaps or detergents can help manage eczema flare-ups. Identifying and avoiding triggers, such as certain fabrics or skincare products, is important. Applying topical corticosteroids or non-prescription moisturizers can help reduce inflammation and itching.\\n\\n\\n---\\n\\n\\nSymptoms: Irregular heartbeat, palpitations, fatigue\\n\\n\\nDisease: Atrial fibrillation\\n\\n\\nRemedy: Maintaining a healthy lifestyle with regular exercise and a balanced diet can help manage atrial fibrillation. Limiting caffeine and alcohol intake may also reduce symptoms. Stress management techniques, such as meditation or deep breathing exercises, can help reduce anxiety associated with atrial fibrillation.\\n\\n\\n---\\n\\n\\nSymptoms: Inattention, hyperactivity, impulsivity\\n\\n\\nDisease: Attention deficit hyperactivity disorder (ADHD)\\n\\n\\nRemedy: Establishing a structured routine and breaking tasks into smaller, manageable steps can help individuals with ADHD stay organized. Incorporating regular exercise and outdoor activities can help reduce hyperactivity and improve focus. Dietary changes, such as reducing sugar and processed foods, may also support ADHD management.\\n\\n\\n---\\n\\n\\nSymptoms: Challenges in social interaction, repetitive behaviors, sensory sensitivities\\n\\n\\nDisease: Autistic spectrum disorder (ASD)\\n\\n\\nRemedy: Providing a structured and predictable environment can help individuals with ASD feel more comfortable. Using visual aids and social stories can aid communication and understanding. Engaging in sensory activities tailored to individual preferences can also help regulate sensory processing.\\n\\n\\n---\\n\\n\\nSymptoms: Vaginal discharge with a strong, fishy odor, itching or irritation, burning during urination\\n\\n\\nDisease: Bacterial vaginosis\\n\\n\\nRemedy: Maintaining good hygiene and avoiding irritating products can help. Probiotic supplements or eating yogurt with live cultures may restore vaginal balance. Apple cider vinegar baths may also provide relief.\\n\\n\\n---\\n\\n\\nSymptoms: Frequent urination, difficulty starting or stopping urination, weak urine stream\\n\\n\\nDisease: Benign prostate enlargement\\n\\n\\nRemedy: Consuming foods rich in antioxidants like tomatoes and green tea may help reduce inflammation. Kegel exercises can strengthen pelvic floor muscles. Saw palmetto supplements have shown promise in managing symptoms.\\n\\n\\n---\\n\\n\\nSymptoms: Abdominal pain, jaundice, unexplained weight loss\\n\\n\\nDisease: Bile duct cancer (cholangiocarcinoma)\\n\\n\\nRemedy: Eating a healthy diet with plenty of fruits and vegetables may support overall health. Turmeric, ginger, and green tea are believed to have anti-inflammatory properties that may help. However, medical treatment is necessary for this condition.\\n\\n\\n---\\n\\n\\nSymptoms: Recurrent episodes of consuming large amounts of food, feeling a lack of control, eating rapidly\\n\\n\\nDisease: Binge eating\\n\\n\\nRemedy: Practicing mindful eating techniques and keeping a food diary may help identify triggers. Engaging in stress-reduction activities like yoga or meditation can also be beneficial. Seeking support from a therapist or support group is important for addressing underlying emotional issues.\\n\\n\\n---\\n\\n\\nSymptoms: Extreme mood swings, changes in energy and activity levels, difficulty sleeping\\n\\n\\nDisease: Bipolar disorder\\n\\n\\nRemedy: Establishing a regular sleep schedule and engaging in daily exercise can help stabilize mood. Mindfulness-based practices like meditation or deep breathing exercises may also provide relief. Avoiding alcohol and caffeine is important, as they can trigger mood swings.\\n\\n\\n---\\n\\n\\nSymptoms: Blood in urine, frequent urination, pelvic pain\\n\\n\\nDisease: Bladder cancer\\n\\n\\nRemedy: Drinking plenty of water and consuming foods high in antioxidants, such as berries and leafy greens, may help support bladder health. Quitting smoking and avoiding exposure to chemicals can also reduce risk. However, medical treatment is necessary for managing bladder cancer.\\n\\n\\n\\n\\nSymptoms:  fever, rapid heartbeat, and confusion. \\n\\n\\nDisease: Blood Poisoning (Sepsis)\\n\\n\\nRemedy: To prevent sepsis, maintain good hygiene, promptly treat infections, consume a balanced diet with plenty of fluids, and get adequate rest. Seek immediate medical attention if sepsis is suspected.\\n\\n\\nSymptoms: bone pain, swelling, and fractures.\\n\\n\\nDisease: Bone Cancer\\n\\n\\nRemedy: Support overall health with a nutritious diet and regular exercise. Manage pain with hot or cold compresses and gentle stretching exercises. Medical treatment, such as chemotherapy or surgery, is necessary for managing bone cancer.\\n\\n\\nSymptoms: bone pain and swelling.\\n\\n\\nDisease: Bone Cancer (Teenagers and Young Adults)\\n\\n\\nRemedy: Encourage a balanced diet with adequate calcium and vitamin D, engage in weight-bearing exercises, and provide emotional support. Open communication is important for adolescents facing a cancer diagnosis.\\nSymptoms: changes in bowel habits, blood in the stool, and abdominal pain.\\n\\n\\nDisease: Bowel Cancer\\n\\n\\nRemedy: Reduce the risk of bowel cancer by consuming a diet high in fiber and low in red and processed meats. Regular screening and early detection are crucial. Medical treatment, such as surgery, chemotherapy, or radiation therapy, is necessary for managing bowel cancer.\\n\\n\\nSymptoms: involuntary bowel movements and a loss of control.\\n\\n\\nDisease: Bowel Incontinence\\n\\n\\nRemedy: Perform pelvic floor exercises (Kegels), make dietary changes, and maintain a regular bathroom schedule to reduce symptoms.\\n\\n\\n Symptoms: Bowel polyps may not cause symptoms initially, but larger or high-risk polyps can lead to bleeding or changes in bowel habits.\\n\\n\\nDisease: Bowel Polyps\\n\\n\\nRemedy: Prevent the formation of polyps by eating a diet high in fiber and low in saturated fats. Undergo regular screening and surveillance for early detection and removal. Medical treatment may be necessary for larger or high-risk polyps.\\n\\n\\nSymptoms:Brain stem death is characterized by the absence of brain stem reflexes and the inability to breathe without support.\\n\\n\\nDisease: Brain Stem Death\\n\\n\\nRemedy: Brain stem death is irreversible, and immediate medical attention is required. There are no home remedies, and treatment options are limited to supportive care.\\n\\n\\nSymptoms: headaches, seizures, and changes in behavior.\\n\\n\\nDisease: Brain Tumors\\n\\n\\nRemedy: Maintain a healthy lifestyle with a balanced diet and regular exercise. Manage stress and anxiety with mindfulness-based practices. Medical treatment, such as surgery, radiation therapy, or chemotherapy, is necessary for managing brain tumors.\\n\\n\\nSymptoms:: headaches, vomiting, and changes in coordination.\\n\\n\\nDisease: Brain Tumors (Children)\\n\\n\\nRemedy: Provide emotional support and involve the child in their treatment plan. Seek support from healthcare professionals and pediatric oncology support groups.\\n\\n\\nSymptoms: headaches, vision changes, and difficulty concentrating.\\n\\n\\nDisease: Brain Tumors (Teenagers and Young Adults)\\n\\n\\nRemedy: Encourage open communication, provide opportunities for socialization, and maintain normal routines when possible. Seek specialized care from healthcare professionals experienced in treating adolescent and young adult cancer patients.\\n\\n\\nSymptoms:  Symptoms of female breast cancer may include a lump in the breast, changes in breast size or shape, and nipple discharge.\\n\\n\\nDisease: Breast Cancer (Female)\\n\\n\\nRemedy: Consume a balanced diet rich in fruits, vegetables, and whole grains during treatment. Engage in regular exercise, maintain a healthy weight, and seek emotional support from loved ones and support groups.\\n\\n\\nSymptoms: Symptoms of male breast cancer may include a lump in the breast, changes in breast size or shape, and nipple discharge.\\n\\n\\nDisease: Breast Cancer (Male)\\n\\n\\nRemedy: Manage male breast cancer similarly to female breast cancer by maintaining a healthy lifestyle with a balanced diet and regular exercise. Seek emotional support from loved ones and healthcare professionals.\\n\\n\\nSymptoms:  Symptoms of bronchiectasis may include chronic cough, excess mucus production, and recurrent respiratory infections.\\n\\n\\nDisease: Bronchiectasis\\n\\n\\nRemedy: Practice airway clearance techniques like postural drainage and chest percussion. Stay hydrated, avoid smoke and air pollutants, and seek medical treatment with antibiotics or bronchodilators for managing bronchiectasis.\\n\\n\\nSymptoms:  Symptoms of bronchitis may include coughing, chest discomfort, and difficulty breathing.\\n\\n\\nDisease: Bronchitis\\n\\n\\nRemedy: Drink plenty of fluids, get adequate rest, and use a humidifier or steam inhalation to relieve congestion. Over-the-counter medications may help, but medical treatment may be necessary for severe cases.\\n\\n\\nSymptoms:  Symptoms of bulimia may include recurrent episodes of binge eating followed by compensatory behaviors such as vomiting or excessive exercise.\\n\\n\\nDisease: Bulimia\\n\\n\\nRemedy: Seek support from a therapist or support group specializing in eating disorders. Establish regular eating habits, practice mindful eating, and learn healthy coping mechanisms for managing stress and emotions.\\n\\n\\nSymptoms: Symptoms of bunions may include pain, redness, and swelling at the base of the big toe.\\n\\n\\nDisease: Bunion\\n\\n\\nRemedy: Wear comfortable shoes with a wide toe box and low heels, use bunion pads or cushions for support, perform gentle stretches and exercises, apply ice packs to reduce inflammation, and take over-the-counter pain relievers.\\n\\n\\nSymptoms:  Symptoms of catarrh may include nasal congestion, coughing, and throat discomfort.\\n\\n\\nDisease: Catarrh\\n\\n\\nRemedy: Inhale steam or use a humidifier to loosen mucus, drink plenty of fluids, stay hydrated, and avoid cigarette smoke and irritants for managing catarrh.\\n\\n\\nSymptoms:  Symptoms of cellulitis may include redness, swelling, and pain at the affected skin site.\\n\\n\\nDisease: Cellulitis\\n\\n\\nRemedy: Keep the affected area clean and elevated, apply warm compresses for pain relief, and consume foods rich in vitamin C and zinc to support immune function.\\n\\n\\nSymptoms:  Symptoms of cerebral palsy may include muscle stiffness, poor coordination, and difficulty with fine or gross motor skills.\\n\\n\\nDisease: Cerebral Palsy\\n\\n\\nRemedy: Engage in physical therapy exercises to improve mobility and muscle strength, receive occupational therapy for developing daily living skills, and consider speech therapy for communication difficulties.\\n\\n\\nSymptoms:  Symptoms of cervical cancer may include abnormal vaginal bleeding, pelvic pain, and pain during intercourse.\\n\\n\\nDisease: Cervical Cancer\\n\\n\\nRemedy: Undergo regular screening with Pap tests for early detection. Adopt a diet high in fruits and vegetables and low in processed foods to reduce the risk. Consider HPV vaccination to prevent infection with high-risk strains of HPV.\\n\\n\\nSymptoms: : Symptoms of chest infection may include coughing, chest discomfort, and difficulty breathing.\\n\\n\\nDisease: Chest Infection\\n\\n\\nRemedy: Drink warm liquids like herbal tea or broth to soothe a sore throat and loosen mucus. Rest and stay hydrated to support the immune system. Use a humidifier to keep the air moist and ease breathing.\\n\\n\\nSymptoms:  Symptoms of chest pain may include discomfort, tightness, or a burning sensation in the chest.\\n\\n\\nDisease: Chest Pain\\n\\n\\nRemedy: Apply a warm compress or heating pad to the chest for relief. Practice deep breathing exercises and relaxation techniques like meditation to manage stress and anxiety. Seek medical attention if chest pain is severe or persistent.\\n\\n\\nSymptoms: : Symptoms of chickenpox may include an itchy rash, fever, and fatigue.\\n\\n\\nDisease: Chickenpox\\n\\n\\nRemedy: Take oatmeal baths or use calamine lotion to soothe itching. Drink plenty of fluids and stay hydrated. Avoid scratching the rash to prevent scarring and secondary infections.\\n\\n\\nSymptoms:  Symptoms of chilblains may include red, itchy, or swollen skin in response to cold exposure.\\n\\n\\nDisease: Chilblains\\n\\n\\nRemedy: Keep affected areas warm and dry, apply moisturizer to dry skin, and avoid sudden temperature changes. Wear warm clothing to reduce symptoms.\\n\\n\\nSymptoms: : Symptoms of chlamydia may include genital discharge, pain during urination, and abdominal pain.\\n\\n\\nDisease: Chlamydia\\n\\n\\nRemedy: Seek medical treatment with antibiotics. Abstain from sexual activity until treatment is completed to prevent transmission. Partners should also be tested and treated if necessary.\\n\\n\\nSymptoms: : Symptoms of chronic fatigue syndrome may include persistent fatigue, sleep disturbances, and cognitive difficulties.\\n\\n\\nDisease: Chronic Fatigue Syndrome\\n\\n\\nRemedy: Manage stress, get plenty of rest, and gradually increase activity levels with pacing techniques. Eat a balanced diet, stay hydrated, and maintain overall health.\\n\\n\\nSymptoms:  Symptoms of chronic kidney Disease: may include fatigue, swelling, and changes in urination.\\n\\n\\nDisease: Chronic Kidney Disease:\\n\\n\\nRemedy: Eat a low-sodium diet, limit phosphorus and potassium intake, stay hydrated, and avoid excessive protein intake. Regular exercise and quitting smoking can improve kidney function.\\n\\n\\nSymptoms:  Symptoms of chronic lymphocytic leukemia may include fatigue, enlarged lymph nodes, and frequent infections.\\n\\n\\nDisease: Chronic Lymphocytic Leukemia\\n\\n\\nRemedy: Treatment options vary and may include watchful waiting, chemotherapy, or targeted therapy. Maintain a healthy lifestyle with a balanced diet and regular exercise.\\n\\n\\nSymptoms: : Symptoms of chronic myeloid leukemia may include fatigue, weight loss, and abdominal discomfort.\\n\\n\\nDisease: Chronic Myeloid Leukemia\\n\\n\\nRemedy: Treatment typically involves tyrosine kinase inhibitors. Eat a nutritious diet, exercise regularly, and manage stress for overall health during treatment.\\n\\n\\nSymptoms:  Symptoms of chronic obstructive pulmonary Disease: (COPD) may include shortness of breath, chronic cough, and chest tightness.\\n\\n\\nDisease: Chronic Obstructive Pulmonary Disease: (COPD)\\n\\n\\nRemedy: Quit smoking, avoid secondhand smoke and air pollutants, perform breathing exercises, use a bronchodilator inhaler as prescribed, eat a healthy diet, and stay physically active to manage symptoms.\\n\\n\\nSymptoms:  Symptoms of chronic pain may include persistent discomfort, stiffness, and reduced range of motion.\\n\\n\\nDisease: Chronic Pain\\n\\n\\nRemedy: Use heat or ice packs, practice relaxation techniques, and engage in gentle stretching exercises for relief. Mind-body practices like yoga or meditation can help manage pain. Seek support from a healthcare provider or pain management specialist for a comprehensive treatment plan.\\n\\n\\nSymptoms:  Symptoms of chronic pancreatitis may include abdominal pain, nausea, and weight loss.\\n\\n\\nDisease: Chronic Pancreatitis\\n\\n\\nRemedy: Manage symptoms by eating small, frequent meals low in fat, abstaining from alcohol, and taking prescribed pancreatic enzyme supplements for digestion. Apply heat to the abdomen for pain relief.\\n\\n\\nSymptoms:  Symptoms of cirrhosis may include fatigue, swelling, and confusion.\\n\\n\\nDisease: Cirrhosis\\n\\n\\nRemedy: Abstain from alcohol, follow a low-sodium diet, eat a balanced diet, and stay hydrated to support liver health. Seek medical treatment for complications like fluid buildup or bleeding.\\n\\n\\nSymptoms: Symptoms of Clostridium difficile infection may include diarrhea, abdominal pain, and fever.\\n\\n\\nDisease: Clostridium difficile\\n\\n\\nRemedy: Treatment with antibiotics is necessary to eradicate the infection. Consume probiotics to restore healthy gut bacteria. Practice good hand hygiene and avoid unnecessary antibiotic use to prevent recurrence.\\n\\n\\nSymptoms:  Symptoms of coeliac Disease: may include abdominal pain, diarrhea, and weight loss.\\n\\n\\nDisease: Coeliac Disease:\\n\\n\\nRemedy: Follow a strict gluten-free diet, consuming gluten-free grains, fruits, vegetables, and lean proteins to meet nutritional needs. Read food labels carefully and avoid cross-contamination.\\n\\n\\nSymptoms:  Symptoms of a cold sore may include tingling, itching, and the development of painful sores on or around the lips.\\n\\n\\nDisease: Cold Sore\\n\\n\\nRemedy: Apply ice packs or cold compresses for pain and swelling. Use over-the-counter antiviral creams or ointments for faster healing. Avoid triggers like stress, sunlight, and certain foods to prevent outbreaks.\\n\\n\\nSymptoms:  Symptoms of a coma may include unconsciousness, unresponsiveness, and the inability to wake up.\\n\\n\\nDisease: Coma\\n\\n\\nRemedy: Coma requires immediate medical attention with no home remedies. Treatment options depend on the underlying cause and may involve supportive care measures such as mechanical ventilation and intravenous fluids.\\n\\n\\nSymptoms:  Symptoms of the common cold may include a runny or stuffy nose, coughing, and sneezing.\\n\\n\\nDisease: Common Cold\\n\\n\\nRemedy: Drink plenty of fluids, get adequate rest, use over-the-counter cold medications, gargle with warm salt water, and use saline nasal sprays for relief. Consume immune-boosting foods like citrus fruits and garlic.\\n\\n\\nSymptoms:  Symptoms of common heart conditions may include chest pain, shortness of breath, and irregular heartbeat.\\n\\n\\nDisease: Common Heart Conditions\\n\\n\\nRemedy: Manage risk factors like high blood pressure, high cholesterol, and diabetes. Adopt a heart-healthy diet, engage in regular exercise, and avoid smoking for overall heart health.\\n\\n\\nSymptoms:  Symptoms of congenital heart Disease: may include cyanosis, fatigue, and difficulty breathing.\\n\\n\\nDisease: Congenital Heart Disease:\\n\\n\\nRemedy: Treatment varies depending on the type and severity and may include medications, surgery, or other interventions. Follow a heart-healthy lifestyle with regular medical follow-ups for managing congenital heart Disease:.\\n\\n\\nSymptoms:  Symptoms of conjunctivitis may include redness, itching, and discharge from the eyes.\\n\\n\\nDisease: Conjunctivitis\\n\\n\\nRemedy: Apply warm compresses and use over-the-counter artificial tears for relief. Avoid rubbing the eyes and practice good hygiene to prevent the spread. Seek medical treatment for bacterial conjunctivitis and use antibiotic eye drops as prescribed.\\n\\n\\nSymptoms:  Symptoms of constipation may include infrequent bowel movements, difficulty passing stools, and abdominal discomfort.\\n\\n\\nDisease: Constipation\\n\\n\\nRemedy: Eat a high-fiber diet with fruits, vegetables, and whole grains, drink plenty of fluids, and stay physically active to prevent constipation. Avoid foods that worsen constipation, such as dairy and processed foods.\\n\\n\\nSymptoms: : Symptoms of COVID-19 may include fever, cough, and difficulty breathing.\\n\\n\\nDisease: Coronavirus (COVID-19)\\n\\n\\nRemedy: Follow public health guidelines, wear masks, practice social distancing, and wash hands frequently to prevent the spread of COVID-19. Get vaccinated and stay informed about updates for protection.\\n\\n\\nSymptoms:  Symptoms of a cough may include throat irritation, chest discomfort, and the production of mucus.\\n\\n\\nDisease: Cough\\n\\n\\nRemedy: Drink warm fluids with honey, use a humidifier or steam inhalation to ease congestion, and consider over-the-counter cough medications or lozenges for relief.\\n\\n\\nSymptoms:  Symptoms of Crohn's Disease: may include abdominal pain, diarrhea, and weight loss.\\n\\n\\nDisease: Crohn's Disease:\\n\\n\\nRemedy: Follow a low-fiber diet during flare-ups, gradually reintroduce high-fiber foods during remission, eat smaller, more frequent meals, and stay hydrated. Avoid trigger foods like spicy foods, dairy, and caffeine to prevent flare-ups.\\n\\n\\nSymptoms:  Symptoms of deafblindness may include difficulty communicating, limited vision, and hearing impairment.\\n\\n\\nDisease: Deafblindness\\n\\n\\nRemedy: Implement tactile sign language, use communication tools like braille, create a familiar environment with consistent routines, and minimize distractions for enhanced daily living.\\n\\n\\nSymptoms:  Symptoms of deep vein thrombosis may include leg pain, swelling, and redness.\\n\\n\\nDisease: Deep Vein Thrombosis (DVT)\\n\\n\\nRemedy: Elevate the affected leg, stay hydrated, perform leg exercises, wear compression stockings, and avoid prolonged periods of immobility, especially during long trips, to reduce the risk of DVT.\\n\\n\\nSymptoms:  Symptoms of dehydration may include thirst, dark urine, and dizziness.\\n\\n\\nDisease: Dehydration\\n\\n\\nRemedy: Drink plenty of fluids, especially water and electrolyte-rich beverages, and consume water-rich fruits and vegetables for rehydration. In severe cases, oral rehydration solutions or intravenous fluids may be necessary.\\n\\n\\nSymptoms: : Symptoms of dementia may include memory loss, confusion, and difficulty with daily tasks.\\n\\n\\nDisease: Dementia\\n\\n\\nRemedy: Engage in mentally stimulating activities, create a structured routine, minimize environmental stressors, incorporate physical exercise, and maintain a balanced diet to support overall brain health.\\n\\n\\nSymptoms:  Symptoms of dementia with Lewy bodies may include hallucinations, fluctuations in alertness, and motor disturbances.\\n\\n\\nDisease: Dementia with Lewy Bodies\\n\\n\\nRemedy: Maintain a regular sleep schedule, avoid alcohol and caffeine close to bedtime, and create a safe environment with clear pathways and adequate lighting to improve sleep quality and reduce the risk of falls and accidents.\\n\\n\\n\\n\\nSymptoms:  Symptoms of a dental abscess may include severe toothache, swelling, and sensitivity to hot or cold.\\n\\n\\nDisease: Dental Abscess\\n\\n\\nRemedy: Rinse the mouth with warm salt water to alleviate pain and reduce inflammation. Apply a cold compress to the affected area for relief. Avoid hot or cold foods and maintain good oral hygiene to prevent further irritation.\\n\\n\\nSymptoms:  Symptoms of depression may include persistent sadness, loss of interest in activities, and changes in sleep and appetite.\\n\\n\\nDisease: Depression\\n\\n\\nRemedy: Engage in regular physical activity like walking or yoga to boost mood. Practice relaxation techniques such as deep breathing or meditation to reduce stress and anxiety. Maintain social connections and seek support from loved ones or a therapist for managing depression.\\n\\n\\nSymptoms:  Symptoms of dermatitis herpetiformis may include itchy, blistering skin rash.\\n\\n\\nDisease: Dermatitis Herpetiformis\\n\\n\\nRemedy: Follow a gluten-free diet to manage symptoms. Apply over-the-counter corticosteroid creams or ointments to soothe skin irritation. Take oral antihistamines to alleviate itching.\\n\\n\\nSymptoms:  Symptoms of diabetes may include increased thirst, frequent urination, and fatigue.\\n\\n\\nDisease: Diabetes\\n\\n\\nRemedy: Monitor blood sugar levels regularly, follow a balanced diet with portion control, and engage in regular exercise to manage diabetes. Take prescribed medications or insulin as directed for controlling blood sugar levels.\\n\\n\\nSymptoms:  Symptoms of diarrhea may include frequent loose or watery stools.\\n\\n\\nDisease: Diarrhea\\n\\n\\nRemedy: Stay hydrated by drinking clear fluids like water, broth, or electrolyte solutions. Consume bland, easy-to-digest foods like the BRAT diet. Avoid dairy products, caffeine, and fatty or spicy foods to reduce symptoms.\\n\\n\\nSymptoms:  Symptoms of discoid eczema may include dry, itchy, and inflamed skin with coin-shaped patches.\\n\\n\\nDisease: Discoid Eczema\\n\\n\\nRemedy: Keep the affected area moisturized with emollients, apply prescribed topical corticosteroids or calcineurin inhibitors to reduce inflammation, and avoid triggers like harsh soaps or detergents to prevent flare-ups.\\n\\n\\nSymptoms:  Symptoms of diverticular Disease: and diverticulitis may include abdominal pain, changes in bowel habits, and fever.\\n\\n\\nDisease: Diverticular Disease: and Diverticulitis\\n\\n\\nRemedy: Eat a high-fiber diet to prevent constipation and reduce pressure on the colon. Drink plenty of fluids, exercise regularly, and in acute cases of diverticulitis, follow a clear liquid diet and take prescribed antibiotics.\\n\\n\\nSymptoms:  Symptoms of dizziness (lightheadedness) may include feeling faint, unsteady, or lightheaded.\\n\\n\\nDisease: Dizziness (Lightheadedness)\\n\\n\\nRemedy: Drink water and stay hydrated to alleviate dizziness caused by dehydration. Avoid sudden movements, take breaks when feeling dizzy, and practice relaxation techniques like deep breathing or mindfulness meditation to reduce stress-related dizziness.\\n\\n\\nSymptoms:  Individuals with Down's syndrome may exhibit intellectual disabilities, characteristic facial features, and developmental delays.\\n\\n\\nDisease: Down's Syndrome\\n\\n\\nRemedy: Provide a supportive environment with clear routines, consistent expectations, and engage in regular physical activity. Promote social interactions and consider early intervention programs and therapies tailored to individual needs.\\n\\n\\nSymptoms:  Symptoms of dry mouth may include a sticky or dry feeling in the mouth, difficulty swallowing, and bad breath.\\n\\n\\nDisease: Dry Mouth\\n\\n\\nRemedy: Sip water frequently and use sugar-free lozenges or gum to stimulate saliva production. Avoid caffeinated or alcoholic beverages, use a humidifier at night, and avoid tobacco products to alleviate symptoms.\\n\\n\\n\\n\\nSymptoms:  Symptoms of dysphagia may include difficulty swallowing, choking, and frequent coughing during meals.\\n\\n\\nDisease: Dysphagia (Swallowing Problems)\\n\\n\\nRemedy: Eat soft, moist foods, cut foods into smaller pieces, take smaller bites, and chew slowly to make swallowing easier. Avoid difficult-to-swallow foods like dry bread or tough meats to prevent choking.\\n\\n\\nSymptoms:  Symptoms of dystonia may include involuntary muscle contractions, muscle spasms, and abnormal postures.\\n\\n\\nDisease: Dystonia\\n\\n\\nRemedy: Apply heat packs or take warm baths to relax muscles and alleviate pain. Perform gentle stretching exercises or practice yoga to improve flexibility and reduce muscle spasms. Avoid stress and ensure enough rest to support overall muscle health.\\n\\n\\nSymptoms:  Symptoms of abdominal aortic aneurysm may include abdominal pain, pulsating sensation, and back pain.\\n\\n\\nDisease: Abdominal Aortic Aneurysm\\n\\n\\nRemedy: Adopt a heart-healthy diet low in saturated fats and high in fruits and vegetables to manage blood pressure and reduce the risk of rupture. Engage in regular aerobic exercise like walking or swimming to improve cardiovascular health.\\n\\n\\nSymptoms:  Symptoms of acne may include pimples, blackheads, and whiteheads on the skin.\\n\\n\\nDisease: Acne\\n\\n\\nRemedy: Wash affected areas with a gentle cleanser, avoid harsh scrubbing, and apply tea tree oil or witch hazel as a natural astringent to reduce inflammation. Include foods rich in omega-3 fatty acids, such as salmon or walnuts, to reduce acne-related inflammation.\\n\\n\\nSymptoms: Symptoms of acute cholecystitis may include abdominal pain, nausea, and vomiting.\\n\\n\\nDisease: Acute Cholecystitis\\n\\n\\nRemedy: Apply a warm compress to the abdomen for discomfort relief. Follow a low-fat diet to reduce strain on the gallbladder and avoid triggering symptoms. Stay hydrated by drinking plenty of water to assist in digestion.\\n\\n\\nSymptoms:  Symptoms of acute lymphoblastic leukaemia (ALL) may include fatigue, pale skin, and easy bruising.\\n\\n\\nDisease: Acute Lymphoblastic Leukaemia (ALL)\\n\\n\\nRemedy: While home remedies cannot treat ALL, maintain a nutritious diet, stay hydrated, and get enough rest to support overall health during treatment. Consult with a healthcare provider for appropriate medical intervention and follow-up care.\\n\\n\\nSymptoms:  Symptoms of acute lymphoblastic leukaemia in children may include fatigue, fever, and bone pain.\\n\\n\\nDisease: Acute Lymphoblastic Leukaemia (ALL) in Children\\n\\n\\nRemedy: Ensure proper nutrition with a balanced diet rich in fruits, vegetables, and whole grains to support a child's immune system during ALL treatment. Encourage regular physical activity within the child's capabilities to promote overall well-being.\\n\\n\\nSymptoms:  Symptoms of acute lymphoblastic leukaemia in teenagers and young adults may include fatigue, frequent infections, and easy bruising.\\n\\n\\nDisease: Acute Lymphoblastic Leukaemia (ALL) in Teenagers and Young Adults\\n\\n\\nRemedy: Help teenagers and young adults manage stress through relaxation techniques, encourage open communication about their feelings and concerns regarding treatment, and provide emotional support as needed.\\n\\n\\nSymptoms:  Symptoms of acute myeloid leukaemia may include fatigue, shortness of breath, and frequent infections.\\n\\n\\nDisease: Acute Myeloid Leukaemia (AML)\\n\\n\\nRemedy: Stay hydrated by drinking plenty of fluids, especially water, to support kidney function during treatment. Include probiotic-rich foods like yogurt or kefir to maintain gut health, which may be affected by treatment-related antibiotics.\\n\\n\\nSymptoms:  Symptoms of acute myeloid leukaemia in children may include fatigue, frequent infections, and pale skin.\\n\\n\\nDisease: Acute Myeloid Leukaemia (AML) in Children\\n\\n\\nRemedy: Encourage a balanced diet with sufficient protein and calories to support a child's growth and energy needs during treatment. Provide distractions such as books, games, or crafts to help ease discomfort and anxiety during hospital visits or treatment procedures.\""
            ],
            "application/vnd.google.colaboratory.intrinsic+json": {
              "type": "string"
            }
          },
          "metadata": {},
          "execution_count": 3
        }
      ]
    },
    {
      "cell_type": "code",
      "source": [
        "# Extract symptoms, diseases, and remedies\n",
        "symptoms = []\n",
        "diseases = []"
      ],
      "metadata": {
        "id": "b5hxlr3DpeXg"
      },
      "execution_count": 4,
      "outputs": []
    },
    {
      "cell_type": "code",
      "source": [
        "current_symptoms = None\n",
        "current_disease = None"
      ],
      "metadata": {
        "id": "JrVrFpNqpglW"
      },
      "execution_count": 5,
      "outputs": []
    },
    {
      "cell_type": "code",
      "source": [
        "for line in data.split('\\n'):\n",
        "    if line.startswith('Symptoms:'):\n",
        "        current_symptoms = line.replace('Symptoms: ', '')\n",
        "    elif line.startswith('Disease:'):\n",
        "        current_disease = line.replace('Disease: ', '')\n",
        "        # Append the current symptoms and disease to the lists\n",
        "        if current_symptoms and current_disease:\n",
        "            symptoms.append(current_symptoms)\n",
        "            diseases.append(current_disease)\n",
        "            # Reset the current symptoms and disease for the next entry\n",
        "            current_symptoms = None\n",
        "            current_disease = None\n",
        "        elif current_symptoms or current_disease:\n",
        "            # Handle cases where only symptoms or only disease is present\n",
        "            symptoms.append(current_symptoms)\n",
        "            diseases.append(current_disease)\n",
        "            current_symptoms = None\n",
        "            current_disease = None"
      ],
      "metadata": {
        "id": "-CPXE4sEpiKl"
      },
      "execution_count": 6,
      "outputs": []
    },
    {
      "cell_type": "code",
      "source": [
        "# Create a DataFrame\n",
        "df = pd.DataFrame({'Symptoms': symptoms, 'Disease': diseases})"
      ],
      "metadata": {
        "id": "XFUnA5R3pjw-"
      },
      "execution_count": 7,
      "outputs": []
    },
    {
      "cell_type": "code",
      "source": [
        "# Drop rows with missing values\n",
        "df = df.dropna()"
      ],
      "metadata": {
        "id": "zpcCDvABpln2"
      },
      "execution_count": 8,
      "outputs": []
    },
    {
      "cell_type": "code",
      "source": [
        "df"
      ],
      "metadata": {
        "colab": {
          "base_uri": "https://localhost:8080/",
          "height": 383
        },
        "id": "XAoXaf0Z1qqv",
        "outputId": "11e9c5ae-3ce7-4a0e-9b5d-cec96f77e78c"
      },
      "execution_count": 9,
      "outputs": [
        {
          "output_type": "execute_result",
          "data": {
            "text/plain": [
              "                                              Symptoms  \\\n",
              "0                             Cold, Shivering,Headache   \n",
              "1              Abdominal pain, nausea, vomiting, fever   \n",
              "2    Heavy menstrual bleeding, pelvic pain, painful...   \n",
              "3             Fatigue, weight loss, low blood pressure   \n",
              "4                    Jaundice, abdominal pain, fatigue   \n",
              "..                                                 ...   \n",
              "96    Symptoms of acute lymphoblastic leukaemia (AL...   \n",
              "97    Symptoms of acute lymphoblastic leukaemia in ...   \n",
              "98    Symptoms of acute lymphoblastic leukaemia in ...   \n",
              "99    Symptoms of acute myeloid leukaemia may inclu...   \n",
              "100   Symptoms of acute myeloid leukaemia in childr...   \n",
              "\n",
              "                                               Disease  \n",
              "0                                                Fever  \n",
              "1                                   Acute pancreatitis  \n",
              "2                                          Adenomyosis  \n",
              "3                                   Addison’s Disease:  \n",
              "4                                Alcohol-related liver  \n",
              "..                                                 ...  \n",
              "96                 Acute Lymphoblastic Leukaemia (ALL)  \n",
              "97     Acute Lymphoblastic Leukaemia (ALL) in Children  \n",
              "98   Acute Lymphoblastic Leukaemia (ALL) in Teenage...  \n",
              "99                       Acute Myeloid Leukaemia (AML)  \n",
              "100          Acute Myeloid Leukaemia (AML) in Children  \n",
              "\n",
              "[100 rows x 2 columns]"
            ],
            "text/html": [
              "\n",
              "  <div id=\"df-ef64153d-6bb0-4a31-ae17-5275eca5cff0\" class=\"colab-df-container\">\n",
              "    <div>\n",
              "<style scoped>\n",
              "    .dataframe tbody tr th:only-of-type {\n",
              "        vertical-align: middle;\n",
              "    }\n",
              "\n",
              "    .dataframe tbody tr th {\n",
              "        vertical-align: top;\n",
              "    }\n",
              "\n",
              "    .dataframe thead th {\n",
              "        text-align: right;\n",
              "    }\n",
              "</style>\n",
              "<table border=\"1\" class=\"dataframe\">\n",
              "  <thead>\n",
              "    <tr style=\"text-align: right;\">\n",
              "      <th></th>\n",
              "      <th>Symptoms</th>\n",
              "      <th>Disease</th>\n",
              "    </tr>\n",
              "  </thead>\n",
              "  <tbody>\n",
              "    <tr>\n",
              "      <th>0</th>\n",
              "      <td>Cold, Shivering,Headache</td>\n",
              "      <td>Fever</td>\n",
              "    </tr>\n",
              "    <tr>\n",
              "      <th>1</th>\n",
              "      <td>Abdominal pain, nausea, vomiting, fever</td>\n",
              "      <td>Acute pancreatitis</td>\n",
              "    </tr>\n",
              "    <tr>\n",
              "      <th>2</th>\n",
              "      <td>Heavy menstrual bleeding, pelvic pain, painful...</td>\n",
              "      <td>Adenomyosis</td>\n",
              "    </tr>\n",
              "    <tr>\n",
              "      <th>3</th>\n",
              "      <td>Fatigue, weight loss, low blood pressure</td>\n",
              "      <td>Addison’s Disease:</td>\n",
              "    </tr>\n",
              "    <tr>\n",
              "      <th>4</th>\n",
              "      <td>Jaundice, abdominal pain, fatigue</td>\n",
              "      <td>Alcohol-related liver</td>\n",
              "    </tr>\n",
              "    <tr>\n",
              "      <th>...</th>\n",
              "      <td>...</td>\n",
              "      <td>...</td>\n",
              "    </tr>\n",
              "    <tr>\n",
              "      <th>96</th>\n",
              "      <td>Symptoms of acute lymphoblastic leukaemia (AL...</td>\n",
              "      <td>Acute Lymphoblastic Leukaemia (ALL)</td>\n",
              "    </tr>\n",
              "    <tr>\n",
              "      <th>97</th>\n",
              "      <td>Symptoms of acute lymphoblastic leukaemia in ...</td>\n",
              "      <td>Acute Lymphoblastic Leukaemia (ALL) in Children</td>\n",
              "    </tr>\n",
              "    <tr>\n",
              "      <th>98</th>\n",
              "      <td>Symptoms of acute lymphoblastic leukaemia in ...</td>\n",
              "      <td>Acute Lymphoblastic Leukaemia (ALL) in Teenage...</td>\n",
              "    </tr>\n",
              "    <tr>\n",
              "      <th>99</th>\n",
              "      <td>Symptoms of acute myeloid leukaemia may inclu...</td>\n",
              "      <td>Acute Myeloid Leukaemia (AML)</td>\n",
              "    </tr>\n",
              "    <tr>\n",
              "      <th>100</th>\n",
              "      <td>Symptoms of acute myeloid leukaemia in childr...</td>\n",
              "      <td>Acute Myeloid Leukaemia (AML) in Children</td>\n",
              "    </tr>\n",
              "  </tbody>\n",
              "</table>\n",
              "<p>100 rows × 2 columns</p>\n",
              "</div>\n",
              "    <div class=\"colab-df-buttons\">\n",
              "\n",
              "  <div class=\"colab-df-container\">\n",
              "    <button class=\"colab-df-convert\" onclick=\"convertToInteractive('df-ef64153d-6bb0-4a31-ae17-5275eca5cff0')\"\n",
              "            title=\"Convert this dataframe to an interactive table.\"\n",
              "            style=\"display:none;\">\n",
              "\n",
              "  <svg xmlns=\"http://www.w3.org/2000/svg\" height=\"24px\" viewBox=\"0 -960 960 960\">\n",
              "    <path d=\"M120-120v-720h720v720H120Zm60-500h600v-160H180v160Zm220 220h160v-160H400v160Zm0 220h160v-160H400v160ZM180-400h160v-160H180v160Zm440 0h160v-160H620v160ZM180-180h160v-160H180v160Zm440 0h160v-160H620v160Z\"/>\n",
              "  </svg>\n",
              "    </button>\n",
              "\n",
              "  <style>\n",
              "    .colab-df-container {\n",
              "      display:flex;\n",
              "      gap: 12px;\n",
              "    }\n",
              "\n",
              "    .colab-df-convert {\n",
              "      background-color: #E8F0FE;\n",
              "      border: none;\n",
              "      border-radius: 50%;\n",
              "      cursor: pointer;\n",
              "      display: none;\n",
              "      fill: #1967D2;\n",
              "      height: 32px;\n",
              "      padding: 0 0 0 0;\n",
              "      width: 32px;\n",
              "    }\n",
              "\n",
              "    .colab-df-convert:hover {\n",
              "      background-color: #E2EBFA;\n",
              "      box-shadow: 0px 1px 2px rgba(60, 64, 67, 0.3), 0px 1px 3px 1px rgba(60, 64, 67, 0.15);\n",
              "      fill: #174EA6;\n",
              "    }\n",
              "\n",
              "    .colab-df-buttons div {\n",
              "      margin-bottom: 4px;\n",
              "    }\n",
              "\n",
              "    [theme=dark] .colab-df-convert {\n",
              "      background-color: #3B4455;\n",
              "      fill: #D2E3FC;\n",
              "    }\n",
              "\n",
              "    [theme=dark] .colab-df-convert:hover {\n",
              "      background-color: #434B5C;\n",
              "      box-shadow: 0px 1px 3px 1px rgba(0, 0, 0, 0.15);\n",
              "      filter: drop-shadow(0px 1px 2px rgba(0, 0, 0, 0.3));\n",
              "      fill: #FFFFFF;\n",
              "    }\n",
              "  </style>\n",
              "\n",
              "    <script>\n",
              "      const buttonEl =\n",
              "        document.querySelector('#df-ef64153d-6bb0-4a31-ae17-5275eca5cff0 button.colab-df-convert');\n",
              "      buttonEl.style.display =\n",
              "        google.colab.kernel.accessAllowed ? 'block' : 'none';\n",
              "\n",
              "      async function convertToInteractive(key) {\n",
              "        const element = document.querySelector('#df-ef64153d-6bb0-4a31-ae17-5275eca5cff0');\n",
              "        const dataTable =\n",
              "          await google.colab.kernel.invokeFunction('convertToInteractive',\n",
              "                                                    [key], {});\n",
              "        if (!dataTable) return;\n",
              "\n",
              "        const docLinkHtml = 'Like what you see? Visit the ' +\n",
              "          '<a target=\"_blank\" href=https://colab.research.google.com/notebooks/data_table.ipynb>data table notebook</a>'\n",
              "          + ' to learn more about interactive tables.';\n",
              "        element.innerHTML = '';\n",
              "        dataTable['output_type'] = 'display_data';\n",
              "        await google.colab.output.renderOutput(dataTable, element);\n",
              "        const docLink = document.createElement('div');\n",
              "        docLink.innerHTML = docLinkHtml;\n",
              "        element.appendChild(docLink);\n",
              "      }\n",
              "    </script>\n",
              "  </div>\n",
              "\n",
              "\n",
              "<div id=\"df-824d4bf5-54cf-48fb-bef5-2114381e216e\">\n",
              "  <button class=\"colab-df-quickchart\" onclick=\"quickchart('df-824d4bf5-54cf-48fb-bef5-2114381e216e')\"\n",
              "            title=\"Suggest charts\"\n",
              "            style=\"display:none;\">\n",
              "\n",
              "<svg xmlns=\"http://www.w3.org/2000/svg\" height=\"24px\"viewBox=\"0 0 24 24\"\n",
              "     width=\"24px\">\n",
              "    <g>\n",
              "        <path d=\"M19 3H5c-1.1 0-2 .9-2 2v14c0 1.1.9 2 2 2h14c1.1 0 2-.9 2-2V5c0-1.1-.9-2-2-2zM9 17H7v-7h2v7zm4 0h-2V7h2v10zm4 0h-2v-4h2v4z\"/>\n",
              "    </g>\n",
              "</svg>\n",
              "  </button>\n",
              "\n",
              "<style>\n",
              "  .colab-df-quickchart {\n",
              "      --bg-color: #E8F0FE;\n",
              "      --fill-color: #1967D2;\n",
              "      --hover-bg-color: #E2EBFA;\n",
              "      --hover-fill-color: #174EA6;\n",
              "      --disabled-fill-color: #AAA;\n",
              "      --disabled-bg-color: #DDD;\n",
              "  }\n",
              "\n",
              "  [theme=dark] .colab-df-quickchart {\n",
              "      --bg-color: #3B4455;\n",
              "      --fill-color: #D2E3FC;\n",
              "      --hover-bg-color: #434B5C;\n",
              "      --hover-fill-color: #FFFFFF;\n",
              "      --disabled-bg-color: #3B4455;\n",
              "      --disabled-fill-color: #666;\n",
              "  }\n",
              "\n",
              "  .colab-df-quickchart {\n",
              "    background-color: var(--bg-color);\n",
              "    border: none;\n",
              "    border-radius: 50%;\n",
              "    cursor: pointer;\n",
              "    display: none;\n",
              "    fill: var(--fill-color);\n",
              "    height: 32px;\n",
              "    padding: 0;\n",
              "    width: 32px;\n",
              "  }\n",
              "\n",
              "  .colab-df-quickchart:hover {\n",
              "    background-color: var(--hover-bg-color);\n",
              "    box-shadow: 0 1px 2px rgba(60, 64, 67, 0.3), 0 1px 3px 1px rgba(60, 64, 67, 0.15);\n",
              "    fill: var(--button-hover-fill-color);\n",
              "  }\n",
              "\n",
              "  .colab-df-quickchart-complete:disabled,\n",
              "  .colab-df-quickchart-complete:disabled:hover {\n",
              "    background-color: var(--disabled-bg-color);\n",
              "    fill: var(--disabled-fill-color);\n",
              "    box-shadow: none;\n",
              "  }\n",
              "\n",
              "  .colab-df-spinner {\n",
              "    border: 2px solid var(--fill-color);\n",
              "    border-color: transparent;\n",
              "    border-bottom-color: var(--fill-color);\n",
              "    animation:\n",
              "      spin 1s steps(1) infinite;\n",
              "  }\n",
              "\n",
              "  @keyframes spin {\n",
              "    0% {\n",
              "      border-color: transparent;\n",
              "      border-bottom-color: var(--fill-color);\n",
              "      border-left-color: var(--fill-color);\n",
              "    }\n",
              "    20% {\n",
              "      border-color: transparent;\n",
              "      border-left-color: var(--fill-color);\n",
              "      border-top-color: var(--fill-color);\n",
              "    }\n",
              "    30% {\n",
              "      border-color: transparent;\n",
              "      border-left-color: var(--fill-color);\n",
              "      border-top-color: var(--fill-color);\n",
              "      border-right-color: var(--fill-color);\n",
              "    }\n",
              "    40% {\n",
              "      border-color: transparent;\n",
              "      border-right-color: var(--fill-color);\n",
              "      border-top-color: var(--fill-color);\n",
              "    }\n",
              "    60% {\n",
              "      border-color: transparent;\n",
              "      border-right-color: var(--fill-color);\n",
              "    }\n",
              "    80% {\n",
              "      border-color: transparent;\n",
              "      border-right-color: var(--fill-color);\n",
              "      border-bottom-color: var(--fill-color);\n",
              "    }\n",
              "    90% {\n",
              "      border-color: transparent;\n",
              "      border-bottom-color: var(--fill-color);\n",
              "    }\n",
              "  }\n",
              "</style>\n",
              "\n",
              "  <script>\n",
              "    async function quickchart(key) {\n",
              "      const quickchartButtonEl =\n",
              "        document.querySelector('#' + key + ' button');\n",
              "      quickchartButtonEl.disabled = true;  // To prevent multiple clicks.\n",
              "      quickchartButtonEl.classList.add('colab-df-spinner');\n",
              "      try {\n",
              "        const charts = await google.colab.kernel.invokeFunction(\n",
              "            'suggestCharts', [key], {});\n",
              "      } catch (error) {\n",
              "        console.error('Error during call to suggestCharts:', error);\n",
              "      }\n",
              "      quickchartButtonEl.classList.remove('colab-df-spinner');\n",
              "      quickchartButtonEl.classList.add('colab-df-quickchart-complete');\n",
              "    }\n",
              "    (() => {\n",
              "      let quickchartButtonEl =\n",
              "        document.querySelector('#df-824d4bf5-54cf-48fb-bef5-2114381e216e button');\n",
              "      quickchartButtonEl.style.display =\n",
              "        google.colab.kernel.accessAllowed ? 'block' : 'none';\n",
              "    })();\n",
              "  </script>\n",
              "</div>\n",
              "    </div>\n",
              "  </div>\n"
            ],
            "application/vnd.google.colaboratory.intrinsic+json": {
              "type": "dataframe",
              "variable_name": "df",
              "summary": "{\n  \"name\": \"df\",\n  \"rows\": 100,\n  \"fields\": [\n    {\n      \"column\": \"Symptoms\",\n      \"properties\": {\n        \"dtype\": \"string\",\n        \"num_unique_values\": 100,\n        \"samples\": [\n          \" Symptoms of diabetes may include increased thirst, frequent urination, and fatigue.\",\n          \" Symptoms of chilblains may include red, itchy, or swollen skin in response to cold exposure.\",\n          \" Symptoms of conjunctivitis may include redness, itching, and discharge from the eyes.\"\n        ],\n        \"semantic_type\": \"\",\n        \"description\": \"\"\n      }\n    },\n    {\n      \"column\": \"Disease\",\n      \"properties\": {\n        \"dtype\": \"string\",\n        \"num_unique_values\": 100,\n        \"samples\": [\n          \"Diabetes\",\n          \"Chilblains\",\n          \"Conjunctivitis\"\n        ],\n        \"semantic_type\": \"\",\n        \"description\": \"\"\n      }\n    }\n  ]\n}"
            }
          },
          "metadata": {},
          "execution_count": 9
        },
        {
          "output_type": "stream",
          "name": "stdout",
          "text": [
            "Error: Runtime no longer has a reference to this dataframe, please re-run this cell and try again.\n"
          ]
        },
        {
          "output_type": "display_data",
          "data": {
            "text/plain": [
              "<google.colab._quickchart_helpers.SectionTitle at 0x7832bddbeb00>"
            ],
            "text/html": [
              "<h4 class=\"colab-quickchart-section-title\">Distributions</h4>\n",
              "<style>\n",
              "  .colab-quickchart-section-title {\n",
              "      clear: both;\n",
              "  }\n",
              "</style>"
            ]
          },
          "metadata": {}
        },
        {
          "output_type": "display_data",
          "data": {
            "text/plain": [
              "from matplotlib import pyplot as plt\n",
              "df['EncodedDisease'].plot(kind='hist', bins=20, title='EncodedDisease')\n",
              "plt.gca().spines[['top', 'right',]].set_visible(False)"
            ],
            "text/html": [
              "      <div class=\"colab-quickchart-chart-with-code\" id=\"chart-48021cd8-378f-4437-93eb-e9bb6f6fc1de\">\n",
              "        <img style=\"width: 180px;\" src=\"data:image/png;base64,iVBORw0KGgoAAAANSUhEUgAAAiAAAAGrCAYAAAD5FiyaAAAAOXRFWHRTb2Z0d2FyZQBNYXRwbG90\n",
              "bGliIHZlcnNpb24zLjcuMSwgaHR0cHM6Ly9tYXRwbG90bGliLm9yZy/bCgiHAAAACXBIWXMAAA9h\n",
              "AAAPYQGoP6dpAAAevklEQVR4nO3de3BU9f3/8deS4CqSCyRRqBAikMQqyCUYI3dqUeFbIUWsU8sI\n",
              "WCYIWmQQ9YdY7yVqNQVxrMA4eEdQEVsBLQjGG/dLEDVgkEBQMAqSRIHFLJ/fH477db8gzeqed8jy\n",
              "fMzsDDl7cs57z6zJ092TPT7nnBMAAIChRvU9AAAAOPkQIAAAwBwBAgAAzBEgAADAHAECAADMESAA\n",
              "AMAcAQIAAMwRIAAAwBwBAgAAzBEgAOrs9ttvV9++fX/RNnr27Km77ror4u8bMGCA7r333l+0bwAn\n",
              "DgIEOIH17dtXp5xyipo2bRp2mzt3bn2PFjU+n0+nnXaaEhISlJSUpOzsbI0aNUqbN28OW2/x4sX6\n",
              "61//Wk9TAog2AgQ4wd1yyy365ptvwm5XXXVVfY8VVf/+979VU1Oj/fv367XXXlNiYqK6du2qRYsW\n",
              "1fdoADxCgAAN1JNPPqlWrVppxowZysjIUFJSkq688kpVV1eH1tm3b5/Gjh2rs88+WwkJCTrnnHP0\n",
              "xhtvSJKCwaD+/ve/KysrS0lJSerWrZsWL14cto9nnnlGmZmZSkhI0JAhQ7R///6w+w8dOqTbbrtN\n",
              "7dq1U7NmzdS7d29t2LAhdH9tba1uueUWtWjRQmlpaZo0adJxH5PP51NmZqaKiop01VVXacyYMfrh\n",
              "epl9+/bV7bffLkk6fPiwxo4dqxYtWighIUEZGRmaPn16aDulpaX63e9+pzPPPFNnnXWWxo4dq2+/\n",
              "/TZ0/x133KGsrCwlJCSodevW+stf/qIDBw6E7p83b57OO+88JSYmKjU1Vb/97W/r/JgB1A0BAjRg\n",
              "e/bsUWlpqT7++GOVlpZq48aNevjhhyVJzjnl5+ervLxcxcXFqq6u1qJFi9S6dWtJ0tSpUzVt2jS9\n",
              "8MIL2rt3ryZOnKjBgwdr/fr1kqT3339f1157rYqKivT1119r5MiReuKJJ8L2f91112n16tUqLi7W\n",
              "l19+qT/84Q+69NJLQ6Hy4IMPat68eVq2bJl27dql+Ph4rVq1qk6PbdiwYdq5c6e2bt161H1PPfWU\n",
              "VqxYoc2bN6umpkYrV65Ujx49JElfffWVevXqpYsvvlg7d+5USUmJtm7dqvHjx4e+PzMzU0uXLlV1\n",
              "dbVef/11LV68OHR+yYEDBzRs2DBNnz5d1dXV2rVrl2677bY6P2YAdeQAnLD69Onj/H6/S0pKCrtt\n",
              "3brVzZ492/n9fnf48OHQ+hMnTnSXXXaZc865NWvWOJ/P5yorK4+57aysLDd16tSwZYMGDXKjR492\n",
              "zjk3atQoN2TIkLD7hwwZ4vr06eOcc+6rr75yklxpaWnYOu3bt3fPPPNM6N+PPPJI6L7a2lqXlpbm\n",
              "7rzzztAySW7JkiVHzffRRx85Se69994LHYvJkyc755x78sknXfv27V1xcXHY43fOuYcfftjl5eWF\n",
              "LXv33XfdKaec4mpra495LIqKilzXrl2dc859++23rkmTJu7RRx91X375Zdh6dXnMAOqGV0CAE9zE\n",
              "iRO1f//+sFtmZqYkKTU1VY0bNw6te/rpp6umpkaStH37djVr1kxpaWnH3G5FRYXatWsXtqx9+/ba\n",
              "uXOnJGnXrl06++yzw+7/8ddlZWWSpAsvvFDJycmh22effaZdu3YdcxtxcXFKT0+v0+P+YY6UlJSj\n",
              "7hs2bJhGjx6tm2++WampqRowYIDWrVsnSfrkk0+0bt26sJkGDhwon8+nPXv2SJJmzJihrl27KiUl\n",
              "RUlJSZo8ebIqKyslSU2aNNHrr7+upUuXKjs7Wx07dtS0adPq/JgB1E18fQ8AwBsZGRn6+uuv9dVX\n",
              "Xyk1NfWo+1u3bq1t27aFLdu2bVsoEFq1aqXy8vKw+3/8dYsWLSRJmzZt+smo+L/bCAaDqqioqNP8\n",
              "zz33nNLT05WVlXXUfXFxcZo4caImTpyob775RnfccYcGDx6sXbt2qUWLFurZs6eWLVt2zO2uWLFC\n",
              "N9xwg/7zn/+oZ8+eaty4sf7xj3+E3rqSpF69eqlXr15yzqm4uFiXXXaZzj333NAsx3vMAOqGV0CA\n",
              "GNWtWzd1795dI0eODP3f+fbt2/Xxxx9LkkaNGqWHHnpIGzduVG1trebNm6dFixZp1KhRkqThw4fr\n",
              "X//6lxYuXKhgMKiFCxeG/VVKmzZtlJ+fr+uvv147duyQJNXU1Gjx4sXavXt3aBsPP/ywSktLFQgE\n",
              "dM8992jfvn3HnXvbtm26+eabNWfOHD366KPy+XxHrbNs2TKtXbtWhw8f1qmnnqqmTZsqLi5OkjRy\n",
              "5Eht2LBBjz32mA4cOCDnnCoqKrRgwQJJUlVVleLi4pSWlqbGjRtr/fr1evTRR0Pb3rNnj1588UXt\n",
              "379fPp9PycnJ8vl8io+Pr9NjBlA3BAhwgnvwwQeP+hyQBx988L9+n8/n06uvvqqWLVvqoosuUkJC\n",
              "ggYOHBh6BWLChAm6/vrrNXToUDVv3lwPPPCA5s+fr27dukn6/gPDZs6cqRtvvFHJycl64okndO21\n",
              "14bt4/nnn1dOTo769++vhIQEZWdna9asWaG/XLn11ls1ZMgQ9enTR61atdLhw4d14YUXHjXr5Zdf\n",
              "roSEBCUmJmrAgAHau3ev1q5dq8svv/yYj62yslIjRoxQ8+bNlZaWpuLiYr300kuSpPT0dK1YsUJL\n",
              "lixRu3btlJycrEsvvVQffPCBJOmSSy7Rddddp759+yopKUm33Xabhg8fHtq2c06PP/642rZtq6ZN\n",
              "m2ro0KH629/+pn79+tXpMQOoG5/jvxoAAGCMV0AAAIA5AgQAAJgjQAAAgDkCBAAAmCNAAACAOQIE\n",
              "AACYI0AAAIC5EzZAfrj2AgAAiD0nbID88DHHAAAg9pywAQIAAGIXAQIAAMwRIAAAwBwBAgAAzBEg\n",
              "AADAHAECAADMESAAAMAcAQIAAMwRIAAAwBwBAgAAzBEgAADAHAECAADMeRogGRkZys7OVufOndW5\n",
              "c2fNnTvXy90BAIAGIt7rHcydO1edO3f2ejcAAKAB8TxA6iIQCCgQCIQtCwaD9TQNAADwmucBcs01\n",
              "18g5p9zcXN1///1KS0s7ap3CwkLdfffdYcvy8vI8mynj/y30bNsAADQE5ff/T73u39NzQN5++21t\n",
              "2rRJ69evV2pqqoYPH37M9SZNmqSqqqqwW25urpejAQCAeuTpKyDp6emSpMaNG2v8+PHKyso65np+\n",
              "v19+vz9sWVxcnJejAQCAeuTZKyDffvut9u/fH/p6zpw56tKli1e7AwAADYhnr4B88cUXuuKKKxQM\n",
              "BuWcU9u2bfX00097tTsAANCAeBYgbdu21YYNG7zaPAAAaMD4JFQAAGCOAAEAAOYIEAAAYI4AAQAA\n",
              "5ggQAABgjgABAADmCBAAAGCOAAEAAOYIEAAAYI4AAQAA5ggQAABgjgABAADmCBAAAGCOAAEAAOYI\n",
              "EAAAYI4AAQAA5ggQAABgjgABAADmCBAAAGCOAAEAAOYIEAAAYI4AAQAA5ggQAABgjgABAADmCBAA\n",
              "AGCOAAEAAOYIEAAAYI4AAQAA5ggQAABgjgABAADmCBAAAGCOAAEAAOYIEAAAYI4AAQAA5ggQAABg\n",
              "jgABAADmCBAAAGCOAAEAAOYIEAAAYI4AAQAA5ggQAABgjgABAADmCBAAAGCOAAEAAOYIEAAAYI4A\n",
              "AQAA5ggQAABgjgABAADmCBAAAGCOAAEAAOYIEAAAYI4AAQAA5ggQAABgjgABAADmCBAAAGCOAAEA\n",
              "AOYIEAAAYI4AAQAA5ggQAABgjgABAADmCBAAAGDOJEBmz54tn8+nBQsWWOwOAACc4DwPkPLycs2a\n",
              "NUt5eXle7woAADQQngbIkSNHNGrUKE2fPl1+v9/LXQEAgAYk3suNFxUVqUePHsrJyTnueoFAQIFA\n",
              "IGxZMBj0cjQAAFCPPHsFZPPmzXr55Zd1++23/9d1CwsLlZSUFHZbvXq1V6MBAIB65lmAvPPOOyov\n",
              "L1dmZqYyMjK0cuVKFRQU6J///OdR606aNElVVVVht9zcXK9GAwAA9cyzt2DGjBmjMWPGhL7u27ev\n",
              "xo8fr/z8/KPW9fv9R50jEhcX59VoAACgnvE5IAAAwJynJ6H+2FtvvWW1KwAAcILjFRAAAGCOAAEA\n",
              "AOYIEAAAYI4AAQAA5ggQAABgjgABAADmCBAAAGCOAAEAAOYIEAAAYI4AAQAA5ggQAABgjgABAADm\n",
              "CBAAAGCOAAEAAOYIEAAAYI4AAQAA5ggQAABgjgABAADmCBAAAGCOAAEAAOYIEAAAYI4AAQAA5ggQ\n",
              "AABgjgABAADmCBAAAGCOAAEAAOYIEAAAYI4AAQAA5ggQAABgjgABAADmCBAAAGCOAAEAAOYIEAAA\n",
              "YI4AAQAA5ggQAABgjgABAADmCBAAAGCOAAEAAOYIEAAAYI4AAQAA5ggQAABgjgABAADmCBAAAGCO\n",
              "AAEAAOYIEAAAYI4AAQAA5ggQAABgjgABAADmCBAAAGCOAAEAAOYIEAAAYI4AAQAA5ggQAABgjgAB\n",
              "AADmCBAAAGCOAAEAAOYIEAAAYI4AAQAA5ggQAABgjgABAADmCBAAAGCOAAEAAObivdz4JZdcoj17\n",
              "9qhRo0ZKSEjQI488oi5duni5SwAA0AB4GiDz5s1TcnKyJOmVV17RiBEjVFJS4uUuAQBAA+BpgPwQ\n",
              "H5JUVVUln893zPUCgYACgUDYsmAw6OVoAACgHnkaIJJ0zTXXaPny5ZKkRYsWHXOdwsJC3X333WHL\n",
              "8vLyvB4NAADUk4hPQn3jjTciWv/pp59WRUWF7rvvPt16663HXGfSpEmqqqoKu+Xm5kY6GgAAaCAi\n",
              "DpB77rlH2dnZmjZtmqqrq+v8fcOHD9fy5cu1d+/eo+7z+/1KTEwMu8XFxUU6GgAAaCAiDpD33ntP\n",
              "L7zwgjZv3qysrCyNHTtWH3300VHr7d+/X59//nno6wULFiglJUXNmzf/ZRMDAIAG72edA9KlSxfN\n",
              "mjVLGzdu1KBBgzRz5kz169dPRUVF6tixo6TvTzq98sordfDgQTVq1EhpaWl67bXXfvJEVAAAcPL4\n",
              "WQGydOlSTZ8+XR988IGuv/56/fnPf9Zbb72l3//+9yorK5MktWnTRqtXr47qsAAAIDZEHCC//vWv\n",
              "lZqaqnHjxmnIkCGhczWGDh2qJ554IuoDAgCA2BNxgDz77LPKyck55n2LFy/+xQMBAIDYF/FJqOvW\n",
              "rdO+fftCX+/du1ezZs2K6lAAACC2RRwgjz32WNhfsqSkpOixxx6L6lAAACC2RRwgzrmjlvGx6QAA\n",
              "IBIRB0jLli01b9680Ndz585Vy5YtozoUAACIbRGfhDp16lQNHjxYt9xyiySpSZMmevXVV6M+GAAA\n",
              "iF0RB8g555yjjz76SFu2bJEkZWdn87HpAAAgIj/rg8h8Pp+Sk5NVW1urzz77TJKUnp4e1cEAAEDs\n",
              "ijhAnnzySY0bN06NGzdWo0bfn0Li8/lUWVkZ9eEAAEBsijhA7r33Xq1Zs0bZ2dlezAMAAE4CEf8V\n",
              "TGpqKvEBAAB+kYgDJD8/X1OnTlVlZaWqq6tDNwAAgLqK+C2YyZMnS5ImTJggn88n55x8Ph8fRgYA\n",
              "AOos4gA5cuSIF3MAAICTSMRvwUjfX5DumWeekSTt379fu3fvjupQAAAgtv2si9Fde+21uuuuuyR9\n",
              "fzXcq6++OtpzAQCAGBZxgMycOVMrV65UYmKiJKldu3b68ssvoz4YAACIXREHiN/v12mnnRa2LD7+\n",
              "Z32gKgAAOElFHCBpaWnaunWrfD6fpO8/GZWPYQcAAJH4WVfD/eMf/6jS0lK1bt1aiYmJeu2117yY\n",
              "DQAAxKiIA6R9+/ZatWqVtmzZIuccV8MFAAARizhAdu7cKUk6/fTTJYmr4QIAgIhFHCA5OTmhT0A9\n",
              "dOiQDhw4oJSUFK6GCwAA6iziAPm/f3I7f/58lZSURG0gAAAQ+37WJ6H+2JAhQ7Rw4cJozAIAAE4S\n",
              "Eb8C8uMr3waDQa1atYqr4QIAgIhEHCDJycmhc0Di4uKUmZmpRx55xIvZAABAjOJquAAAwNwvPgcE\n",
              "AAAgUhG/AtKoUaPQx7D/mHNOPp9PwWAwKoMBAIDYFXGA3HPPPTp48KDGjBkjSXr88cd12mmnafz4\n",
              "8dGeDQAAxKiIA+SVV17RunXrQl/fd999ysnJ0eTJk6M6GAAAiF0RnwNSU1MT9qmnlZWVqqmpiepQ\n",
              "AAAgtkX8CshNN92kTp06aeDAgZKk119/XXfddVe05wIAADEs4gAZPXq0evTooeXLl0uSJkyYoPPO\n",
              "Oy/qgwEAgNgVcYBIUkpKijp27Ki+ffuqtrZWhw8f1imnnBLt2QAAQIyK+ByQl156SXl5eRo5cqQk\n",
              "6cMPP1R+fn605wIAADEs4gApLCzU+vXrlZycLEnq1KmTduzYEe25AABADIs4QOLi4pSSkhK2jLdf\n",
              "AABAJCIOkISEBH3xxRehT0N988031bx586gPBgAAYlfEJ6E+8MADGjBggD799FP17NlT27dv18KF\n",
              "C72YDQAAxKiIAuTIkSMKBoNavny53n//fTnn1L1799D5IAAAAHURUYA0atRIBQUFKikp0YABA7ya\n",
              "CQAAxLiIzwHJzMxUWVmZF7MAAICTRMTngOzbt0+dO3dW9+7d1bRp09Dy+fPnR3UwAAAQu+ocIAUF\n",
              "BZo5c6aGDx+uQYMGqVmzZl7OBQAAYlidA2Tt2rWSpOHDh6tr165av369Z0MBAIDYFvE5IJLknIv2\n",
              "HAAA4CRS51dADh48qA8++EDOOR06dCj07x+cf/75ngwIAABiT0QBMmjQoNDXP/63z+fTp59+Gt3J\n",
              "AABAzKpzgJSXl3s4BgAAOJn8rHNAAAAAfgkCBAAAmCNAAACAOQIEAACYI0AAAIA5AgQAAJgjQAAA\n",
              "gDkCBAAAmCNAAACAOc8C5NChQ8rPz1dWVpY6deqk/v37q6yszKvdAQCABsTTV0AKCgq0ZcsWlZSU\n",
              "aPDgwRo1apSXuwMAAA2EZwFy6qmnauDAgfL5fJKkvLy8n7yeTCAQUHV1ddgtGAx6NRoAAKhnZueA\n",
              "TJs2TYMHDz7mfYWFhUpKSgq7rV692mo0AABgzCRApkyZorKyMhUWFh7z/kmTJqmqqirslpubazEa\n",
              "AACoB/Fe7+Chhx7S/PnztXTpUjVp0uSY6/j9fvn9/rBlcXFxXo8GAADqiacBUlRUpDlz5mjp0qVK\n",
              "Tk72clcAAKAB8SxAdu3apZtuuklt27ZVv379JH3/SseqVau82iUAAGggPAuQVq1ayTnn1eYBAEAD\n",
              "xiehAgAAcwQIAAAwR4AAAABzBAgAADBHgAAAAHMECAAAMEeAAAAAcwQIAAAwR4AAAABzBAgAADBH\n",
              "gAAAAHMECAAAMEeAAAAAcwQIAAAwR4AAAABzBAgAADBHgAAAAHMECAAAMEeAAAAAcwQIAAAwR4AA\n",
              "AABzBAgAADBHgAAAAHMECAAAMEeAAAAAcwQIAAAwR4AAAABzBAgAADBHgAAAAHMECAAAMEeAAAAA\n",
              "cwQIAAAwR4AAAABzBAgAADBHgAAAAHMECAAAMEeAAAAAcwQIAAAwR4AAAABzBAgAADBHgAAAAHME\n",
              "CAAAMEeAAAAAcwQIAAAwR4AAAABzBAgAADBHgAAAAHMECAAAMEeAAAAAcwQIAAAwR4AAAABzBAgA\n",
              "ADBHgAAAAHMECAAAMEeAAAAAcwQIAAAwR4AAAABzBAgAADBHgAAAAHMECAAAMEeAAAAAcwQIAAAw\n",
              "52mAjBs3ThkZGfL5fNq4caOXuwIAAA2IpwEydOhQvfvuu2rTpo2XuwEAAA1MvJcb7927d53WCwQC\n",
              "CgQCYcuCwaAXIwEAgBPACXEOSGFhoZKSksJuq1evru+xAACAR06IAJk0aZKqqqrCbrm5ufU9FgAA\n",
              "8Iinb8HUld/vl9/vD1sWFxdXT9MAAACvnRCvgAAAgJOLpwEyevRotWrVSrt27dKll16q9u3be7k7\n",
              "AADQQHj6FsyMGTO83DwAAGigeAsGAACYI0AAAIA5AgQAAJgjQAAAgDkCBAAAmCNAAACAOQIEAACY\n",
              "I0AAAIA5AgQAAJgjQAAAgDkCBAAAmCNAAACAOQIEAACYI0AAAIA5AgQAAJgjQAAAgDkCBAAAmCNA\n",
              "AACAOQIEAACYI0AAAIA5AgQAAJgjQAAAgDkCBAAAmCNAAACAOQIEAACYI0AAAIA5AgQAAJgjQAAA\n",
              "gDkCBAAAmCNAAACAOQIEAACYI0AAAIA5AgQAAJgjQAAAgDkCBAAAmCNAAACAOQIEAACYI0AAAIA5\n",
              "AgQAAJgjQAAAgDkCBAAAmCNAAACAOQIEAACYI0AAAIA5AgQAAJgjQAAAgDkCBAAAmCNAAACAOQIE\n",
              "AACYI0AAAIA5AgQAAJgjQAAAgDkCBAAAmCNAAACAOQIEAACYI0AAAIA5AgQAAJgjQAAAgDkCBAAA\n",
              "mCNAAACAOQIEAACY8zRAPvnkE3Xv3l1ZWVm64IIL9OGHH3q5OwAA0EB4GiCjR49WQUGBtm7dqltv\n",
              "vVUjRozwcncAAKCB8CxAKisrtXbtWg0bNkySdMUVV6iiokJlZWVHrRsIBFRdXR12CwaDXo0GAADq\n",
              "WbxXG66oqFDLli0VH//9Lnw+n9LT07Vz5061b98+bN3CwkLdfffdYcvOOeccTZgwIepzBYNBtVy9\n",
              "Wrm5uYqLi4v69vG/gsGgVnOsTXCs7XCs7XCsvTVhwpuhf0fzWLdp00Y33njjf13P55xzv2hPP2Hd\n",
              "unW6+uqrtWXLltCy3Nxc3X///frNb34Ttm4gEFAgEAhb5vf75ff7oz5XdXW1kpKSVFVVpcTExKhv\n",
              "H/+LY22HY22HY22HY22nPo61Z6+AtG7dWrt371Ztba3i4+PlnNPOnTuVnp5+1LpexQYAADgxeXYO\n",
              "yBlnnKGuXbvq2WeflSS9/PLLatWq1VFvvwAAgJOPZ6+ASNKMGTM0YsQITZkyRYmJiZo9e7aXuwMA\n",
              "AA2EpwGSnZ2tFStWeLmLiPn9ft1555285WOAY22HY22HY22HY22nPo61ZyehAgAA/BQ+ih0AAJgj\n",
              "QAAAgDkCBAAAmCNAAACAuZMqQLg6r3cOHTqk/Px8ZWVlqVOnTurfv3/ouj+VlZW67LLLlJmZqQ4d\n",
              "Oujtt9+u52ljw+zZs+Xz+bRgwQJJHGevBAIB3XDDDcrMzFTHjh1D17fi50n0LVq0SF27dlXnzp3V\n",
              "oUMHPfXUU5J4bkfDuHHjlJGRIZ/Pp40bN4aWH+957Plz3J1E+vXr52bPnu2cc+7FF1903bp1q9+B\n",
              "YsjBgwfdwoUL3ZEjR5xzzk2fPt316dPHOefcyJEj3Z133umcc2716tXurLPOcocPH66nSWPD9u3b\n",
              "3UUXXeTy8vLcK6+84pzjOHtl/Pjx7oYbbgg9t3fv3u2c4+dJtB05csQ1a9bMlZSUOOe+f477/X5X\n",
              "XV3NczsKiouLXUVFhWvTpo3bsGFDaPnxnsdeP8dPmgD54osvXEJCgvvuu++cc98/2c8880z3ySef\n",
              "1PNksWnNmjWuTZs2zjnnTj/99NAPbeecu+CCC9ySJUvqabKGLxgMuosvvtitXbvW9enTJxQgHOfo\n",
              "++abb1xCQoKrqqoKW87Pk+g7cuSIa968uSsuLnbOOVdSUuJ+9atfuUAgwHM7in4cIMd7Hls8x0+a\n",
              "t2COd3VeRN+0adM0ePBg7d27V999951atGgRui8jI4Pj/gsUFRWpR48eysnJCS3jOHtj27Ztat68\n",
              "uaZMmaJu3bqpV69eevPNN/l54gGfz6e5c+dqyJAhatOmjXr27KmnnnpKNTU1PLc9crznscVz3NNP\n",
              "QsXJacqUKSorK9Obb76pgwcP1vc4MWXz5s16+eWXeQ/cSG1trXbs2KFzzz1X999/vzZs2KD+/ftr\n",
              "4cKF9T1azKmtrdV9992n+fPnq3fv3lqzZo0GDRoUdr4CYstJ8wrIj6/OK+m4V+fFz/fQQw9p/vz5\n",
              "Wrx4sZo0aaKUlBTFx8drz549oXXKy8s57j/TO++8o/LycmVmZiojI0MrV65UQUGB5s2bx3H2QHp6\n",
              "uho1aqQ//elPkqQuXbro7LPP1o4dO/h5EmUbN27U559/rt69e0uSLrjgArVq1UqbNm3iue2R4/1e\n",
              "tPidedIECFfn9V5RUZHmzJmjJUuWKDk5ObT8yiuv1OOPPy5JWrNmjT777DP16dOnnqZs2MaMGaPd\n",
              "u3ervLxc5eXlysvL08yZMzVmzBiOswdSU1N18cUX64033pAkbd++Xdu3b1ePHj34eRJlP/zC+/jj\n",
              "jyVJZWVl2rZtm7Kzs3lue+R4vxdNfmdG7WySBqC0tNTl5eW5zMxMl5OT4zZt2lTfI8WMiooKJ8m1\n",
              "bdvWderUyXXq1Mnl5uY655zbs2eP69+/v2vfvr0799xz3bJly+p52tjx45NQOc7e2LZtm+vbt6/r\n",
              "0KGDO//8891LL73knOPniReef/750HHu0KGDe+6555xzPLejoaCgwJ111lkuLi7OnXHGGa5du3bO\n",
              "ueM/j71+jnMxOgAAYO6keQsGAACcOAgQAABgjgABAADmCBAAAGCOAAEAAOYIEAAAYI4AAQAA5ggQ\n",
              "AABgjgABAADmCBAAAGDu/wOJpDXIwCpfEgAAAABJRU5ErkJggg==\n",
              "\">\n",
              "      </div>\n",
              "      <script type=\"text/javascript\">\n",
              "        (() => {\n",
              "          const chartElement = document.getElementById(\"chart-48021cd8-378f-4437-93eb-e9bb6f6fc1de\");\n",
              "          async function getCodeForChartHandler(event) {\n",
              "            const chartCodeResponse =  await google.colab.kernel.invokeFunction(\n",
              "                'getCodeForChart', [\"chart-48021cd8-378f-4437-93eb-e9bb6f6fc1de\"], {});\n",
              "            const responseJson = chartCodeResponse.data['application/json'];\n",
              "            await google.colab.notebook.addCell(responseJson.code, 'code');\n",
              "          }\n",
              "          chartElement.onclick = getCodeForChartHandler;\n",
              "        })();\n",
              "      </script>\n",
              "      <style>\n",
              "        .colab-quickchart-chart-with-code  {\n",
              "            display: block;\n",
              "            float: left;\n",
              "            border: 1px solid transparent;\n",
              "        }\n",
              "\n",
              "        .colab-quickchart-chart-with-code:hover {\n",
              "            cursor: pointer;\n",
              "            border: 1px solid #aaa;\n",
              "        }\n",
              "      </style>"
            ]
          },
          "metadata": {}
        },
        {
          "output_type": "display_data",
          "data": {
            "text/plain": [
              "<google.colab._quickchart_helpers.SectionTitle at 0x7832bddbea40>"
            ],
            "text/html": [
              "<h4 class=\"colab-quickchart-section-title\">Values</h4>\n",
              "<style>\n",
              "  .colab-quickchart-section-title {\n",
              "      clear: both;\n",
              "  }\n",
              "</style>"
            ]
          },
          "metadata": {}
        },
        {
          "output_type": "display_data",
          "data": {
            "text/plain": [
              "from matplotlib import pyplot as plt\n",
              "df['EncodedDisease'].plot(kind='line', figsize=(8, 4), title='EncodedDisease')\n",
              "plt.gca().spines[['top', 'right']].set_visible(False)"
            ],
            "text/html": [
              "      <div class=\"colab-quickchart-chart-with-code\" id=\"chart-b5aeedac-e8e5-4275-a9d1-3ccb8da4a91f\">\n",
              "        <img style=\"width: 180px;\" src=\"data:image/png;base64,iVBORw0KGgoAAAANSUhEUgAAAp4AAAFuCAYAAAAoDBgXAAAAOXRFWHRTb2Z0d2FyZQBNYXRwbG90\n",
              "bGliIHZlcnNpb24zLjcuMSwgaHR0cHM6Ly9tYXRwbG90bGliLm9yZy/bCgiHAAAACXBIWXMAAA9h\n",
              "AAAPYQGoP6dpAABLfElEQVR4nO3deXzU1b3/8fdMZjJsIexrCAEywQU3EIyym1CXe+tCq22vG1oL\n",
              "7qC1t9rWW723V6+91itCEbT+0IpaUdAuuLIFsQhBwa1SspKwxLAIhCWTzMz398fkOzMJ2WdPXs/H\n",
              "g0frTDJzkpnJvOdzzvkci2EYhgAAAIAIs8Z6AAAAAOgcCJ4AAACICoInAAAAooLgCQAAgKggeAIA\n",
              "ACAqCJ4AAACICoInAAAAooLgCQAAgKggeAIAACAqCJ4A0Aa/+tWvNG3atJBuY9KkSXr44Yfb/H2X\n",
              "XXaZ/uu//iuk+waAWCJ4Aohr06ZNU3Jysnr06FHv32uvvRbroYWNxWJR165dlZKSotTUVI0ePVq3\n",
              "3nqrvvzyy3pf98477+ihhx6K0SgBIHQETwBx79///d917Nixev9+8IMfxHpYYfXXv/5VVVVVOnz4\n",
              "sP72t7+pZ8+eGjt2rN5+++1YDw0AwobgCSBhvfDCC0pLS9OSJUuUkZGh1NRUXXPNNTp69Kj/aw4d\n",
              "OqQ77rhDI0aMUEpKik477TS99957kiSPx6P//d//VVZWllJTU3X++efrnXfeqXcfL730kpxOp1JS\n",
              "UjRz5kwdPny43vXV1dX6xS9+oVGjRql3796aMmWKtm3b5r/e7Xbr3//93zVo0CD1799fDz74YLM/\n",
              "k8VikdPp1JNPPqkf/OAHuv3222UYhiRf9fdXv/qVJKmmpkZ33HGHBg0apJSUFGVkZGjBggX+29mx\n",
              "Y4f+9V//VQMHDtTQoUN1xx136Pjx4/7r/+M//kNZWVlKSUnRsGHDdPfdd+vEiRP+65cvX64zzzxT\n",
              "PXv2VL9+/ZSbm9vqnxkAmkLwBJDQKioqtGPHDn399dfasWOHtm/frt/97neSJMMwdNVVV6m0tFR5\n",
              "eXk6evSo3n77bQ0bNkyS9NRTT2n+/Pn605/+pIMHD+r+++/XlVdeqU8//VSS9Pe//1233HKLnnzy\n",
              "SX377be6+eab9fzzz9e7/9tuu01btmxRXl6e9u/fr2uvvVaXXHKJP6D+9re/1fLly7V27Vrt3r1b\n",
              "NptNmzdvbtXPdv3116usrEw7d+485boXX3xRmzZt0pdffqmqqip9/PHHmjhxoiTpwIEDmjx5snJy\n",
              "clRWVqbPPvtMO3fu1Lx58/zf73Q6tXr1ah09elTvvvuu3nnnHf/60RMnTuj666/XggULdPToUe3e\n",
              "vVu/+MUvWv0zA0CTDACIY1OnTjUcDoeRmppa79/OnTuNpUuXGg6Hw6ipqfF//f33329ceumlhmEY\n",
              "Rn5+vmGxWIzKyspGbzsrK8t46qmn6l12xRVXGHPmzDEMwzBuvfVWY+bMmfWunzlzpjF16lTDMAzj\n",
              "wIEDhiRjx44d9b4mMzPTeOmll/z//+mnn/Zf53a7jf79+xu//vWv/ZdJMj744INTxvePf/zDkGR8\n",
              "9NFH/t/FL3/5S8MwDOOFF14wMjMzjby8vHo/v2EYxu9+9zsjOzu73mUbN240kpOTDbfb3ejv4skn\n",
              "nzTGjh1rGIZhHD9+3OjWrZuxcOFCY//+/fW+rjU/MwA0hYongLh3//336/Dhw/X+OZ1OSVK/fv1k\n",
              "t9v9X9u9e3dVVVVJkkpKStS7d2/179+/0dstLy/XqFGj6l2WmZmpsrIySdLu3bs1YsSIetcH/3dh\n",
              "YaEk6YILLlCvXr38//bs2aPdu3c3ehtJSUlKT09v1c9tjqNv376nXHf99ddrzpw5+tnPfqZ+/frp\n",
              "sssu0yeffCJJKigo0CeffFJvTJdffrksFosqKiokSUuWLNHYsWPVt29fpaam6pe//KUqKyslSd26\n",
              "ddO7776r1atXa/To0TrrrLM0f/78Vv/MANAUW6wHAACRkpGRoW+//VYHDhxQv379Trl+2LBhKioq\n",
              "qndZUVGRPximpaWptLS03vXB/z1o0CBJ0ueff95kmGx4Gx6PR+Xl5a0a/8svv6z09HRlZWWdcl1S\n",
              "UpLuv/9+3X///Tp27Jj+4z/+Q1deeaV2796tQYMGadKkSVq7dm2jt7tp0ybdddddev/99zVp0iTZ\n",
              "7Xb93//9n3+JgiRNnjxZkydPlmEYysvL06WXXqozzjjDP5bmfmYAaAoVTwAd1vnnn6+LLrpIN998\n",
              "s78aV1JSoq+//lqSdOutt+qJJ57Q9u3b5Xa7tXz5cr399tu69dZbJUk33XST/vKXv2jVqlXyeDxa\n",
              "tWpVvV3mw4cP11VXXaU777xTu3btkiRVVVXpnXfe0b59+/y38bvf/U47duyQy+XSf/7nf+rQoUPN\n",
              "jruoqEg/+9nP9Oqrr2rhwoWyWCynfM3atWu1detW1dTUqEuXLurRo4eSkpIkSTfffLO2bdumRYsW\n",
              "6cSJEzIMQ+Xl5XrrrbckSUeOHFFSUpL69+8vu92uTz/9VAsXLvTfdkVFhV5//XUdPnxYFotFvXr1\n",
              "ksVikc1ma9XPDABNIXgCiHu//e1vT+nj+dvf/rbF77NYLPrzn/+swYMH68ILL1RKSoouv/xyf8Xx\n",
              "vvvu05133qnvf//76tOnjx5//HGtXLlS559/viRfo/dnn31Wc+fOVa9evfT888/rlltuqXcfr7zy\n",
              "isaNG6cZM2YoJSVFo0eP1nPPPeffif7zn/9cM2fO1NSpU5WWlqaamhpdcMEFp4z1u9/9rlJSUtSz\n",
              "Z09ddtllOnjwoLZu3arvfve7jf5slZWVmjVrlvr06aP+/fsrLy9Pb7zxhiQpPT1dmzZt0gcffKBR\n",
              "o0apV69euuSSS/TFF19Ikr7zne/otttu07Rp05Samqpf/OIXuummm/y3bRiGFi9erJEjR6pHjx76\n",
              "/ve/r//+7//W9OnTW/UzA0BTLAZ/KQAAABAFVDwBAAAQFQRPAAAARAXBEwAAAFFB8AQAAEBUEDwB\n",
              "AAAQFQRPAAAARAXBEwAAAFGREMHTPCMYAAAAiSshgqd5LBsAAAASV0IETwAAACQ+gicAAACiguAJ\n",
              "AACAqCB4AgAAICoIngAAAIgKgicAAACiok3B85577lFGRoYsFou2b9/uv7ygoEAXXXSRsrKyNH78\n",
              "eH311Vetug4AAACdR5uC5/e//31t3LhRw4cPr3f5nDlzNHv2bO3cuVM///nPNWvWrFZdBwAAgM7D\n",
              "YhiG0dZvysjI0FtvvaVzzz1XlZWVyszM1KFDh2Sz2WQYhgYPHqyNGzeqZ8+eTV6XmZnZ6G27XC65\n",
              "XK56lz300EOcXgQAAJDgQl7jWV5ersGDB8tms0mSLBaL0tPTVVZW1ux1TXnssceUmppa79+WLVtC\n",
              "HSYAAABiLO42Fz344IM6cuRIvX8TJkyI9bAAAAAQIluoNzBs2DDt27dPbrfbP51eVlam9PR09ezZ\n",
              "s8nrmuJwOORwOOpdlpSUFOowW2XP4ZO690/b5bBb9dKPL4jKfQIAAHQWIVc8BwwYoLFjx2rZsmWS\n",
              "pBUrVigtLU2ZmZnNXheP3B6vtpQe0qe7vo31UAAAADqcNlU858yZo1WrVqmiokKXXHKJUlJSVFhY\n",
              "qCVLlmjWrFl69NFH1bNnTy1dutT/Pc1dF2/sSb4cXutp834rAAAAtKBNwXPJkiWNXj569Ght2rSp\n",
              "zdfFG1uSRZJU6/XKMAxZLJYYjwgAAMTK3sMntWh9oT4qPKjfXXuOxqb3jvWQEl7Iazw7kuS6iqdh\n",
              "SB6v4Q+iAACg89h35KQWrSvSa/nlqvF4JUl5/9xP8AwDgmcQc6pdktxeQ7bo7GkCAABxYN+Rk3pm\n",
              "fZH+tCUQOLslJ+lEjUdurzfGo+sYCJ5BgiucNR6vuthJngAAdHQVR6r1zPpCvRoUOCeM6KN7c7O0\n",
              "dsc3eu7DErnZ/xEWBM8gdmug4lnr5pMNAAAd2TdHq/XM+iK9sqVMNXXv+xMy+mjeDKcuGtVPkrSh\n",
              "YL8k+QMpQkPwDGK1WmSzWuT2GnJ7+WQDAEBH1FjgHJ/RW/fmZunCUX3rbS62W33/n4pneBA8G7Al\n",
              "+YJnDRVPAAA6lMqj1Xomr0ivbC6TKyhwzsvN0kUNAqfJVrf/gzWe4UHwbMCeZFV1rZeKJwAAHUTl\n",
              "0WotzivWy5t3+QPn+cN7694ZTQdOEz2+w4vg2UDgCcYnGwAAElllVbWW5BVr2ceBwDluuG9KfWJm\n",
              "84HTZE8yp9rJBeFA8GzAfIIx1Q4AQGKqrKrWs3nFWrZ5l6prfe/nY9N76d4ZWZqU2a9NB8TY6tZ4\n",
              "UvEMD4JnA3b/Wg6eYAAAJJL9VS4tySuqFzjPS++le3OzNNnZtsBpsjETGlYEzwaYagcAILEcOOYL\n",
              "nC99HAic5w7zVTintDNwmpIpSIUVwbMBc6qd4AkAQHw7cMylZzcU66VNu3Sy1iPJFzjn5To1Nat/\n",
              "SIHTZCMXhBXBswGbld1rAADEswPHXHpuQ7H+GBQ4z6kLnNPCFDhNTLWHF8GzAbut7gnG5iIAAOLO\n",
              "Cx+V6PF3/xkInGmpmpebpWmjwxs4TTSQDy+CZwPJZtsEGsUCABBXluQV6bF3dkiSzk5L1b0RDJwm\n",
              "f8WTNZ5hQfBswJxqr+GTDQAAcePZDYHQeW9ulu7JyYxo4DTRxzO8rLEeQLwxp9p5gkVfxZFqXfzE\n",
              "ev3hw+JYDwUAEEee21CsR98OhM65uc6ohE4pqM0iBamwIHg2YLeyey1Wtu46pOIDx7Xqi32xHgoA\n",
              "IE784cNi/ffbX0uS5uY4NTfXGdX7t5ELworg2YD5yYap9uhz1fVe49QoAIDkC52/WeULnffkOHXv\n",
              "jKyojyGwxpP3pnBgjWcDTLXHTo2H4AkAkL7YfUTz1+zU6q8rJUn3XJype6Nc6TQF1nhSkAoHgmcD\n",
              "TLXHjhk4XQRPAOiUvtxzRE+tLtDqr7+RJFkt0tyc6G0kakzgREOCZzgQPBvgCRY7LrevJxsVTwDo\n",
              "XL7cc0Tz1xTog38EAueV5w7V3RdnamT/HjEdm502i2FF8GyAo7FiJ1Dx9MR4JACAaPhqr6/C2TBw\n",
              "3nVxpkbFOHCa/CcaUhQJC4JnA3aOxooZc4qdiicAdGxf7T2i+asL9H5d4LRYpCvOGaK7L3Yqc0B8\n",
              "BE6TvyBFA/mwIHg2kGyjX1essMYTADq2f+w9qvlrduq9r+I/cJoCfTx5bwoHgmcDZr+uGp5gUWcG\n",
              "TrfXkMdrKMkam4XkAIDw+nrfUc1fXaB3v6qQ5Auc3z17iO7JyVTmgJQYj655ZvD0GpLXa8jKe1NI\n",
              "CJ4NcEJB7ARXOmvcXnVNTorhaAAAofp631E9vaZA73wZCJz/ctZgzc1xyjkwvgOnyZxql3y9PB1W\n",
              "3ptCQfBswM7mopipIXgCQIewo8IXON/+InEDp8luDZy1U+sx5CA5hYRfXwOBk4sIntEW/Dv37Wy3\n",
              "x24wAIA2+2dFleav2VkvcF5eFzizEixwmoIrnqzzDB3BswGm2mPHVRtoo8QGIwBIHDu/qdL81QVa\n",
              "9cU+/2X/ctZg3ZPj1OhBiRk4TbagNZ30+A4dwbMBptpjp37Fk98/AMS7nd9Uaf6aAr39xT4ZdZns\n",
              "8rMG6Z4cp04b1DO2gwsTi8Uie5JFtR6DJvJhQPBsgD6eseOqrb/GEwAQnwrqAueqoMB52ZhBmpvb\n",
              "cQJnMJvVqlqPh9nQMCB4NsCRmbFz6hpPAEA8KfimSk+vLdTfPt/rD5yXnumrcJ4xpOMFTpMtySLV\n",
              "sv8jHAieDXBkZuw03NUOAIgPhZVVenpNof4aFDgvOXOg5uZkdejAaWL/R/gQPBtI5skVM8FVTtZ4\n",
              "AkDsFVYe04K1BfrLZ4HA+Z0zBmpurlNnDkmN7eCiyNxgRFEqdATPBmy0U4oZKp4AEB+K9h/TgjW+\n",
              "wOkNCpz35Dg1ZmjnCZwmf8WT89pDRvBsgF3tsRNc5aTiCQDRV7z/mBasLdSft+/xB84ZZwzU3E4a\n",
              "OE1mNqCPZ+gIng0w1R479SqeHjYXAUC0FO8/poVrC/VWUODMPX2A5uVmderAaWI2NHwIng3YaKcU\n",
              "M8HBM7i1EgAgMkoOHNeCtQV6a1v9wDk3J0tnpRE4TeYaT4pSoSN4NuCfaqdJbNS56lU8+f0DQKSU\n",
              "HjiuBXUVTk9d4sw5bYDm5jp1dlqv2A4uDgXWePLeFCqCZwP+Pp5uPtVEk2EY9ft4UvEEgLArPXBc\n",
              "C9cV6s1tgcA5fXR/zcvN0jnDesV2cHEssP+DbBAqgmcDnFwUGw03E1HxBIDw2XXQV+EkcLaPjf0f\n",
              "YUPwbIBd7bHRMGi6atlcBAChKjt4QgvWFmhlUOCcVhc4zyVwthrZIHwIng1wZGZsNOzb6eLFDQDt\n",
              "Vn7IFzhXfBoInFOz+mturlNj03vHeHSJx2ZlNjRcCJ4NsIA4NhpOtbPGEwDarvzQCS1cW6gVn+72\n",
              "NzsncIbO38eTBvIhI3g2YAtaQGwYhiwWS4xH1Dk0rHiyxhMAWq/80An9fl2h3vgkEDinZPXX3Byn\n",
              "xg0ncIYqcFY7702hIng2YD65JF/4TLYRPKMh+Jx2iYonALRG+aETWrS+UK9vDQTOyc5+mpfr1Ljh\n",
              "fWI8uo7DxjK8sLG2/CWt9/bbb2vs2LE699xzNWbMGL344ouSpMrKSl166aVyOp0aM2aMNmzYEM67\n",
              "DavkoODJdHv0UPEEgNbb/e0JPbjyC01/Yr1e3VIut9fQZGc/vXHbhXrpxxcQOsPMbmVzUbiEreJp\n",
              "GIauv/56rV+/XmeffbZKS0t12mmnaebMmXrggQeUnZ2td999V/n5+br66qtVUlIiu90errsPG3Oq\n",
              "Xarr5Zkcw8F0IqdsLmJXOwCcYs/hk/r9ukK9vrXcX32blNlPc3OdGp9B2IwUG2s8wyasU+0Wi0WH\n",
              "Dx+WJB09elR9+/aVw+HQ8uXLVVhYKEkaP368hgwZory8POXm5obz7sPCPBZL4vSiaKKPJwA0bW9d\n",
              "4FweFDgnZvbV3JwsTRhB4Iw0jtMOn7AFT4vFotdee00zZ85U9+7d9e2332rlypWqqqpSbW2tBg0a\n",
              "5P/ajIwMlZWVNXo7LpdLLper3mUeT/SqXxaLRfYki2o9Bk+wKDq14snvHgD2Hj6pZ9YX6bX8cv8H\n",
              "8otG9dW8XAJnNCXTQD5swhY83W63fvOb32jlypWaMmWK8vPzdcUVV2j79u1tup3HHntMjzzySL3L\n",
              "srOzwzXMVrEnWVXr8XBsZhRR8QSAgH1HTmrRuvqBM3tkH92bm6ULRvaN8eg6H3M2lJnQ0IUteG7f\n",
              "vl179+7VlClTJPmm1NPS0vT555/LZrOpoqLCX/UsLS1Venp6o7fz4IMP6r777qt32UMPPRSuYbaK\n",
              "b2e7hydYFJ2yq93NGk8AnU/FkWotWl+oP20JBM4LR/bV3FynsgmcMeOfaqcgFbKwBc9hw4Zp3759\n",
              "+vrrr3X66aersLBQRUVFGj16tK655hotXrxYDz/8sPLz87Vnzx5NnTq10dtxOBxyOBz1LktKSgrX\n",
              "MFuFo7Giz5xqd9iscrm9p0y9A0BHVnGkWs+sL9SrQYHzghF9NC83SxeOInDGWqCBPO9NoQpb8Bw4\n",
              "cKCeffZZXXvttbJarfJ6vVq4cKHS09P1+OOP64YbbpDT6VRycrKWLVsWlzvaTXbWckSdOdWe0sUu\n",
              "1zHXKVPvANARfXO0Ws+sL9IrW8r8H7gnjPBNqRM44wfHaYdPWHe1/+hHP9KPfvSjUy4fOHCg3n//\n",
              "/XDeVUSZbRNYZxg9Nf7gadOBYy4qngA6tEYDZ0YfzZvh1IUj+3JqXpzxt1MiF4SMk4sa4f9kQ/iJ\n",
              "GjPkp3TxPSWpeALoiCqPVuuZvCK9srnM/3dufEZvf4WTwBmf7FbaKYULwbMR/rYJNIqNGrN9khk8\n",
              "qXgC6Egqj1ZrcV6xXt68yx84zx/eW/fOyNJFBM64Z1Y8a8kFISN4NoKp9uirqevVmuLwrf1lVzuA\n",
              "jqCyqlqL19cPnOOG+yqcEzMJnInC5t/7QS4IFcGzEWwuir6GFc9ajyGv15DVyh9lAImnsqpaS/KK\n",
              "tezjQOAcm95L987I0qTMfgTOBJPsX+NJLggVwbMRdo7GirrAGk97vcu6WKPbSgsAQrG/yqUleUVa\n",
              "tnmXqus+UJ+X3kv35mZpspPAmahs5hpPptpDRvBsBH08oy94V7vJ5faqi53gCSD+HTjmC5wvfRwI\n",
              "nOcO81U4pxA4E55/jSf7D0JG8GwE/bqiz5yK6u5IksUiGYa5zjN++70CwIFjLj27oVgvbdqlk7W+\n",
              "tennDuuleblOTc3qT+DsIPxL8GggHzKCZyNstE2IusDJRUly2KyqruX0IgDx68Axl57bUKw/BgXO\n",
              "c+oC5zQCZ4fjP6udglTICJ6NSLYx1R5t5i72ZJtVyUm+4EkvTwDx5uAxl579sFh//HtQ4ExL1bzc\n",
              "LE0bTeDsqOw2Kp7hQvBsBFPt0WeGzOQkqxz2JKnaTcUTQNw4dLxGz24o1h83lepEjS9wnp2WqnsJ\n",
              "nJ2C2UCeXe2hI3g2gqn26PNPtdut/gb+VDwBxNqh4zV67sNivfj3+oFzbo5TF582gMDZSdDfO3wI\n",
              "no0wp9ppFBs99SuevuBJxRNArHwbFDiP1wXOs4amal4ugbMzstPHM2wIno0wK541PMGiJlDxTAqq\n",
              "eHJ6EYDo+vZ4jf6wsVgvfBQInGOG9tS8nCzlnE7g7KxsVk4uCheCZyNoIB99/s1F5hpPUfEEED2H\n",
              "T9ToDx+W6IW/l+qYyy1JOnNIT83LzVIugbPT8+cCGsiHjODZCDtT7VFnrptJtlnlYI0ngCg5fKJG\n",
              "z28s0dKPAoHzjME9NS/XqRlnDCRwQlLwVDvvS6EieDbCbmVXe7QF+niyxhNA5B05Uas/bCyuFzhP\n",
              "G5SieblZ+s4ZA2W1EjgRYKPbTdgQPBvBVHv0uYKCJ2s8AUTKkRO1er4ucFbVC5xOfeeMQQRONCrQ\n",
              "QJ5cECqCZyNsnNUedfVOLqLiCSDMjpys9U2pbywhcKLNAkdmUvEMFcGzEcmU1KPO307JRh9PAOFz\n",
              "5GSt/t/GEv2/j0pUVe0LnKMHpmhurlOXnkngROuYazw9XkOGYbD2NwQEz0bYqXhGlcdryFP3KTLZ\n",
              "ZpXD5tvVTvAE0F5HTtZq6Uclen4jgROhM9d4Sr6ilNnvG21H8GyEjTWeURU8pe6wWZVso+IJoH2O\n",
              "Vtdq6cZSPb+xWEfrAmfWwB6am5Oly8YQONE+ZkFK8mUD830KbUfwbIQ51csJBdERvInIV/FkjSeA\n",
              "tjlaXasXPirVHz4MBE7ngB66J8epfzlrMIETITEbyEtkg1ARPBvBmazRZQZMi8W3czBQ8WRXO4Dm\n",
              "VZmBc2OJjpyslSRlDuihuTlOXX7WYCUROBEG9SqeXrJBKAiejaCdUnQFt1KyWCz+NZ5UPAE0paq6\n",
              "Vi/+vVTPfVg/cJoVTgInwslischmtcjtNah4hojg2Qg7U+1R5d/RXvd7Z40ngKY0FjhH9e+ue3Kc\n",
              "+tezhxA4ETG2JF/wpCgVGoJnI9jVHl3+Hp51Z7SzxhNAQ8dc7rrAWazDJ3yBc2T/7ppL4ESU2K1W\n",
              "VctLNggRwbMRdvp4RpW5lvPUiidrPIHOjsCJeGHu/6CJfGgIno3g5KLoCj6nPfh/qXgCndcxl1t/\n",
              "3FSq5zYU61szcPbzTal/9xwCJ6KPVovhQfBsRDJPrqgyuweYlU7WeAKd13GXW3/ctEvPbijyB84R\n",
              "/brrnpxMfffsIfUaeQPRRKvF8CB4NoKp9uhy1TaseLKrHehsjrvceunjXXp2Q7EOHa+RJGX07aZ7\n",
              "cpy64hwCJ2IvMNXOe1MoCJ6NYKo9usyKpxk4HVQ8gU7jRI1bL23apSUNAufdFzt15bkETsQPW93y\n",
              "jho3RalQEDwb4S+ns4A4Kvybi1jjCXQaJ2rcWvbxLi3JK9bBusA5vC5wXkXgRBzyt1qk4hkSgmcj\n",
              "/FPtBJ+oMAPmqWs82dUOdDQnatx6+eMyLdlQpAPHfIEzvU833X1xpq4+byiBE3HLP9XOMryQEDwb\n",
              "wZGZ0XXqrnbWeAIdzckaj6/C2SBw3lUXOO0ETsQ5TjUMD4JnI5hqjy5XkxVPXtxAojtZ49HLm3dp\n",
              "cV4gcA7r01V3T3fq6rEETiQOu5VsEA4Ez0aYUz0eryGv15CVfnER5aKPJ9DhVNf6KpyL84p14JhL\n",
              "kpTWu6vuvjhTM8emETiRcNh4HB4Ez0aYR2ZKUq3XK4c1KYaj6fioeAIdR3WtRy9vLtPivCLtryJw\n",
              "ouOw0WoxLAiejQj+w1jrMeTgtxRR/s1FSQ3Oavd4ZRiGLBYqzkC8q6716JXNZXomKHAO7dVVd12c\n",
              "qe+NTfN/oAQSld1qbi6iKBIKIlUj6gVPt1dyxHAwnYB/c5G9fsVT8lU9u9ipOAPxqrrWo1e3lOmZ\n",
              "9UWqDAqcd07P1PfHETjRcfg3F7HGMyQEz0YkWS2yWiSv4ZtqR2T5+3gm1d/VLvmqngRPIP5U13r0\n",
              "py1lWkTgRCfhX+PJMrCQEDybYEuyqsbtZS1HFDSseAavsXXVeqUuMRkWgEZU13r0Wn65Fq0v1DdH\n",
              "fYFzSGoX3Xlxpq4ZN4zAiQ6LBvLhQfBsQrIZPPlkE3H+zUV1L2qLxSKHzSqX20sTeSBOVNd6tHxr\n",
              "uRatK1LF0WpJ0uDULrpjeqauPT+t3kwF0BGZR2ZSkAoNwbMJZtWNTzaR17CBvORb5+lye2mpBMSY\n",
              "y+3R8vxyLVpfpH1HCJzovOx171GcXBQagmcTzLYJNW6eYJFmnhAV/AbmsCWpSm5aKgEx4nJ7tHzr\n",
              "bi1aV+gPnIN6dtGd00fp2vHDCJzodPy72ilIhYTg2YRk1nJEjX9zUVDFkybyQGy43B69Xhc49wYF\n",
              "zjumj9K15w9jsx86LX9BinZKISF4NoETCqKnpkEDeSkQPKl4AtFR4/bq9U/K9fu1gcA5sKdDd0zL\n",
              "1A/GEzgBMxcw1R4agmcT7Ey1R01TazyDrwMQGWbgXLSuSHsOn5QkDUhx6I5po/TDCekETqCO/6x2\n",
              "ClIhIXg2gbYJ0dPwyEwpuOLJrnYgEmrcXr3xyW79fl0hgRNoBRrIh0dYg6fL5dJPf/pTvffee+rS\n",
              "pYvOOeccLVu2TAUFBbrpppt04MABpaam6oUXXtCZZ54ZzrsOOztT7VETqHgG3uioeAKRUevxBc6F\n",
              "awOBs39d4PwRgRNoUmCqnfelUIQ1eD7wwAOyWCzauXOnLBaLKioqJElz5szR7NmzNWvWLL3xxhua\n",
              "NWuW8vPzw3nXYef/ZMNajohrvOKZVO86AKGp9Xi14pPdWriuULu/DQTO26eO0r9dQOAEWhIoSJEL\n",
              "QhG24Hn8+HE9//zz2r17tywW34MzaNAgVVZWauvWrXr//fclSd/73vd01113qbCwUJmZmeG6+7AL\n",
              "NIol+ERawwbyEhVPIFxqPV6t/HS3FqwNBM5+PRy6fdooXUfgBFrNZjULUrwvhSJswbOoqEh9+vTR\n",
              "o48+qtWrV6tr1656+OGH1atXLw0ePFg2m++uLBaL0tPTVVZW1mjwdLlccrlc9S7zeKK/zs8MPjzB\n",
              "Iq+mbh2neWSmxBpPIFS1Hq/e/HSPFqwrUPmhQOC8bepIXXfBcHVNJnACbWFnV3tYhC14ut1u7dq1\n",
              "S2eccYb+53/+R9u2bdOMGTO0atWqNt3OY489pkceeaTeZdnZ2eEaZqsx1R49zVU8mWoH2qbW49Wb\n",
              "2/Zo4dpClR06IUnq1yNZt00dReAEQsCm4/AIW/BMT0+X1WrVddddJ0k677zzNGLECO3atUv79u2T\n",
              "2+2WzWaTYRgqKytTenp6o7fz4IMP6r777qt32UMPPRSuYbYaU+3RYRhG4OSiRiue/P6B1nCbgXNd\n",
              "oXYdDATOOVNG6fpsAicQKhsFqbAIW/Ds16+fcnJy9N577+nyyy9XSUmJSkpKNHHiRI0dO1bLli3T\n",
              "rFmztGLFCqWlpTW5vtPhcMjhcNS7LCkp+n8wOZM1Omo9hoy6X7EjiV3tQFs1Fjj7dk/WnKkjdX32\n",
              "cHVLpmseEA50uwmPsP5FWrx4sX784x/r5z//uaxWq5YsWaKhQ4dqyZIlmjVrlh599FH17NlTS5cu\n",
              "DefdRoSdimdUBB89xq52oPXcHq/e2r5XC9YW+ANnn+7JmjNlpG64kMAJhJvNSkEqHML6l2nkyJFa\n",
              "t27dKZePHj1amzZtCuddRZydM1mjIriimczJRUCL3B6v/vLZXi1YW6iSA8clBQLn9dnD1d1B4AQi\n",
              "wX+UNms8Q8JfqCYw1R4d5q51m9WipLoqs8SudqChpgLn7CkjdQOBE4g4cwMsuSA0/KVqAlPt0dHY\n",
              "Oe0SFU/A5PEa+stne7RgTaGK6wJn7252zZ4ySjdeSOAEosXGGs+w4C9WE2inFB2NnVokscYT8HgN\n",
              "/fWzvXp6bYGK9/sCZ69uds2eMlI3XpihHgROIKpoIB8e/OVqgp0G8lFR00TwpOKJzsrjNfS3z/dq\n",
              "/pr6gfMnk0fqposInECs+BvIeylIhYK/YE1gqj06XP6p9vots1jjic7G4zW06ot9enpNgQorj0kK\n",
              "BM4bLxyulC72GI8Q6NxsrPEMC4JnE5hqjw4zWJ461U5XAXQO3qDAWVAXOFO72vWTySN000UZBE4g\n",
              "TtDHMzwInk0InFDAEyySmtpc5K941vL7R8fk9Rp6+0tf4Nz5jS9w9uxi008mj9SsiQROIN4Ejsyk\n",
              "IBUKgmcT/Gs5CJ4R1dTmomQqnuigvF5D73xZoflrdtYLnLfWBc6eBE4gLvmP0mbvQUgInk1ItjHV\n",
              "Hg3+zUVJTexqp+KJDqKxwJnSxaZbJ43UzZMInEC88y/Bo4F8SAieTTDbJlBxiyz/VLu9/uYiKp7o\n",
              "KLxeQ+9+VaH5qwv0z2+qJAUC56yJGUrtSuAEEoHNPxNKQSoUBM8mMNUeHa4mK57mGk92tSMxeb2G\n",
              "3vuqQvPXFGhHRSBw/njSCN08cQSBE0gwwWs8DcOQxWJp4TvQGIJnE9jVHh01dbvamzy5iOCPBOP1\n",
              "Gnr/HxV6anVQ4HTYdMukEbpl4gildiNwAonIbg28T7m9hr9AhbYheDbBzq72qHA1uaudNZ5ILL7A\n",
              "+Y3mrynQ1/uOSvIFzpsnZujHk0YSOIEEZwsKmrUerz8noG0Ink2gX1d0tHRykYvfP+KcYdQFztUF\n",
              "+kdd4OzhsOmWiRm6ZdII9eqWHOMRAgiH+sGT2dD2Ing2gan26DCn0pvq41nj9rKWBnHJMAx98I9v\n",
              "9FSDwOmrcBI4gY6m3lQ7RZF2I3g2gan26Gipj6fkC6cNj9QEYsUwDK3+ulJPrd6pr/b6Amf35CTN\n",
              "mpihWyeNVO/uBE6gI7JaLUqyWuTxGjSRDwHBswk2ptqjoqmp9uAKqMtN8ETsGYahNV9X6qk1O/Xl\n",
              "HgIn0BnZ6oIn2aD9CJ5NYKo9OgKbixr08QxatF3DKRGIIcMwtHZHpZ5aXaAv9hyR5AucN12UoZ9M\n",
              "JnACnYk9ySqX20s2CAHBswlm8GEdR2S56topNax4WiwWJdusqnF7/eEUiCbDMLTun77A+fluX+Ds\n",
              "FhQ4+xA4gU7HRo/vkBE8m2A+uWr4VBNRNU20U5IkR5IveFLxRDQZhqH1/9yvp1bv1GdBgfPGCzM0\n",
              "ewqBE+jMzFMNqXi2H8GzCYETCgg9kdTU5iJJctitqnIFqqJAJDUWOLvak3TjRcM1e/JI9e3hiPEI\n",
              "AcRaslnxJBu0G8GzCf4+nlTbIqqmiSMzgy+j4olIMgxDeTv366nVBdpeflgSgRNA42zs/wgZwbMJ\n",
              "bC6KDv9Uu/3UXevmZazxRCQ0GTgvHK6fTBmpfgROAA3Q8SZ0BM8m+IOnlwbmkeTfXETFE1FiGIY2\n",
              "FBzQU6t3alvZYUlSF7tVN2QP15ypowicAJpkNpF3U5RqN4JnE8ypdsOQPF6j3lFZCB//yUX2xtd4\n",
              "SqzxRHgYhqEP6wLnpw0C5+wpo9Q/hcAJoHn+iidrPNuN4NkEe1AFzu01RP/yyHDV1gVPKp6IEMMw\n",
              "tLHwgJ5aXaBPdn0ryRc4r79guGZPHakBKV1iPEIAicK/8ZiKZ7sRPJsQXOGs8XjVpZE1iAidWfFs\n",
              "ale7xBpPtI9hGPqo8KCeWr1TW+sCp8Nm1fXZwzWHwAmgHeys8QwZwbMJ5joOiZ3tkVTTxMlFUqDi\n",
              "SfBEWxiGob8XHdT/fVA/cF53wXDdNo3ACaD9An08eV9qL4JnE6xWi2xWi9xeQ24vJfVIabaPp41d\n",
              "7Wg9M3A+tXqn8kt9gTPZZtV1F6Tr9qmjNKAngRNAaAInF5EL2ovg2Qxbki94ssYwcpo7ucgMo/z+\n",
              "0RzDMLSp6KCeWl2gLaWHJPmeO/82IV23TxulgQROAGGSzOEyISN4NsOeZFV1rZeKZwQ1dVa7FAij\n",
              "7GpHUzYVHdT/rd6pLSX1A+dtU0dpUCqBE0B4Bfp4kgvai+DZjOQk1nJEktdr+F+8jQVPKp5oyqa6\n",
              "KfXNZuBMsupHE4bp9mmZBE4AEWMjF4SM4NkM85MNwScyaoJeuI1NtbPGEw19XOwLnB8XBwLnDycM\n",
              "0+3TRmlwatcYjw5AR2e3ssYzVATPZvj7dTHVHhHBgZKKJ5qzudi3hnNT8UFJvsD5g/G+wDmkF4ET\n",
              "QHTYgk41RPsQPJthp6QeUcGBsrEjM1njiS0lh/TU6p36e5EvcNqTLPrB+GG6Y1omgRNA1NFAPnQE\n",
              "z2bQKDaygjcWWSynHklKxbPzyi/1Bc6PCgOB89rzh+mO6ZkaSuAEECN2fzsl3pfai+DZjEDFk082\n",
              "keBvpdRItVMKrnjyAu8stpYe0lOrC7Sx8IAk3x/5a84fpjsJnADigNlAvoZc0G4Ez2b413IQfCLC\n",
              "3FxkHo3ZkIOKZ6fxyS5f4PywwBc4bVYzcI5SWu9uMR4dAPhQ8QwdwbMZyeYTjEXEEeGqrTu1qMmK\n",
              "J7vaO7pPdn2rp1bvbBA403THtEwN60PgBBBf/CcXsem43QiezaCkHllmxbOxHe3Bl1Px7HgInAAS\n",
              "EZuOQ0fwbIbdZu5e4wkWCWbF06xsNsSu9o7n07Jv9dTqAm3YuV+SL3B+f1ya7pxO4AQQ/9jVHjqC\n",
              "ZzOS2dUeUTWepo/LDL6cimfi21YXOPPqAmeS1aLvjR2qu6Y7ld6XwAkgMdis5IJQETybwVR7ZPl3\n",
              "tTcRPFnjmfi2lx/WU6t3av0/CZwAEl+ggTy5oL0Ins1gqj2yzEBJxbPj2V5+WPNX79S6oMB59XlD\n",
              "dffFmRret3uMRwcA7cOu9tARPJthp6QeUS0FT/p4JpZvjlbr4+KD+vP2vVq7o1JSIHDeNT1TGf0I\n",
              "nAASG/29Q0fwbAZPsMhqaao9meAZ1yqPVuvjkkP6uPigPi46qOIDx/3XWS3S1eel6e6LCZwAOg5z\n",
              "jSdtFtuP4NkMu42KZyQFKp7sak8ElVXV2lx8SJuKD+rj4oMq3n+83vUWi3TmkJ66cGRf/dsFwzWC\n",
              "wAmgg6GdUujCHjyXLl2qW265RW+++aauuuoqVVZW6sYbb1RRUZEcDocWLVqkKVOmhPtuI8LcXMQT\n",
              "LDJaW/FkjWfsHDlRq+c/KtGqz/eqqJGgecZgX9DMHtlX40f0UWpXe4xGCgCRZ/N3u2EmtL3CGjxL\n",
              "S0v13HPPKTs723/ZAw88oOzsbL377rvKz8/X1VdfrZKSEtnt8f8GlWyjX1ckmZXMptd4Bna1G4Yh\n",
              "i8UStbF1dkdO1Or5jcVa+lGpqlxuSb6gefqgnrpwlC9oTsjoo9Ru8f86BoBwMQtSbC5qv7AFT6/X\n",
              "q1tvvVULFizQT3/6U//ly5cvV2FhoSRp/PjxGjJkiPLy8pSbmxuuu44Ycy1HDU+wiDArmU0dmRkc\n",
              "SGs9hpJtBM9IMyucSzeW+APnaYNSdPu0UZqa1V+9uiXHeIQAEDvm+xBHZrZf2ILnk08+qYkTJ2rc\n",
              "uHH+yw4ePKja2loNGjTIf1lGRobKysqavB2XyyWXy1XvMo8nNmv8WMsRWf6pdnvzu9olX3W0qcoo\n",
              "QnfkZK3+38YS/b+PSlRV7QucowemaF6uU5ecOUhWK6EfAAJL8Aie7RWW4Pnll19qxYoV2rBhQ8i3\n",
              "9dhjj+mRRx6pd1nw1H00MdUeWebmIkdTFc+gy1nnGRlHTtZq6Uclen5j/cA5N9epSwmcAFCPjRMN\n",
              "QxaW4Pnhhx+qtLRUTqdTklRRUaHZs2frkUcekc1mU0VFhb/qWVpaqvT09CZv68EHH9R9991X77KH\n",
              "HnooHMNsM6baIytQ8Wx8V7vValFyklU1Hi8tlcLsaHWtlm4s1fMbi3W0LnBmDeyhuTlZumwMgRMA\n",
              "GhM4q533pPYKS/C8/fbbdfvtt/v/e9q0aZo3b56uuuoqbd68WYsXL9bDDz+s/Px87dmzR1OnTm3y\n",
              "thwOhxwOR73LkpIaDyaRFniCUfGMBP/moiYqnpKv6lzj8VLxDJOj1bV64aNS/eHDQOB0DuihublO\n",
              "XT5mMIETAJoROKudXNBeEe/j+fjjj+uGG26Q0+lUcnKyli1blhA72qXA0ViU1CPDrCQ3t3bTYbPq\n",
              "mIsm8qGqqq7V0gaBM3NAD83NceryswYricAJAC3yF6RoIN9uEQme69ev9///gQMH6v3334/E3UQc\n",
              "m4siq6U+nhK9PENVZVY4N5boyMlaSb7AeU+OU/9C4ASANmEmNHScXNQMjsyMrJbOapc4vai9jrnc\n",
              "evHvpXruw2IdPuELnKP6d9fc3CwCJwC0k7m5iL0f7UfwbAa71yLLv6u9iSMzJSqebdVU4Lwnx6l/\n",
              "PXsIgRMAQmC3UvEMFcGzGcmU1COqdRXPpHpfi8Y1FjhH9u+uuQROAAgbsyDFGs/2I3g2w5xqp6Qe\n",
              "GTWtCJ7J/ql2HoPGHHO59cdNpXpuQ7G+NQNnv+66OydTV5wzlMAJAGEUvASPo5zbh+DZDKbaI6um\n",
              "bt1mc5uLWOPZuOMut/64aZee3VDkD5wj+nXXPTmZ+u7ZQ2RrpkUVAKB9zG43kuTxGv6cgNYjeDaD\n",
              "qfbIas1UO2s86zvucuulj3fp2Q3FOnS8RpKU0beb7slx6opzCJwAEEnBf2NrPYaa2aKAJhA8m2Gj\n",
              "nVJE+afamwlLDqbaJUknaswKZ/3AedfFTl11LoETAKLBFrR8qdbrVVeRPNuK4NkMfwN5FhFHhBkm\n",
              "u9ibq3j6XtSdteJ5osatl+oC58G6wDm8bzfdTeAEgKizB/3NZTa0fQiezfAvInbz5IqEQMWz6U+M\n",
              "nbXieaLGrWUf79KSPAInAMSLJKtFVovkNTivvb0Ins3g5KLIMrsFOJqteHauNZ4nazy+wLmhSAeO\n",
              "+QJnep9uuvviTF193lACJwDEmC3Jqhq3V7VeilLtQfBsBme1R47b45Wn7kXbujWeHXtX+8kaj17e\n",
              "vEuL8wKBc1ifrrp7ulNXjx1ab3oHABA7dqtFNZJqO0lBJNwIns3gyMzICe6N2pl3tVfX+iqci/OK\n",
              "deCYSxKBEwDimW/myUMT+XYieDbDfNPnyRV+wUGy+T6eHfPkoupaj17ZXKZn8oq0v8oXONN6d9Xd\n",
              "F2dq5tg0AicAxKnAbChFqfYgeDYj+MnFCQXhZQZJq0XNrlt0dLCKZ2OBc2ivQOBsrvoLAIg9Oz2+\n",
              "Q0LwbEbDRrHJNoJnuJhB0tFC992OssazutajV7eU6Zn1RaoMCpx3XZyp7xE4ASBhmKcVcZx2+xA8\n",
              "mxG86cXt9SpZhINwMYNkS4HLv8YzQV/g1bUe/WlLmRY1CJx3Ts/U98cROAEg0ditZsUzMd+XYo3g\n",
              "2YzgM1hr3YaUHMPBdDCtOS5TCqp41ibWC7y61qPX8su1aH2hvjnqC5xDUrvozoszdc24YQROAEhQ\n",
              "ZjZw006pXQiezWh4NBbCJzDV3rEqni53XeBcV6SKo9WSpMGpXXTn9Exdc35ai0sLAADxjR7foSF4\n",
              "NsNisSg5yaoaj5cnWJi1vuJZt6s9ziueLrdHy/PLtWh9kfYdCQTOO6Zn6loCJwB0GDY2F4WE4NkC\n",
              "W5JFNR6OzQy31m4uMtfZuuI0+LvcHr2+dbcWrSvUXgInAHR4diuHy4SC4NkCe12jWKbaw6vVFU+7\n",
              "ucYzvna117i9Wr61vF7gHNSzi+6cPkrXjh9G4ASADspc48mRme1D8GwBx2ZGhr/i2UKjdLPiGS9r\n",
              "PGvcXr3+Sbl+vzYQOAf2dOiOaZn6wfhh6mIncAJARxbo4xkf70uJhuDZAhrFRkaNx1fBNCuaTXHY\n",
              "42ONZ43bqzc+2a3fryvUnsMnJRE4AaAzIheEhuDZAnucVdw6CjNIJsd5xbPG7dWKT3dr4dpA4ByQ\n",
              "4tAd00bphxPSCZwA0MmYHW9Ygtc+BM8W+NdydJAjG+OFGSRbrnjGZo1nrcerFZ/s1sJ1hdr9rS9w\n",
              "9k9x6Papo/RvFxA4AaCz8rdTIhe0C8GzBWbFjUax4RWvFc9aj1crP92tBWsJnACAU9FAPjQEzxZw\n",
              "JmtkmL/PVu9qd3tlGIYsFkuzX99etR6v3vx0jxasK1D5IV/g7NfDodunjdJ1BE4AQB2b1WwgT/Bs\n",
              "D4JnCyipR4arlX08HUm+6w3D9+nSnhTe4NlU4Lxt6khdd8FwdU0mcAIAApJtdRVPClLtQvBsgZ2p\n",
              "9ohwuX1rNltb8fR9j9f/eITK7fHqzW17tGBtocoOnZAk9euRrNumjiJwAgCa5K94kgvaheDZAvp4\n",
              "RkZNKxvIB68BrXF7JUdo92sGzoXrCrXrYCBwzpkyStdnEzgBAM2zkQtCQvBsgX+qnbUcYRWYam8+\n",
              "eFqtFtmTLKr1GP4qaXu4PV69tX2vFqwt8AfOvt2TNWfqSF2fPVzdknkpAABaRgP50PBu24JA8OQJ\n",
              "Fk6trXhKvqpnrcfj/562cHu8+nNd4CytC5x9uidrzpSRuuFCAicAoG38fTwpSLUL77otYKo9Mmpa\n",
              "ublI8p1edLzG46+Stobb49VfPturBWsLVXLguKRA4Lw+e7i6O3jqAwDaLrD3g1zQHrz7toCp9sho\n",
              "7eYiKaiXZyuCp9vj1V8/36sFawpVHBQ4Z08ZqRsInACAEJkFKY7MbB/ehVsQ6NfFJ5tw8lc8W7FL\n",
              "PdDLs+k1nh6vob98tqde4Ozdza7ZU0bpxgsJnACA8LBxlHZIeDduAf26IsO/uaiFIzOlQMWzsal2\n",
              "j9fQXz/bq6fXFqh4vy9w9upm1+wpI3XjhRnqQeAEAISRucaTimf78K7cArv/kw1PsHDyby5qU8Uz\n",
              "EDw9XkN/+3yv5q+pHzh/MnmkbrqIwAkAiAzWeIaGd+cWMNUeGeYURVsqnjVurz9wPr2mQEV1gTO1\n",
              "q1nhHK6ULvbIDRoA0Omx9yM0BM8W2JlqjwhXrVnxbMWu9rqd7+9/9Y3+971/qrDymCRf4PzJ5BG6\n",
              "6aIMAicAICpsSeSCUBA8W2C38skmEsyKZ6t2tdd9zYpPd0uSenax6SeTR2rWRAInACC6Am0WyQXt\n",
              "QfBsAQ3kI6OmlScXSVK/Hr5zMs3AedPEDPUkcAIAYoAleKEheLbAnGrnCRZebenj+cBlp2mSs69y\n",
              "Th9I4AQAxJS/j6eXimd7EDxbwFR7+BVWHtMxl1tS6yqe/VMcuvq8tEgPCwCAFnFWe2gIni3gyMzw\n",
              "Kaw8pgVrC/SXz/bKMHzVzr510+gAACQCG7vaQ0LwbIGNNZ4hK9p/TAvW+AKnOTMx44yBum9GllK7\n",
              "MnUOAEgcdisFqVAQPFuQ7C+p88mmrYr3H9OCtYX68/Y9/sCZe/pAzct1aszQ1NgODgCAdrD5G8iT\n",
              "C9qD4NkCc3MRZ7K2XvH+Y1q4tlBv1QucAzQ3J0tnpRE4AQCJy8YSvJAQPFtA24TWKzlwXAvWFuit\n",
              "bQROAEDHxExoaMIWPKurq/XDH/5Q//jHP9S1a1cNGDBAzzzzjDIzM1VZWakbb7xRRUVFcjgcWrRo\n",
              "kaZMmRKuu44oO0+wFpUeOK4FdRVOT13izDltgObmOnV2Wq/YDg4AgDDyn1zEWe3tEtaK5+zZs3XZ\n",
              "ZZfJYrFo4cKFuvXWW7V+/Xo98MADys7O1rvvvqv8/HxdffXVKikpkd0e/xtL2NXetF0HfYHzzW2B\n",
              "wDl9dH/Ny83SOcN6xXZwAABEgDkTah6EgrYJW/Ds0qWLLr/8cv9/Z2dn64knnpAkLV++XIWFhZKk\n",
              "8ePHa8iQIcrLy1Nubm647j5i7LRNOEXZwRNasLZAKxsEzrm5WTqXwAkA6MBoIB+aiK3xnD9/vq68\n",
              "8kodPHhQtbW1GjRokP+6jIwMlZWVNfp9LpdLLper3mUejydSw2wRR2YGlB08oYXrCrTi00DgnDa6\n",
              "v+bmOHVeeu8Yjw4AgMizsQQvJBEJno8++qgKCwu1Zs0anTx5sk3f+9hjj+mRRx6pd1l2dnY4h9cm\n",
              "TLVL5YdOaOHaQq34dLf/E96UrP6al+vUWAInAKAT8ecC1ni2S9iD5xNPPKGVK1dq9erV6tatm7p1\n",
              "6yabzaaKigp/1bO0tFTp6emNfv+DDz6o++67r95lDz30ULiH2WqdeaqdwAkAQH3mUdqGIXm8hpLq\n",
              "GsqjdcIaPJ988km9+uqrWr16tXr16uW//JprrtHixYv18MMPKz8/X3v27NHUqVMbvQ2HwyGHo/4x\n",
              "iklJSeEcZpt0xn5d5YdO6PfrCvXGJ4HAOdnZT/NyszRuOIETANB5mblA8mWDJGvsMkoiClvw3L17\n",
              "t376059q5MiRmj59uiRfiNy8ebMef/xx3XDDDXI6nUpOTtayZcsSYke7FNSvqxMsIt79rS9wvr61\n",
              "YeB0atzwPjEeHQAAsWfOhEq+4NnFTvBsi7AFz7S0NBlG4+Fs4MCBev/998N1V1Hln2rvwG0TfIGz\n",
              "SG98Uu5fUjDZ2U9zc5w6P4PACQCAyRY0tc4Go7bj5KIWmCX1jnhk5p7DJ+sqnIHAOSmzn+bmOjWe\n",
              "wAkAwCmSrBZZLL41nmwwajuCZws64lT7nsMntWhdoZYHBc6JmX01NydLE0YQOAEAaIrFYpHdalWN\n",
              "x9spNx6HiuDZAnOq3eM1En732t7DJ7VofaFeyw8EzotG9dXcHKcuGNk3xqMDACAx2JIsqvFI7g44\n",
              "GxppBM8WdITda/uOnNSidUV6Lb/cv2TgwpF9NTfXqWwCJwAAbWKu86Ti2XYEzxYE715LtOn2fUdO\n",
              "6pn1RfrTlkDgzB7ZR/NyswicAAC0U7LNXIZHxbOtCJ4tqNc2we2VHM18cZyoOFKtZ9YX6tWgwHnB\n",
              "CF/gvHAUgRMAgFDYrByb2V4EzxYkWS2yWiRvAuxe++ZotZ5ZX6RXtpSppq7904QRfXQvgRMAgLDp\n",
              "yB1vIo3g2Qr2JKtc7vjdvdZo4Mzoo3kznLpoVL8Yjw4AgI7FnA2l4tl2BM9W8AfPOGsiX3m0Ws/k\n",
              "FemVzWVy1Y1tfEZvf4XTYkncHfgAAMQrc3MRu9rbjuDZCva6knq8LCJuLHCeP7y37p2RpYsInAAA\n",
              "RJT/VMME23QcDwierWCre4LVuGP7BKs8Wq3FecV6efMuf+AcN9xX4ZyYSeAEACAa/AUpKp5tRvBs\n",
              "hcDpRbF5glVWVWtJXrGWfRwInGPTe+neGVmalNmPwAkAQBSZBalagmebETxbwfxkE+0n2P4ql5bk\n",
              "FWnZ5l2qrvXd93npvTQvN0tTnAROAABigQby7UfwbIVoT7UfOOYLnC99HAic5w7zVTgJnAAAxJY9\n",
              "xjOhiYzg2QrReoIdOObSsxuK9dKmXTpZ65HkC5zzcp2amtWfwAkAQBwIzIRS8WwrgmcrRHqq/cAx\n",
              "l57bUKw/BgXOc+oC5zQCJwAAccVGH892I3i2gr9tQpifYAfrKpz1AmdaqublZmnaaAInAADxKFZ7\n",
              "PzoCgmcrhPsJdvCYS89+WKw//j0QOM9OS9W8XKemjx5A4AQAII6ZZ7UTPNuO4NkK9jC1TTh0vKau\n",
              "wlmqEzW+wHnWUF/gvPg0AicAAInA5j9Yhqn2tiJ4tkI4ptrf3LZbv3zzS3/gHDO0p+blZCnndAIn\n",
              "AACJxN/fm4pnmxE8WyHQr6t9T7A3Ptmtn73xmQyDwAkAQKKzsau93QierWC3Nb57zTAMGYZktTYd\n",
              "IFcEhc7rs9P1n1eMafbrAQBAfGONZ/tZYz2ARJDcyBrP4y63bnh+i875z/f1u/f/qSMnak/5vpWf\n",
              "7tb9daHzugsInQAAdAR21ni2G8GzFcyp9pq64Hnc5daspVu0sfCAqqrdWrC2UJMeX6snP9jpD6Bv\n",
              "btutn77uC53/dkG6/utKQicAAB0BZ7W3H1PtrRA81X7c5dbNS/OVX/qtUhw2zZuRpde3lmtHRZWe\n",
              "XlOgpR+V6NIzB2nFp7tlGNKPJqTrN4ROAAA6DDsN5NuN4NkK9rrQeORkrW5+IV9bSg8pxWHTS7de\n",
              "oHOH9dLNF2Xo3a8qNH91gf75TZVe/2S3JOlHE4bpv68idAIA0JGYuYCz2tuO4NkK5iebF/5eKo/X\n",
              "UIrDpj/+eILOHdZLkm9z0eVnDdalZw7Su19V6IWPSnXe8F76+SWnEToBAOhgzKn2GjcVz7YieLaC\n",
              "OdVuhs4XfzxB56X3PuXrzAB6+VmDoz1EAAAQJYHNRVQ824rNRa3QzZ4kSepRFzrHNhI6AQBA52Bu\n",
              "OmaNZ9tR8WyFmePSVHG0Wj8cn66z0lJjPRwAABBD5kwou9rbjopnKwzt1VX/ffVZhE4AACB7XQP5\n",
              "eO3juaPiqO54+RNtK/s21kM5BRVPAACANggcmRlfFc9/1rV2XPXFPknSiRqPXrh5QoxHVR/BEwAA\n",
              "oA3irYH8zm+qNH9Ngd7+Yp+MuiLsv5w1WPfkOGM7sEYQPAEAANrAHiebiwrqAueqoMB5+VmDdE+O\n",
              "U6cN6hnTsTWF4AkAANAGZn/v2hit8SysrNL8NYX62+d7EyZwmgieAAAAbWCu8XRHeaq9sLJKT68p\n",
              "1F+DAudlY3yB8/TB8R04TQRPAACANrBHeY1nYeUxLVhboL98Fgicl5w5UHNzsnTGkMQInCaCJwAA\n",
              "QBtEq4F80f5jenrNqYHznhynzhySmC0eCZ4AAABt4N/VHqEjM4v2H9OCusBpLiP9zhm+wDlmaGIG\n",
              "ThPBEwAAoA2S64JnuCuexfuPaeHaQr21fY8/cM44Y6DmdoDAaSJ4AgAAtEG4G8iXHDiuBWsK6gXO\n",
              "3NMHal5uxwmcJoInAABAG9j9wTO0imfpgeN6em2B3tpWP3DOzXF22GO6CZ4AAABtYDPPam9nxbP0\n",
              "wHEtqJtS99QlztzTB2huTlaHDZwmgicAAEAb2G3tayC/66AvcL65LRA4Lz5tgOblOnV2Wq9wDzMu\n",
              "ETwBAADaIHBkZusqnmUHT2jB2gKtbBA45+Y4dc6wXpEaZlwieAIAALSB2U7Ja0ger6GkuiDaUNnB\n",
              "E1q4rkArPg0Ezumj+2tubpbO7WSB00TwBAAAaANzV7vk29meZE2qd335oRNauLZQKz7dLXdd4Jya\n",
              "1V/zcp06L713VMcab6IWPAsKCnTTTTfpwIEDSk1N1QsvvKAzzzwzWncPAAAQFva6zUWS/MFS8gXO\n",
              "368r1BufEDibErXgOWfOHM2ePVuzZs3SG2+8oVmzZik/Pz9adw8AABAW9qCKp9vjbTRwTqkLnGMJ\n",
              "nPVEJXhWVlZq69atev/99yVJ3/ve93TXXXepsLBQmZmZ0RgCAABAWASv6fzVW1/q3S8r/IFzsrOf\n",
              "5uU6NW54n1gNL65FJXiWl5dr8ODBstl8d2exWJSenq6ysrJTgqfL5ZLL5ap3mcfjicYwAQAAWmSx\n",
              "WGRPsqjWY+hvn++TROBsrbjbXPTYY4/pkUceqXdZdnZ2jEYDAABwqkGpXVR+6KQmZfoC5/kZBM7W\n",
              "sBiGEd4T7htRWVmpzMxMHTp0SDabTYZhaPDgwdq4cWOrKp4PPfSQ5s+fH+lhAgAAtMrewyd15GSt\n",
              "Th/cM9ZDSSjWlr8kdAMGDNDYsWO1bNkySdKKFSuUlpbW6PpOh8Ohnj171vuXlJR0ytcBAADEypBe\n",
              "XQmd7RC1qfYlS5Zo1qxZevTRR9WzZ08tXbo0WncNAACAOBC14Dl69Ght2rQpWncHAACAOBOVqXYA\n",
              "AACA4AkAAICoIHgCAAAgKgieAAAAiAqCJwAAAKKC4AkAAICoIHgCAAAgKgieAAAAiAqCJwAAAKLC\n",
              "YhiGEetBtGTmzJnKyMiIyn15PB5t2bJFEyZM4Iz4BMVjmNh4/BIfj2Hi4zFMfLF4DIcPH665c+c2\n",
              "+zUJETyj6ejRo0pNTdWRI0fUs2fPWA8H7cBjmNh4/BIfj2Hi4zFMfPH6GDLVDgAAgKggeAIAACAq\n",
              "CJ4AAACICoJnAw6HQ7/+9a/lcDhiPRS0E49hYuPxS3w8homPxzDxxetjyOYiAAAARAUVTwAAAEQF\n",
              "wRMAAABRQfAEAABAVBA8gxQUFOiiiy5SVlaWxo8fr6+++irWQ0IzqqurddVVVykrK0vnnHOOZsyY\n",
              "ocLCQklSZWWlLr30UjmdTo0ZM0YbNmyI8WjRkqVLl8piseitt96SxGOYSFwul+666y45nU6dddZZ\n",
              "uv766yXxNzWRvP322xo7dqzOPfdcjRkzRi+++KIkXofx6p577lFGRoYsFou2b9/uv7y511zcvB4N\n",
              "+E2fPt1YunSpYRiG8frrrxvnn39+bAeEZp08edJYtWqV4fV6DcMwjAULFhhTp041DMMwbr75ZuPX\n",
              "v/61YRiGsWXLFmPo0KFGTU1NjEaKlpSUlBgXXnihkZ2dbbz55puGYfAYJpJ58+YZd911l/+1uG/f\n",
              "PsMw+JuaKLxer9G7d2/js88+MwzD93p0OBzG0aNHeR3Gqby8PKO8vNwYPny4sW3bNv/lzb3m4uX1\n",
              "SPCs88033xgpKSlGbW2tYRi+F+LAgQONgoKCGI8MrZWfn28MHz7cMAzD6N69u//NzzAMY/z48cYH\n",
              "H3wQo5GhOR6Px8jJyTG2bt1qTJ061R88eQwTw7Fjx4yUlBTjyJEj9S7nb2ri8Hq9Rp8+fYy8vDzD\n",
              "MAzjs88+M4YMGWK4XC5eh3EuOHg295qLp9cjU+11ysvLNXjwYNlsNkmSxWJRenq6ysrKYjwytNb8\n",
              "+fN15ZVX6uDBg6qtrdWgQYP812VkZPBYxqknn3xSEydO1Lhx4/yX8RgmjqKiIvXp00ePPvqozj//\n",
              "fE2ePFlr1qzhb2oCsVgseu211zRz5kwNHz5ckyZN0osvvqiqqipehwmkuddcPL0ebVG/RyACHn30\n",
              "URUWFmrNmjU6efJkrIeDVvryyy+1YsUK1o0lMLfbrV27dumMM87Q//zP/2jbtm2aMWOGVq1aFeuh\n",
              "oZXcbrd+85vfaOXKlZoyZYry8/N1xRVX1Fs7CIQLFc86w4YN0759++R2uyVJhmGorKxM6enpMR4Z\n",
              "WvLEE09o5cqVeuedd9StWzf17dtXNptNFRUV/q8pLS3lsYxDH374oUpLS+V0OpWRkaGPP/5Ys2fP\n",
              "1vLly3kME0R6erqsVquuu+46SdJ5552nESNGaNeuXfxNTRDbt2/X3r17NWXKFEnS+PHjlZaWps8/\n",
              "/5zXYQJpLsfEU8YheNYZMGCAxo4dq2XLlkmSVqxYobS0NGVmZsZ4ZGjOk08+qVdffVUffPCBevXq\n",
              "5b/8mmuu0eLFiyVJ+fn52rNnj6ZOnRqjUaIpt99+u/bt26fS0lKVlpYqOztbzz77rG6//XYewwTR\n",
              "r18/5eTk6L333pMklZSUqKSkRBMnTuRvaoIwQ8nXX38tSSosLFRRUZFGjx7N6zCBNJdj4irjRH1V\n",
              "aRzbsWOHkZ2dbTidTmPcuHHG559/HushoRnl5eWGJGPkyJHGOeecY5xzzjnGhAkTDMMwjIqKCmPG\n",
              "jBlGZmamccYZZxhr166N8WjRGsGbi3gME0dRUZExbdo0Y8yYMcbZZ59tvPHGG4Zh8Dc1kbzyyiv+\n",
              "x2/MmDHGyy+/bBgGr8N4NXv2bGPo0KFGUlKSMWDAAGPUqFGGYTT/mouX1yNntQMAACAqmGoHAABA\n",
              "VBA8AQAAEBUETwAAAEQFwRMAAABRQfAEAABAVBA8AQAAEBUETwAAAEQFwRMAAABRQfAEAABAVBA8\n",
              "AQAAEBUETwAAAETF/wcAywoADJf3EgAAAABJRU5ErkJggg==\n",
              "\">\n",
              "      </div>\n",
              "      <script type=\"text/javascript\">\n",
              "        (() => {\n",
              "          const chartElement = document.getElementById(\"chart-b5aeedac-e8e5-4275-a9d1-3ccb8da4a91f\");\n",
              "          async function getCodeForChartHandler(event) {\n",
              "            const chartCodeResponse =  await google.colab.kernel.invokeFunction(\n",
              "                'getCodeForChart', [\"chart-b5aeedac-e8e5-4275-a9d1-3ccb8da4a91f\"], {});\n",
              "            const responseJson = chartCodeResponse.data['application/json'];\n",
              "            await google.colab.notebook.addCell(responseJson.code, 'code');\n",
              "          }\n",
              "          chartElement.onclick = getCodeForChartHandler;\n",
              "        })();\n",
              "      </script>\n",
              "      <style>\n",
              "        .colab-quickchart-chart-with-code  {\n",
              "            display: block;\n",
              "            float: left;\n",
              "            border: 1px solid transparent;\n",
              "        }\n",
              "\n",
              "        .colab-quickchart-chart-with-code:hover {\n",
              "            cursor: pointer;\n",
              "            border: 1px solid #aaa;\n",
              "        }\n",
              "      </style>"
            ]
          },
          "metadata": {}
        },
        {
          "output_type": "stream",
          "name": "stdout",
          "text": [
            "Error: Runtime no longer has a reference to this dataframe, please re-run this cell and try again.\n"
          ]
        }
      ]
    },
    {
      "cell_type": "code",
      "source": [
        "# Label encode the diseases\n",
        "label_encoder = LabelEncoder()\n",
        "df['EncodedDisease'] = label_encoder.fit_transform(df['Disease'])"
      ],
      "metadata": {
        "id": "fov5o-EAqeBy"
      },
      "execution_count": 10,
      "outputs": []
    },
    {
      "cell_type": "code",
      "source": [
        "# Split the dataset into train and test sets\n",
        "train_df, test_df = train_test_split(df, test_size=0.2, random_state=42)"
      ],
      "metadata": {
        "id": "fQnaVlDaqib-"
      },
      "execution_count": 11,
      "outputs": []
    },
    {
      "cell_type": "code",
      "source": [
        "# Tokenize the text data\n",
        "tokenizer = BertTokenizer.from_pretrained(\"bert-base-uncased\")"
      ],
      "metadata": {
        "colab": {
          "base_uri": "https://localhost:8080/",
          "height": 272,
          "referenced_widgets": [
            "ee07389da2c7477280fbf029d86de6a2",
            "5b9feab705c44776998259ea4e1374af",
            "0de125bb3a8e47fcab863b097e8338da",
            "ceef9177518546f98b97a642bcf623a0",
            "426543d4ce504fceaa1b1a1e8ec3499a",
            "782a9f44ba1847bfbe081c5178379d30",
            "3dc7b778f7864b75bceaa10e3eca01ac",
            "37632b23022a47b6b417e921c17e4ef2",
            "dfc68aa9aa50472f9494db9083004022",
            "b7850bb0ec4a442d8282f09cecf3b5d3",
            "134ddc299fe64229bfd135376872695b",
            "5d89a3a40ab5468daa15e1fb2a1795b0",
            "bc480c8c5fbd465295a55812471c9442",
            "9ce3370800f941149acbe0951c9a2e8d",
            "2564e92fac394962ba0f69b2d7896731",
            "9169112c7ab040ebbbb9fa9e8c2aea87",
            "34e4ad90a771486e9a8bde29601967bc",
            "2c9098d22cb94b23aeeaad51605fb83e",
            "95306acc10e44a8385de25d90df6b543",
            "7acee11aad9e420f8756a16a04543dab",
            "437494214eca4f23b4c32f2945d277da",
            "f9e209c64a104d79bd39ca884c12b1b8",
            "179f618e5c5046e58b0b6af8f4783804",
            "d0934c3a4ae54b49a8410eaa235c8001",
            "10540965bc7d48b1833452f5abc068f0",
            "b1440a72f4de4b8f9a4994e6008a6a69",
            "4ffb14bfb73e4102a38f177d1c5cdb61",
            "ab02f7e92d3843e88b074eb46f41459c",
            "8be229a55dd64ea7b476e77527d1fca5",
            "7a146bba7d664558ac1116cd9a97dc91",
            "dd7307b4d3274a64aaa087f6518062c1",
            "a746bcb5204f407896b236653d7535db",
            "cc612319a5024f60a621ddc0320d7bb1",
            "e7e558077b464b2ca7f2d8fe8df6c829",
            "a879968fa21d4826a6592a1d2bd53225",
            "f3d8bb8d78364ea08ec3c9c9679258ac",
            "89b7f311e6f34c00b2c014bffcb77b13",
            "12a1145916624ec3a16593127261773b",
            "e3b48997249144b499b4af3ce5a548d8",
            "eb7a2942cc824f48bdc5a1e2ed813550",
            "6fa6bb753c1c4e559e09ede84e3f07be",
            "e5cf10eaf5b84c8c94140776e904e347",
            "5143e9dc97a9421cab16af1c0d3a09a6",
            "39768160c0ad43a6a0bf401db331cc6f"
          ]
        },
        "id": "iuoTKmAlqYhu",
        "outputId": "a4105c71-9c78-42c5-cf9f-b83c212c313c"
      },
      "execution_count": 12,
      "outputs": [
        {
          "output_type": "stream",
          "name": "stderr",
          "text": [
            "/usr/local/lib/python3.10/dist-packages/huggingface_hub/utils/_token.py:88: UserWarning: \n",
            "The secret `HF_TOKEN` does not exist in your Colab secrets.\n",
            "To authenticate with the Hugging Face Hub, create a token in your settings tab (https://huggingface.co/settings/tokens), set it as secret in your Google Colab and restart your session.\n",
            "You will be able to reuse this secret in all of your notebooks.\n",
            "Please note that authentication is recommended but still optional to access public models or datasets.\n",
            "  warnings.warn(\n"
          ]
        },
        {
          "output_type": "display_data",
          "data": {
            "text/plain": [
              "tokenizer_config.json:   0%|          | 0.00/48.0 [00:00<?, ?B/s]"
            ],
            "application/vnd.jupyter.widget-view+json": {
              "version_major": 2,
              "version_minor": 0,
              "model_id": "ee07389da2c7477280fbf029d86de6a2"
            }
          },
          "metadata": {}
        },
        {
          "output_type": "display_data",
          "data": {
            "text/plain": [
              "vocab.txt:   0%|          | 0.00/232k [00:00<?, ?B/s]"
            ],
            "application/vnd.jupyter.widget-view+json": {
              "version_major": 2,
              "version_minor": 0,
              "model_id": "5d89a3a40ab5468daa15e1fb2a1795b0"
            }
          },
          "metadata": {}
        },
        {
          "output_type": "display_data",
          "data": {
            "text/plain": [
              "tokenizer.json:   0%|          | 0.00/466k [00:00<?, ?B/s]"
            ],
            "application/vnd.jupyter.widget-view+json": {
              "version_major": 2,
              "version_minor": 0,
              "model_id": "179f618e5c5046e58b0b6af8f4783804"
            }
          },
          "metadata": {}
        },
        {
          "output_type": "display_data",
          "data": {
            "text/plain": [
              "config.json:   0%|          | 0.00/570 [00:00<?, ?B/s]"
            ],
            "application/vnd.jupyter.widget-view+json": {
              "version_major": 2,
              "version_minor": 0,
              "model_id": "e7e558077b464b2ca7f2d8fe8df6c829"
            }
          },
          "metadata": {}
        }
      ]
    },
    {
      "cell_type": "code",
      "source": [
        "train_encodings = tokenizer(list(train_df[\"Symptoms\"]), truncation=True, padding=True, return_tensors=\"pt\")\n",
        "test_encodings = tokenizer(list(test_df[\"Symptoms\"]), truncation=True, padding=True, return_tensors=\"pt\")\n"
      ],
      "metadata": {
        "id": "uAl5iX7-qaVV"
      },
      "execution_count": 13,
      "outputs": []
    },
    {
      "cell_type": "code",
      "source": [
        "# Create DataLoader\n",
        "train_dataset = TensorDataset(train_encodings[\"input_ids\"], train_encodings[\"attention_mask\"],\n",
        "                              torch.tensor(list(train_df[\"EncodedDisease\"])))\n",
        "train_dataloader = DataLoader(train_dataset, batch_size=4, shuffle=True)\n"
      ],
      "metadata": {
        "id": "sDxNuIAqrGlq"
      },
      "execution_count": 14,
      "outputs": []
    },
    {
      "cell_type": "code",
      "source": [
        "# Load pre-trained BERT model for sequence classification\n",
        "model = BertForSequenceClassification.from_pretrained(\"bert-base-uncased\", num_labels=len(df[\"Disease\"].unique()))\n"
      ],
      "metadata": {
        "colab": {
          "base_uri": "https://localhost:8080/",
          "height": 105,
          "referenced_widgets": [
            "98128ba5c22247c085b50be22159ed88",
            "2048298e7bc4481184b4e50461948f53",
            "f400a178eb4642d48afa690e7a2e14d5",
            "a494da5e066c4f9bb516aff6bd84e098",
            "fec543a33d104ff8add9a37aa32e8fa7",
            "157614d3a1ad4b79af3ec0f5e68df4ee",
            "c803df4ab6b745cb8ee4e40b815df606",
            "b9fc3eb8c6d64ca2a141fee8d8a13e38",
            "e1259b5fc49a405bbd7a1297f3115215",
            "571b86ea4fe74dfd8c2425da04a382c1",
            "ac7c2602467c494c90a6715b7468cbb3"
          ]
        },
        "id": "_1DOfqN_rIL0",
        "outputId": "c884c0bd-fd3a-4213-ea2d-3bdb59376edb"
      },
      "execution_count": 15,
      "outputs": [
        {
          "output_type": "display_data",
          "data": {
            "text/plain": [
              "model.safetensors:   0%|          | 0.00/440M [00:00<?, ?B/s]"
            ],
            "application/vnd.jupyter.widget-view+json": {
              "version_major": 2,
              "version_minor": 0,
              "model_id": "98128ba5c22247c085b50be22159ed88"
            }
          },
          "metadata": {}
        },
        {
          "output_type": "stream",
          "name": "stderr",
          "text": [
            "Some weights of BertForSequenceClassification were not initialized from the model checkpoint at bert-base-uncased and are newly initialized: ['classifier.bias', 'classifier.weight']\n",
            "You should probably TRAIN this model on a down-stream task to be able to use it for predictions and inference.\n"
          ]
        }
      ]
    },
    {
      "cell_type": "code",
      "source": [
        "# Define optimizer and loss function\n",
        "optimizer = Adam(model.parameters(), lr=2e-5)\n",
        "criterion = CrossEntropyLoss()"
      ],
      "metadata": {
        "id": "0X1Jxcy0rJt9"
      },
      "execution_count": 16,
      "outputs": []
    },
    {
      "cell_type": "code",
      "source": [
        "# Train the model\n",
        "num_epochs = 50\n",
        "\n",
        "for epoch in range(num_epochs):\n",
        "    model.train()\n",
        "    total_loss = 0\n",
        "\n",
        "    for batch in tqdm(train_dataloader, desc=f\"Epoch {epoch + 1}/{num_epochs}\"):\n",
        "        optimizer.zero_grad()\n",
        "        outputs = model(input_ids=batch[0], attention_mask=batch[1], labels=batch[2])\n",
        "        loss = outputs.loss\n",
        "        loss.backward()\n",
        "        optimizer.step()\n",
        "\n",
        "        total_loss += loss.item()\n",
        "\n",
        "    print(f\"Epoch {epoch + 1}/{num_epochs}, Loss: {total_loss}\")"
      ],
      "metadata": {
        "colab": {
          "base_uri": "https://localhost:8080/"
        },
        "id": "QpQJdkSrrNBx",
        "outputId": "6e0815e9-68b2-4e6e-caa2-79eac5413879"
      },
      "execution_count": 17,
      "outputs": [
        {
          "output_type": "stream",
          "name": "stderr",
          "text": [
            "Epoch 1/50: 100%|██████████| 20/20 [00:56<00:00,  2.83s/it]\n"
          ]
        },
        {
          "output_type": "stream",
          "name": "stdout",
          "text": [
            "Epoch 1/50, Loss: 94.02436065673828\n"
          ]
        },
        {
          "output_type": "stream",
          "name": "stderr",
          "text": [
            "Epoch 2/50: 100%|██████████| 20/20 [00:47<00:00,  2.35s/it]\n"
          ]
        },
        {
          "output_type": "stream",
          "name": "stdout",
          "text": [
            "Epoch 2/50, Loss: 92.68683862686157\n"
          ]
        },
        {
          "output_type": "stream",
          "name": "stderr",
          "text": [
            "Epoch 3/50: 100%|██████████| 20/20 [00:45<00:00,  2.29s/it]\n"
          ]
        },
        {
          "output_type": "stream",
          "name": "stdout",
          "text": [
            "Epoch 3/50, Loss: 89.3231029510498\n"
          ]
        },
        {
          "output_type": "stream",
          "name": "stderr",
          "text": [
            "Epoch 4/50: 100%|██████████| 20/20 [00:46<00:00,  2.31s/it]\n"
          ]
        },
        {
          "output_type": "stream",
          "name": "stdout",
          "text": [
            "Epoch 4/50, Loss: 86.81838655471802\n"
          ]
        },
        {
          "output_type": "stream",
          "name": "stderr",
          "text": [
            "Epoch 5/50: 100%|██████████| 20/20 [00:52<00:00,  2.63s/it]\n"
          ]
        },
        {
          "output_type": "stream",
          "name": "stdout",
          "text": [
            "Epoch 5/50, Loss: 85.690669298172\n"
          ]
        },
        {
          "output_type": "stream",
          "name": "stderr",
          "text": [
            "Epoch 6/50: 100%|██████████| 20/20 [00:51<00:00,  2.58s/it]\n"
          ]
        },
        {
          "output_type": "stream",
          "name": "stdout",
          "text": [
            "Epoch 6/50, Loss: 85.38630437850952\n"
          ]
        },
        {
          "output_type": "stream",
          "name": "stderr",
          "text": [
            "Epoch 7/50: 100%|██████████| 20/20 [00:55<00:00,  2.78s/it]\n"
          ]
        },
        {
          "output_type": "stream",
          "name": "stdout",
          "text": [
            "Epoch 7/50, Loss: 82.74191117286682\n"
          ]
        },
        {
          "output_type": "stream",
          "name": "stderr",
          "text": [
            "Epoch 8/50: 100%|██████████| 20/20 [00:45<00:00,  2.27s/it]\n"
          ]
        },
        {
          "output_type": "stream",
          "name": "stdout",
          "text": [
            "Epoch 8/50, Loss: 80.06026983261108\n"
          ]
        },
        {
          "output_type": "stream",
          "name": "stderr",
          "text": [
            "Epoch 9/50: 100%|██████████| 20/20 [00:49<00:00,  2.45s/it]\n"
          ]
        },
        {
          "output_type": "stream",
          "name": "stdout",
          "text": [
            "Epoch 9/50, Loss: 80.17901921272278\n"
          ]
        },
        {
          "output_type": "stream",
          "name": "stderr",
          "text": [
            "Epoch 10/50: 100%|██████████| 20/20 [00:46<00:00,  2.34s/it]\n"
          ]
        },
        {
          "output_type": "stream",
          "name": "stdout",
          "text": [
            "Epoch 10/50, Loss: 78.65707492828369\n"
          ]
        },
        {
          "output_type": "stream",
          "name": "stderr",
          "text": [
            "Epoch 11/50: 100%|██████████| 20/20 [00:45<00:00,  2.29s/it]\n"
          ]
        },
        {
          "output_type": "stream",
          "name": "stdout",
          "text": [
            "Epoch 11/50, Loss: 75.60424566268921\n"
          ]
        },
        {
          "output_type": "stream",
          "name": "stderr",
          "text": [
            "Epoch 12/50: 100%|██████████| 20/20 [00:47<00:00,  2.35s/it]\n"
          ]
        },
        {
          "output_type": "stream",
          "name": "stdout",
          "text": [
            "Epoch 12/50, Loss: 73.78282833099365\n"
          ]
        },
        {
          "output_type": "stream",
          "name": "stderr",
          "text": [
            "Epoch 13/50: 100%|██████████| 20/20 [00:45<00:00,  2.27s/it]\n"
          ]
        },
        {
          "output_type": "stream",
          "name": "stdout",
          "text": [
            "Epoch 13/50, Loss: 72.53190970420837\n"
          ]
        },
        {
          "output_type": "stream",
          "name": "stderr",
          "text": [
            "Epoch 14/50: 100%|██████████| 20/20 [00:46<00:00,  2.31s/it]\n"
          ]
        },
        {
          "output_type": "stream",
          "name": "stdout",
          "text": [
            "Epoch 14/50, Loss: 70.27666759490967\n"
          ]
        },
        {
          "output_type": "stream",
          "name": "stderr",
          "text": [
            "Epoch 15/50: 100%|██████████| 20/20 [00:46<00:00,  2.34s/it]\n"
          ]
        },
        {
          "output_type": "stream",
          "name": "stdout",
          "text": [
            "Epoch 15/50, Loss: 68.64903497695923\n"
          ]
        },
        {
          "output_type": "stream",
          "name": "stderr",
          "text": [
            "Epoch 16/50: 100%|██████████| 20/20 [00:45<00:00,  2.25s/it]\n"
          ]
        },
        {
          "output_type": "stream",
          "name": "stdout",
          "text": [
            "Epoch 16/50, Loss: 65.72424602508545\n"
          ]
        },
        {
          "output_type": "stream",
          "name": "stderr",
          "text": [
            "Epoch 17/50: 100%|██████████| 20/20 [00:46<00:00,  2.31s/it]\n"
          ]
        },
        {
          "output_type": "stream",
          "name": "stdout",
          "text": [
            "Epoch 17/50, Loss: 65.4462537765503\n"
          ]
        },
        {
          "output_type": "stream",
          "name": "stderr",
          "text": [
            "Epoch 18/50: 100%|██████████| 20/20 [00:46<00:00,  2.34s/it]\n"
          ]
        },
        {
          "output_type": "stream",
          "name": "stdout",
          "text": [
            "Epoch 18/50, Loss: 63.22692799568176\n"
          ]
        },
        {
          "output_type": "stream",
          "name": "stderr",
          "text": [
            "Epoch 19/50: 100%|██████████| 20/20 [00:50<00:00,  2.52s/it]\n"
          ]
        },
        {
          "output_type": "stream",
          "name": "stdout",
          "text": [
            "Epoch 19/50, Loss: 62.3571891784668\n"
          ]
        },
        {
          "output_type": "stream",
          "name": "stderr",
          "text": [
            "Epoch 20/50: 100%|██████████| 20/20 [00:44<00:00,  2.24s/it]\n"
          ]
        },
        {
          "output_type": "stream",
          "name": "stdout",
          "text": [
            "Epoch 20/50, Loss: 59.68550443649292\n"
          ]
        },
        {
          "output_type": "stream",
          "name": "stderr",
          "text": [
            "Epoch 21/50: 100%|██████████| 20/20 [00:46<00:00,  2.30s/it]\n"
          ]
        },
        {
          "output_type": "stream",
          "name": "stdout",
          "text": [
            "Epoch 21/50, Loss: 58.27664375305176\n"
          ]
        },
        {
          "output_type": "stream",
          "name": "stderr",
          "text": [
            "Epoch 22/50: 100%|██████████| 20/20 [00:44<00:00,  2.23s/it]\n"
          ]
        },
        {
          "output_type": "stream",
          "name": "stdout",
          "text": [
            "Epoch 22/50, Loss: 56.01662468910217\n"
          ]
        },
        {
          "output_type": "stream",
          "name": "stderr",
          "text": [
            "Epoch 23/50: 100%|██████████| 20/20 [00:45<00:00,  2.28s/it]\n"
          ]
        },
        {
          "output_type": "stream",
          "name": "stdout",
          "text": [
            "Epoch 23/50, Loss: 54.896607637405396\n"
          ]
        },
        {
          "output_type": "stream",
          "name": "stderr",
          "text": [
            "Epoch 24/50: 100%|██████████| 20/20 [00:44<00:00,  2.24s/it]\n"
          ]
        },
        {
          "output_type": "stream",
          "name": "stdout",
          "text": [
            "Epoch 24/50, Loss: 53.17771053314209\n"
          ]
        },
        {
          "output_type": "stream",
          "name": "stderr",
          "text": [
            "Epoch 25/50: 100%|██████████| 20/20 [00:44<00:00,  2.22s/it]\n"
          ]
        },
        {
          "output_type": "stream",
          "name": "stdout",
          "text": [
            "Epoch 25/50, Loss: 52.098512172698975\n"
          ]
        },
        {
          "output_type": "stream",
          "name": "stderr",
          "text": [
            "Epoch 26/50: 100%|██████████| 20/20 [00:45<00:00,  2.29s/it]\n"
          ]
        },
        {
          "output_type": "stream",
          "name": "stdout",
          "text": [
            "Epoch 26/50, Loss: 50.15094327926636\n"
          ]
        },
        {
          "output_type": "stream",
          "name": "stderr",
          "text": [
            "Epoch 27/50: 100%|██████████| 20/20 [00:45<00:00,  2.30s/it]\n"
          ]
        },
        {
          "output_type": "stream",
          "name": "stdout",
          "text": [
            "Epoch 27/50, Loss: 49.29343628883362\n"
          ]
        },
        {
          "output_type": "stream",
          "name": "stderr",
          "text": [
            "Epoch 28/50: 100%|██████████| 20/20 [00:45<00:00,  2.27s/it]\n"
          ]
        },
        {
          "output_type": "stream",
          "name": "stdout",
          "text": [
            "Epoch 28/50, Loss: 47.62171804904938\n"
          ]
        },
        {
          "output_type": "stream",
          "name": "stderr",
          "text": [
            "Epoch 29/50: 100%|██████████| 20/20 [00:45<00:00,  2.27s/it]\n"
          ]
        },
        {
          "output_type": "stream",
          "name": "stdout",
          "text": [
            "Epoch 29/50, Loss: 45.944549322128296\n"
          ]
        },
        {
          "output_type": "stream",
          "name": "stderr",
          "text": [
            "Epoch 30/50: 100%|██████████| 20/20 [00:45<00:00,  2.28s/it]\n"
          ]
        },
        {
          "output_type": "stream",
          "name": "stdout",
          "text": [
            "Epoch 30/50, Loss: 44.0393682718277\n"
          ]
        },
        {
          "output_type": "stream",
          "name": "stderr",
          "text": [
            "Epoch 31/50: 100%|██████████| 20/20 [00:44<00:00,  2.21s/it]\n"
          ]
        },
        {
          "output_type": "stream",
          "name": "stdout",
          "text": [
            "Epoch 31/50, Loss: 43.08841371536255\n"
          ]
        },
        {
          "output_type": "stream",
          "name": "stderr",
          "text": [
            "Epoch 32/50: 100%|██████████| 20/20 [00:44<00:00,  2.21s/it]\n"
          ]
        },
        {
          "output_type": "stream",
          "name": "stdout",
          "text": [
            "Epoch 32/50, Loss: 41.31469225883484\n"
          ]
        },
        {
          "output_type": "stream",
          "name": "stderr",
          "text": [
            "Epoch 33/50: 100%|██████████| 20/20 [00:46<00:00,  2.32s/it]\n"
          ]
        },
        {
          "output_type": "stream",
          "name": "stdout",
          "text": [
            "Epoch 33/50, Loss: 39.96432602405548\n"
          ]
        },
        {
          "output_type": "stream",
          "name": "stderr",
          "text": [
            "Epoch 34/50: 100%|██████████| 20/20 [00:45<00:00,  2.28s/it]\n"
          ]
        },
        {
          "output_type": "stream",
          "name": "stdout",
          "text": [
            "Epoch 34/50, Loss: 38.24849331378937\n"
          ]
        },
        {
          "output_type": "stream",
          "name": "stderr",
          "text": [
            "Epoch 35/50: 100%|██████████| 20/20 [00:44<00:00,  2.23s/it]\n"
          ]
        },
        {
          "output_type": "stream",
          "name": "stdout",
          "text": [
            "Epoch 35/50, Loss: 37.53143322467804\n"
          ]
        },
        {
          "output_type": "stream",
          "name": "stderr",
          "text": [
            "Epoch 36/50: 100%|██████████| 20/20 [00:46<00:00,  2.32s/it]\n"
          ]
        },
        {
          "output_type": "stream",
          "name": "stdout",
          "text": [
            "Epoch 36/50, Loss: 36.325223445892334\n"
          ]
        },
        {
          "output_type": "stream",
          "name": "stderr",
          "text": [
            "Epoch 37/50: 100%|██████████| 20/20 [00:44<00:00,  2.25s/it]\n"
          ]
        },
        {
          "output_type": "stream",
          "name": "stdout",
          "text": [
            "Epoch 37/50, Loss: 34.97196638584137\n"
          ]
        },
        {
          "output_type": "stream",
          "name": "stderr",
          "text": [
            "Epoch 38/50: 100%|██████████| 20/20 [00:45<00:00,  2.27s/it]\n"
          ]
        },
        {
          "output_type": "stream",
          "name": "stdout",
          "text": [
            "Epoch 38/50, Loss: 33.216177463531494\n"
          ]
        },
        {
          "output_type": "stream",
          "name": "stderr",
          "text": [
            "Epoch 39/50: 100%|██████████| 20/20 [00:46<00:00,  2.34s/it]\n"
          ]
        },
        {
          "output_type": "stream",
          "name": "stdout",
          "text": [
            "Epoch 39/50, Loss: 32.680559396743774\n"
          ]
        },
        {
          "output_type": "stream",
          "name": "stderr",
          "text": [
            "Epoch 40/50: 100%|██████████| 20/20 [00:45<00:00,  2.26s/it]\n"
          ]
        },
        {
          "output_type": "stream",
          "name": "stdout",
          "text": [
            "Epoch 40/50, Loss: 31.42897069454193\n"
          ]
        },
        {
          "output_type": "stream",
          "name": "stderr",
          "text": [
            "Epoch 41/50: 100%|██████████| 20/20 [00:45<00:00,  2.26s/it]\n"
          ]
        },
        {
          "output_type": "stream",
          "name": "stdout",
          "text": [
            "Epoch 41/50, Loss: 29.892828583717346\n"
          ]
        },
        {
          "output_type": "stream",
          "name": "stderr",
          "text": [
            "Epoch 42/50: 100%|██████████| 20/20 [00:46<00:00,  2.34s/it]\n"
          ]
        },
        {
          "output_type": "stream",
          "name": "stdout",
          "text": [
            "Epoch 42/50, Loss: 29.424392104148865\n"
          ]
        },
        {
          "output_type": "stream",
          "name": "stderr",
          "text": [
            "Epoch 43/50: 100%|██████████| 20/20 [00:44<00:00,  2.23s/it]\n"
          ]
        },
        {
          "output_type": "stream",
          "name": "stdout",
          "text": [
            "Epoch 43/50, Loss: 28.241414546966553\n"
          ]
        },
        {
          "output_type": "stream",
          "name": "stderr",
          "text": [
            "Epoch 44/50: 100%|██████████| 20/20 [00:46<00:00,  2.31s/it]\n"
          ]
        },
        {
          "output_type": "stream",
          "name": "stdout",
          "text": [
            "Epoch 44/50, Loss: 27.34312617778778\n"
          ]
        },
        {
          "output_type": "stream",
          "name": "stderr",
          "text": [
            "Epoch 45/50: 100%|██████████| 20/20 [00:45<00:00,  2.27s/it]\n"
          ]
        },
        {
          "output_type": "stream",
          "name": "stdout",
          "text": [
            "Epoch 45/50, Loss: 26.244281947612762\n"
          ]
        },
        {
          "output_type": "stream",
          "name": "stderr",
          "text": [
            "Epoch 46/50: 100%|██████████| 20/20 [00:44<00:00,  2.22s/it]\n"
          ]
        },
        {
          "output_type": "stream",
          "name": "stdout",
          "text": [
            "Epoch 46/50, Loss: 25.539703905582428\n"
          ]
        },
        {
          "output_type": "stream",
          "name": "stderr",
          "text": [
            "Epoch 47/50: 100%|██████████| 20/20 [00:47<00:00,  2.36s/it]\n"
          ]
        },
        {
          "output_type": "stream",
          "name": "stdout",
          "text": [
            "Epoch 47/50, Loss: 23.830095052719116\n"
          ]
        },
        {
          "output_type": "stream",
          "name": "stderr",
          "text": [
            "Epoch 48/50: 100%|██████████| 20/20 [00:45<00:00,  2.28s/it]\n"
          ]
        },
        {
          "output_type": "stream",
          "name": "stdout",
          "text": [
            "Epoch 48/50, Loss: 23.29699218273163\n"
          ]
        },
        {
          "output_type": "stream",
          "name": "stderr",
          "text": [
            "Epoch 49/50: 100%|██████████| 20/20 [00:44<00:00,  2.23s/it]\n"
          ]
        },
        {
          "output_type": "stream",
          "name": "stdout",
          "text": [
            "Epoch 49/50, Loss: 22.776617348194122\n"
          ]
        },
        {
          "output_type": "stream",
          "name": "stderr",
          "text": [
            "Epoch 50/50: 100%|██████████| 20/20 [00:46<00:00,  2.32s/it]"
          ]
        },
        {
          "output_type": "stream",
          "name": "stdout",
          "text": [
            "Epoch 50/50, Loss: 22.028889894485474\n"
          ]
        },
        {
          "output_type": "stream",
          "name": "stderr",
          "text": [
            "\n"
          ]
        }
      ]
    },
    {
      "cell_type": "code",
      "source": [
        "# Save the fine-tuned model\n",
        "model.save_pretrained(\"fine_tuned_bert_disease_model\")"
      ],
      "metadata": {
        "id": "ns5nXVVLrPc8"
      },
      "execution_count": 18,
      "outputs": []
    },
    {
      "cell_type": "code",
      "source": [
        "### prediciton###\n",
        "import torch\n",
        "\n",
        "# Load the fine-tuned model\n",
        "# model = BertForSequenceClassification.from_pretrained(\"fine_tuned_bert_disease_model\")\n",
        "model = BertForSequenceClassification.from_pretrained(\"fine_tuned_bert_disease_model\", num_labels=len(df[\"Disease\"].unique()))\n"
      ],
      "metadata": {
        "id": "cOfgWazkrhXo"
      },
      "execution_count": 19,
      "outputs": []
    },
    {
      "cell_type": "code",
      "source": [],
      "metadata": {
        "id": "FxytFFuAse2e"
      },
      "execution_count": 19,
      "outputs": []
    },
    {
      "cell_type": "code",
      "source": [
        "# Tokenize user input symptoms\n",
        "user_input_symptoms = \"Your input symptoms here\"  # Replace with the user's symptoms\n",
        "tokenizer = BertTokenizer.from_pretrained(\"bert-base-uncased\")\n",
        "input_encoding = tokenizer(user_input_symptoms, truncation=True, padding=True, return_tensors=\"pt\")\n"
      ],
      "metadata": {
        "id": "6khdSPxDrnc7"
      },
      "execution_count": 20,
      "outputs": []
    },
    {
      "cell_type": "code",
      "source": [
        "import torch\n",
        "from transformers import BertTokenizer, BertForSequenceClassification\n",
        "\n",
        "# Load the fine-tuned model\n",
        "model = BertForSequenceClassification.from_pretrained(\"fine_tuned_bert_disease_model\")\n",
        "tokenizer = BertTokenizer.from_pretrained(\"bert-base-uncased\")\n",
        "\n",
        "# User input symptoms\n",
        "user_input_symptoms = input(\"Enter the symptoms: \")\n",
        "\n",
        "# Tokenize and preprocess user input\n",
        "input_encoding = tokenizer(user_input_symptoms, truncation=True, padding=True, return_tensors=\"pt\")\n",
        "\n",
        "# Make the prediction\n",
        "with torch.no_grad():\n",
        "    model.eval()\n",
        "    output = model(**input_encoding)\n",
        "    predicted_label = torch.argmax(output.logits).item()\n",
        "\n",
        "# Convert the predicted label back to the original disease\n",
        "predicted_disease = label_encoder.inverse_transform([predicted_label])[0]\n",
        "\n",
        "print(f\"Predicted Disease: {predicted_disease}\")\n"
      ],
      "metadata": {
        "colab": {
          "base_uri": "https://localhost:8080/"
        },
        "id": "TWJLYBpbrppp",
        "outputId": "debe3e39-1333-4019-a334-39625f992bee"
      },
      "execution_count": 30,
      "outputs": [
        {
          "output_type": "stream",
          "name": "stdout",
          "text": [
            "Enter the symptoms: mood swings, difficulty sleeping\n",
            "Predicted Disease: Bipolar disorder\n"
          ]
        }
      ]
    },
    {
      "cell_type": "code",
      "source": [
        "predicted_disease"
      ],
      "metadata": {
        "colab": {
          "base_uri": "https://localhost:8080/",
          "height": 35
        },
        "id": "scvxSSW0kOnM",
        "outputId": "57f57b5a-a589-481e-8166-fdb848c25552"
      },
      "execution_count": 31,
      "outputs": [
        {
          "output_type": "execute_result",
          "data": {
            "text/plain": [
              "'Bipolar disorder'"
            ],
            "application/vnd.google.colaboratory.intrinsic+json": {
              "type": "string"
            }
          },
          "metadata": {},
          "execution_count": 31
        }
      ]
    },
    {
      "cell_type": "code",
      "source": [
        "## getting the remedy\n",
        "# Read remedies from text file and create a mapping\n",
        "def read_remedies(filename):\n",
        "    disease_remedies = {}\n",
        "    with open(filename, 'r') as file:\n",
        "        symptoms = None\n",
        "        disease = None\n",
        "        remedy = None\n",
        "        for line in file:\n",
        "            line = line.strip()\n",
        "            if line.startswith(\"Symptoms:\"):\n",
        "                symptoms = line[len(\"Symptoms:\"):].strip()\n",
        "            elif line.startswith(\"Disease:\"):\n",
        "                disease = line[len(\"Disease:\"):].strip()\n",
        "            elif line.startswith(\"Remedy:\"):\n",
        "                remedy = line[len(\"Remedy:\"):].strip()\n",
        "                if symptoms and disease and remedy:\n",
        "                    disease_remedies[disease] = {\n",
        "                        \"Symptoms\": symptoms,\n",
        "                        \"Remedy\": remedy\n",
        "                    }\n",
        "                    # Reset variables for next entry\n",
        "                    symptoms = None\n",
        "                    disease = None\n",
        "                    remedy = None\n",
        "    return disease_remedies\n",
        "\n",
        "# Example function to get remedy for predicted disease\n",
        "def get_remedy(predict_disease, disease_remedies):\n",
        "    return disease_remedies.get(predict_disease, {\"Remedy\": \"Remedy not found\"})[\"Remedy\"]\n",
        "\n",
        "# Example usage\n",
        "filename = '/content/draft-1  (3).txt'  # Replace with the path to your text file\n",
        "disease_remedies = read_remedies(filename)\n",
        "\n",
        "# Example predicted disease (replace this with the actual predicted disease)\n",
        "predict_disease = predicted_disease\n",
        "\n",
        "# Get the remedy for the predicted disease\n",
        "remedy = get_remedy(predict_disease, disease_remedies)\n",
        "\n",
        "# Display the remedy\n",
        "print(\"Remedy for\", predict_disease, \"is:\", remedy)\n"
      ],
      "metadata": {
        "colab": {
          "base_uri": "https://localhost:8080/"
        },
        "id": "cD_7-hMsa2m4",
        "outputId": "f572e6fa-5738-4eab-a79a-1a41824f6b42"
      },
      "execution_count": 32,
      "outputs": [
        {
          "output_type": "stream",
          "name": "stdout",
          "text": [
            "Remedy for Bipolar disorder is: Establishing a regular sleep schedule and engaging in daily exercise can help stabilize mood. Mindfulness-based practices like meditation or deep breathing exercises may also provide relief. Avoiding alcohol and caffeine is important, as they can trigger mood swings.\n"
          ]
        }
      ]
    },
    {
      "cell_type": "code",
      "source": [
        "!pip install googletrans==4.0.0-rc1"
      ],
      "metadata": {
        "colab": {
          "base_uri": "https://localhost:8080/",
          "height": 974
        },
        "id": "_0ipp1mokeB-",
        "outputId": "4f3fdf90-08a3-4ab3-8ad6-8213698e92b0"
      },
      "execution_count": 33,
      "outputs": [
        {
          "output_type": "stream",
          "name": "stdout",
          "text": [
            "Collecting googletrans==4.0.0-rc1\n",
            "  Downloading googletrans-4.0.0rc1.tar.gz (20 kB)\n",
            "  Preparing metadata (setup.py) ... \u001b[?25l\u001b[?25hdone\n",
            "Collecting httpx==0.13.3 (from googletrans==4.0.0-rc1)\n",
            "  Downloading httpx-0.13.3-py3-none-any.whl (55 kB)\n",
            "\u001b[2K     \u001b[90m━━━━━━━━━━━━━━━━━━━━━━━━━━━━━━━━━━━━━━━━\u001b[0m \u001b[32m55.1/55.1 kB\u001b[0m \u001b[31m2.2 MB/s\u001b[0m eta \u001b[36m0:00:00\u001b[0m\n",
            "\u001b[?25hRequirement already satisfied: certifi in /usr/local/lib/python3.10/dist-packages (from httpx==0.13.3->googletrans==4.0.0-rc1) (2024.2.2)\n",
            "Collecting hstspreload (from httpx==0.13.3->googletrans==4.0.0-rc1)\n",
            "  Downloading hstspreload-2024.3.1-py3-none-any.whl (1.1 MB)\n",
            "\u001b[2K     \u001b[90m━━━━━━━━━━━━━━━━━━━━━━━━━━━━━━━━━━━━━━━━\u001b[0m \u001b[32m1.1/1.1 MB\u001b[0m \u001b[31m7.3 MB/s\u001b[0m eta \u001b[36m0:00:00\u001b[0m\n",
            "\u001b[?25hRequirement already satisfied: sniffio in /usr/local/lib/python3.10/dist-packages (from httpx==0.13.3->googletrans==4.0.0-rc1) (1.3.1)\n",
            "Collecting chardet==3.* (from httpx==0.13.3->googletrans==4.0.0-rc1)\n",
            "  Downloading chardet-3.0.4-py2.py3-none-any.whl (133 kB)\n",
            "\u001b[2K     \u001b[90m━━━━━━━━━━━━━━━━━━━━━━━━━━━━━━━━━━━━━━━━\u001b[0m \u001b[32m133.4/133.4 kB\u001b[0m \u001b[31m11.1 MB/s\u001b[0m eta \u001b[36m0:00:00\u001b[0m\n",
            "\u001b[?25hCollecting idna==2.* (from httpx==0.13.3->googletrans==4.0.0-rc1)\n",
            "  Downloading idna-2.10-py2.py3-none-any.whl (58 kB)\n",
            "\u001b[2K     \u001b[90m━━━━━━━━━━━━━━━━━━━━━━━━━━━━━━━━━━━━━━━━\u001b[0m \u001b[32m58.8/58.8 kB\u001b[0m \u001b[31m6.2 MB/s\u001b[0m eta \u001b[36m0:00:00\u001b[0m\n",
            "\u001b[?25hCollecting rfc3986<2,>=1.3 (from httpx==0.13.3->googletrans==4.0.0-rc1)\n",
            "  Downloading rfc3986-1.5.0-py2.py3-none-any.whl (31 kB)\n",
            "Collecting httpcore==0.9.* (from httpx==0.13.3->googletrans==4.0.0-rc1)\n",
            "  Downloading httpcore-0.9.1-py3-none-any.whl (42 kB)\n",
            "\u001b[2K     \u001b[90m━━━━━━━━━━━━━━━━━━━━━━━━━━━━━━━━━━━━━━━━\u001b[0m \u001b[32m42.6/42.6 kB\u001b[0m \u001b[31m4.4 MB/s\u001b[0m eta \u001b[36m0:00:00\u001b[0m\n",
            "\u001b[?25hCollecting h11<0.10,>=0.8 (from httpcore==0.9.*->httpx==0.13.3->googletrans==4.0.0-rc1)\n",
            "  Downloading h11-0.9.0-py2.py3-none-any.whl (53 kB)\n",
            "\u001b[2K     \u001b[90m━━━━━━━━━━━━━━━━━━━━━━━━━━━━━━━━━━━━━━━━\u001b[0m \u001b[32m53.6/53.6 kB\u001b[0m \u001b[31m5.5 MB/s\u001b[0m eta \u001b[36m0:00:00\u001b[0m\n",
            "\u001b[?25hCollecting h2==3.* (from httpcore==0.9.*->httpx==0.13.3->googletrans==4.0.0-rc1)\n",
            "  Downloading h2-3.2.0-py2.py3-none-any.whl (65 kB)\n",
            "\u001b[2K     \u001b[90m━━━━━━━━━━━━━━━━━━━━━━━━━━━━━━━━━━━━━━━━\u001b[0m \u001b[32m65.0/65.0 kB\u001b[0m \u001b[31m7.5 MB/s\u001b[0m eta \u001b[36m0:00:00\u001b[0m\n",
            "\u001b[?25hCollecting hyperframe<6,>=5.2.0 (from h2==3.*->httpcore==0.9.*->httpx==0.13.3->googletrans==4.0.0-rc1)\n",
            "  Downloading hyperframe-5.2.0-py2.py3-none-any.whl (12 kB)\n",
            "Collecting hpack<4,>=3.0 (from h2==3.*->httpcore==0.9.*->httpx==0.13.3->googletrans==4.0.0-rc1)\n",
            "  Downloading hpack-3.0.0-py2.py3-none-any.whl (38 kB)\n",
            "Building wheels for collected packages: googletrans\n",
            "  Building wheel for googletrans (setup.py) ... \u001b[?25l\u001b[?25hdone\n",
            "  Created wheel for googletrans: filename=googletrans-4.0.0rc1-py3-none-any.whl size=17396 sha256=0e93480327d0d0a02e5430af7ee0f8946b9f1be851839e8ceba233968a3647f9\n",
            "  Stored in directory: /root/.cache/pip/wheels/c0/59/9f/7372f0cf70160fe61b528532e1a7c8498c4becd6bcffb022de\n",
            "Successfully built googletrans\n",
            "Installing collected packages: rfc3986, hyperframe, hpack, h11, chardet, idna, hstspreload, h2, httpcore, httpx, googletrans\n",
            "  Attempting uninstall: chardet\n",
            "    Found existing installation: chardet 5.2.0\n",
            "    Uninstalling chardet-5.2.0:\n",
            "      Successfully uninstalled chardet-5.2.0\n",
            "  Attempting uninstall: idna\n",
            "    Found existing installation: idna 3.6\n",
            "    Uninstalling idna-3.6:\n",
            "      Successfully uninstalled idna-3.6\n",
            "Successfully installed chardet-3.0.4 googletrans-4.0.0rc1 h11-0.9.0 h2-3.2.0 hpack-3.0.0 hstspreload-2024.3.1 httpcore-0.9.1 httpx-0.13.3 hyperframe-5.2.0 idna-2.10 rfc3986-1.5.0\n"
          ]
        },
        {
          "output_type": "display_data",
          "data": {
            "application/vnd.colab-display-data+json": {
              "pip_warning": {
                "packages": [
                  "chardet",
                  "idna"
                ]
              },
              "id": "50caf7cd52c34e2eb3e7bec0b4c97087"
            }
          },
          "metadata": {}
        }
      ]
    },
    {
      "cell_type": "code",
      "source": [
        "### translator\n",
        "from googletrans import Translator\n",
        "\n",
        "# Read remedies from text file and create a mapping\n",
        "def read_remedies(filename):\n",
        "    disease_remedies = {}\n",
        "    with open(filename, 'r') as file:\n",
        "        symptoms = None\n",
        "        disease = None\n",
        "        remedy = None\n",
        "        for line in file:\n",
        "            line = line.strip()\n",
        "            if line.startswith(\"Symptoms:\"):\n",
        "                symptoms = line[len(\"Symptoms:\"):].strip()\n",
        "            elif line.startswith(\"Disease:\"):\n",
        "                disease = line[len(\"Disease:\"):].strip()\n",
        "            elif line.startswith(\"Remedy:\"):\n",
        "                remedy = line[len(\"Remedy:\"):].strip()\n",
        "                if symptoms and disease and remedy:\n",
        "                    disease_remedies[disease] = {\n",
        "                        \"Symptoms\": symptoms,\n",
        "                        \"Remedy\": remedy\n",
        "                    }\n",
        "                    # Reset variables for next entry\n",
        "                    symptoms = None\n",
        "                    disease = None\n",
        "                    remedy = None\n",
        "    return disease_remedies\n",
        "\n",
        "# Example function to get remedy for predicted disease\n",
        "def get_remedy(predicted_disease, disease_remedies):\n",
        "    return disease_remedies.get(predicted_disease, {\"Remedy\": \"Remedy not found\"})[\"Remedy\"]\n",
        "\n",
        "# Translate text to Spanish\n",
        "def translate_to_spanish(text):\n",
        "    translator = Translator()\n",
        "    translated_text = translator.translate(text, src='en', dest='es')\n",
        "    return translated_text.text\n",
        "\n",
        "# Example usage\n",
        "filename = '/content/draft-1  (3).txt'  # Replace with the path to your text file\n",
        "disease_remedies = read_remedies(filename)\n",
        "\n",
        "# Example predicted disease (replace this with the actual predicted disease)\n",
        "# predicted_disease = \"Fever\"\n",
        "\n",
        "# Get the remedy for the predicted disease\n",
        "remedy = get_remedy(predicted_disease, disease_remedies)\n",
        "\n",
        "# Translate predicted disease and remedy to Spanish\n",
        "translated_disease_en = predicted_disease\n",
        "translated_remedy_en = remedy\n",
        "translated_disease_es = translate_to_spanish(predicted_disease)\n",
        "translated_remedy_es = translate_to_spanish(remedy)\n",
        "\n",
        "# Display the output in both English and Spanish\n",
        "print(\"Remedy for\", translated_disease_en, \"in English is:\", translated_remedy_en)\n",
        "print(\"Remedy for\", translated_disease_es, \"in Spanish is:\", translated_remedy_es)\n"
      ],
      "metadata": {
        "colab": {
          "base_uri": "https://localhost:8080/"
        },
        "id": "kgTQSfKVbaUg",
        "outputId": "6746c180-6747-4231-dee1-bae3d6f35534"
      },
      "execution_count": 35,
      "outputs": [
        {
          "output_type": "stream",
          "name": "stdout",
          "text": [
            "Remedy for Bipolar disorder in English is: Establishing a regular sleep schedule and engaging in daily exercise can help stabilize mood. Mindfulness-based practices like meditation or deep breathing exercises may also provide relief. Avoiding alcohol and caffeine is important, as they can trigger mood swings.\n",
            "Remedy for Trastorno bipolar in Spanish is: Establecer un horario de sueño regular y participar en el ejercicio diario puede ayudar a estabilizar el estado de ánimo.Las prácticas basadas en la atención plena como la meditación o los ejercicios de respiración profunda también pueden proporcionar alivio.Evitar el alcohol y la cafeína es importante, ya que pueden provocar cambios de humor.\n"
          ]
        }
      ]
    },
    {
      "cell_type": "code",
      "source": [],
      "metadata": {
        "id": "Ak-Z30CvbaQm"
      },
      "execution_count": null,
      "outputs": []
    },
    {
      "cell_type": "code",
      "source": [
        "print()"
      ],
      "metadata": {
        "id": "lKATIiHYWByb"
      },
      "execution_count": null,
      "outputs": []
    },
    {
      "cell_type": "code",
      "source": [
        "# # Assuming you already have a test_df DataFrame and tokenizer loaded\n",
        "\n",
        "# # Tokenize the test data\n",
        "# test_encodings = tokenizer(list(test_df[\"Symptoms\"]), truncation=True, padding=True, return_tensors=\"pt\")\n",
        "\n",
        "# # Create DataLoader for the test set\n",
        "# test_dataset = TensorDataset(test_encodings[\"input_ids\"], test_encodings[\"attention_mask\"],\n",
        "#                               torch.tensor(list(test_df[\"EncodedDisease\"])))\n",
        "# test_dataloader = DataLoader(test_dataset, batch_size=4, shuffle=False)\n",
        "\n",
        "# # Evaluate the model on the test set\n",
        "# model.eval()\n",
        "# total_correct = 0\n",
        "# total_samples = 0\n",
        "\n",
        "# with torch.no_grad():\n",
        "#     for batch in tqdm(test_dataloader, desc=\"Evaluating\"):\n",
        "#         outputs = model(input_ids=batch[0], attention_mask=batch[1], labels=batch[2])\n",
        "#         predicted_labels = torch.argmax(outputs.logits, dim=1)\n",
        "#         total_correct += (predicted_labels == batch[2]).sum().item()\n",
        "#         total_samples += len(batch[2])\n",
        "\n",
        "# # Calculate accuracy\n",
        "# accuracy = total_correct / total_samples\n",
        "# print(f\"Accuracy on the test set: {accuracy * 100:.2f}%\")\n"
      ],
      "metadata": {
        "id": "k0qzqrKnr9IA"
      },
      "execution_count": 36,
      "outputs": []
    },
    {
      "cell_type": "code",
      "source": [],
      "metadata": {
        "id": "Hj9wvxn4sIXI"
      },
      "execution_count": null,
      "outputs": []
    }
  ]
}